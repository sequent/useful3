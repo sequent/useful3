{
 "cells": [
  {
   "cell_type": "code",
   "execution_count": 2,
   "metadata": {},
   "outputs": [],
   "source": [
    "# \"\"\"\n",
    "\n",
    "# 1.) Read in from ../Documents/fx_data (use EURJPY)\n",
    "# 2.) Create class for backtester\n",
    "# 3.) Create other class for engulf levels.\n",
    "#     a.) Each 4h engulf inst class\n",
    "#     b.) drill down into 15m / 5m / 1m (multiple levels)\n",
    "#     c.) note time and # of touches\n",
    "#     d.) default amt to deactivate level\n",
    "#     e.) track MAE/MFE after activation\n",
    "# 4.) Create backtester class\n",
    "#     a.) for each bar, check if any active levels were hit\n",
    "#     b.) note within those levels (the level class)\n",
    "#     c.) otherwise iterate through activated levels and note MFE/MAE\n",
    "#     d.) if level is hit more than threshold, deactivate level class\n",
    "# 5.) at the end check everything, look at \"alignments\", dow, time of day, range (1h 4h 1d 1w 1m) prior, get stats\n",
    "\n",
    "# How to handle resampling? (want to check on 1m, 5m, 15m, 4h, 1d)\n",
    "\n",
    "# \"\"\""
   ]
  },
  {
   "cell_type": "code",
   "execution_count": 3,
   "metadata": {},
   "outputs": [],
   "source": [
    "import os\n",
    "import pandas as pd\n",
    "from tqdm.notebook import tqdm\n",
    "from datetime import datetime\n",
    "import ciso8601"
   ]
  },
  {
   "cell_type": "code",
   "execution_count": 4,
   "metadata": {},
   "outputs": [],
   "source": [
    "def process(data):\n",
    "    data['mid'] = (data[1]+data[2])/2\n",
    "    data.drop(columns=[1, 2, 3, 4], inplace=True)\n",
    "    data.columns = ['time', 'mid']\n",
    "    data['time'] = data['time'].apply(lambda x: ciso8601.parse_datetime(x))\n",
    "    data.set_index('time', inplace=True)\n",
    "    return data"
   ]
  },
  {
   "cell_type": "code",
   "execution_count": 16,
   "metadata": {},
   "outputs": [
    {
     "data": {
      "application/vnd.jupyter.widget-view+json": {
       "model_id": "70fbbc2db7844fc884e9d59a854f19a5",
       "version_major": 2,
       "version_minor": 0
      },
      "text/plain": [
       "HBox(children=(HTML(value=''), FloatProgress(value=0.0, max=15.0), HTML(value='')))"
      ]
     },
     "metadata": {},
     "output_type": "display_data"
    },
    {
     "name": "stdout",
     "output_type": "stream",
     "text": [
      "\n"
     ]
    }
   ],
   "source": [
    "path = '../fx_data/'\n",
    "inst = 'EURJPY'\n",
    "data = pd.DataFrame()\n",
    "for _ in tqdm([_ for _ in os.listdir(path) if inst in _]):\n",
    "    if os.path.getsize(path + _) > 0:\n",
    "        n = pd.read_csv(path + _, header=None)\n",
    "        n = process(n)\n",
    "        n = n['mid'].resample('1T').ohlc()\n",
    "        data = pd.concat([\n",
    "            data,\n",
    "            n\n",
    "        ])\n",
    "        data = data.drop_duplicates()"
   ]
  },
  {
   "cell_type": "code",
   "execution_count": 20,
   "metadata": {},
   "outputs": [
    {
     "data": {
      "text/plain": [
       "<matplotlib.axes._subplots.AxesSubplot at 0x17bcba1cd90>"
      ]
     },
     "execution_count": 20,
     "metadata": {},
     "output_type": "execute_result"
    },
    {
     "data": {
      "image/png": "[encoded data removed]",
      "text/plain": [
       "<Figure size 432x288 with 1 Axes>"
      ]
     },
     "metadata": {
      "needs_background": "light"
     },
     "output_type": "display_data"
    }
   ],
   "source": [
    "data['close'].plot()"
   ]
  },
  {
   "cell_type": "code",
   "execution_count": 178,
   "metadata": {},
   "outputs": [],
   "source": [
    "# # show breakdown of gaps\n",
    "# data['time'] = data.index\n",
    "# data['time'] = data['time'].diff()\n",
    "# print(round(data['time'].value_counts()/len(data)*100, 2))\n",
    "# data.drop(columns=['time'], inplace=True)"
   ]
  },
  {
   "cell_type": "code",
   "execution_count": 214,
   "metadata": {},
   "outputs": [],
   "source": [
    "# pretty sure aligning to nearest 00:00 or 12:00, so static 2h is fine\n",
    "\n",
    "# not sure how to reconcile dukas server time w/TV (FXCM)\n",
    "\n",
    "t = data.resample(\n",
    "    '4H', \n",
    "    offset='2H'\n",
    ").agg(\n",
    "    {\n",
    "        'open': 'first',\n",
    "        'high': 'max',\n",
    "        'low': 'min',\n",
    "        'close': 'max'\n",
    "    }\n",
    ")\n",
    "\n",
    "# t.head(10)\n",
    "\n",
    "# t.head(20).plot()"
   ]
  },
  {
   "cell_type": "code",
   "execution_count": null,
   "metadata": {},
   "outputs": [],
   "source": [
    "# # from \"fx engulf.ipynb\" #1:\n",
    "\n",
    "# rs['ch'] = rs['close'] - rs['open']\n",
    "# rs.loc[(rs['ch'].shift() > 0) & (rs['ch'] < 0) & (abs(rs['ch']) > abs(rs['ch'].shift())), 'sig'] = True\n",
    "# rs.loc[(rs['ch'].shift() < 0) & (rs['ch'] > 0) & (abs(rs['ch']) > abs(rs['ch'].shift())), 'sig'] = True"
   ]
  },
  {
   "cell_type": "code",
   "execution_count": 179,
   "metadata": {},
   "outputs": [],
   "source": [
    "# plt.figure(figsize=(23, 17))\n",
    "# i, j = '2020-08-10', '2020-08-13'\n",
    "# # data[['bid', 'ask']][-130000:].plot(alpha=.8, figsize=(23, 17))\n",
    "# data.loc[(data.index > i) & (data.index < j), ['bid', 'ask']].resample('5T').last().plot(alpha=.8, figsize=(23, 17))\n",
    "# plt.scatter(\n",
    "#     rs.loc[(rs['sig'] == True) & (rs['ch'] < 0), 'close'][:].index + timedelta(seconds=60*60), \n",
    "#     rs.loc[(rs['sig'] == True) & (rs['ch'] < 0), 'close'][:], alpha=.5, color='red', s=500\n",
    "# )\n",
    "# plt.scatter(\n",
    "#     rs.loc[(rs['sig'] == True) & (rs['ch'] < 0), 'open'][:].index, \n",
    "#     rs.loc[(rs['sig'] == True) & (rs['ch'] < 0), 'open'][:], alpha=.5, color='red', s=500\n",
    "# )\n",
    "# plt.scatter(\n",
    "#     rs.loc[(rs['sig'] == True) & (rs['ch'] > 0), 'close'][:].index + timedelta(seconds=60*60), \n",
    "#     rs.loc[(rs['sig'] == True) & (rs['ch'] > 0), 'close'][:], alpha=.5, color='green', s=500\n",
    "# )\n",
    "# plt.scatter(\n",
    "#     rs.loc[(rs['sig'] == True) & (rs['ch'] > 0), 'open'][:].index, \n",
    "#     rs.loc[(rs['sig'] == True) & (rs['ch'] > 0), 'open'][:], alpha=.5, color='green', s=500\n",
    "# )\n",
    "# plt.xlim(i, j)\n",
    "# plt.ylim(data.loc[(data.index > i) & (data.index < j), 'mid'].agg(['min', 'max']).values)\n",
    "# plt.show();"
   ]
  },
  {
   "cell_type": "code",
   "execution_count": null,
   "metadata": {},
   "outputs": [],
   "source": []
  }
 ],
 "metadata": {
  "kernelspec": {
   "display_name": "Python 3",
   "language": "python",
   "name": "python3"
  },
  "language_info": {
   "codemirror_mode": {
    "name": "ipython",
    "version": 3
   },
   "file_extension": ".py",
   "mimetype": "text/x-python",
   "name": "python",
   "nbconvert_exporter": "python",
   "pygments_lexer": "ipython3",
   "version": "3.8.5"
  }
 },
 "nbformat": 4,
 "nbformat_minor": 4
}
