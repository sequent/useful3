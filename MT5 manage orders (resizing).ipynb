{
 "cells": [
  {
   "cell_type": "code",
   "execution_count": 1,
   "metadata": {},
   "outputs": [
    {
     "data": {
      "text/plain": [
       "TerminalInfo(community_account=False, community_connection=False, connected=True, dlls_allowed=False, trade_allowed=True, tradeapi_disabled=False, email_enabled=False, ftp_enabled=False, notifications_enabled=False, mqid=False, build=2940, maxbars=100000, codepage=0, ping_last=161187, community_balance=0.0, retransmission=0.0, company='FX Choice Limited', name='FXChoice MetaTrader 5', language='English', path='C:\\\\Program Files\\\\FXChoice MetaTrader 5', ...)"
      ]
     },
     "execution_count": 1,
     "metadata": {},
     "output_type": "execute_result"
    }
   ],
   "source": [
    "# !pip install MetaTrader5\n",
    "import MetaTrader5 as mt5\n",
    "import pandas as pd\n",
    "# from tqdm.notebook import tqdm\n",
    "\n",
    "if not mt5.initialize():\n",
    "    mt5.shutdown()\n",
    "mt5.terminal_info()"
   ]
  },
  {
   "cell_type": "code",
   "execution_count": 2,
   "metadata": {},
   "outputs": [],
   "source": [
    "risk = pd.read_csv('1y_risk.csv')\n",
    "# risk"
   ]
  },
  {
   "cell_type": "code",
   "execution_count": 3,
   "metadata": {},
   "outputs": [],
   "source": [
    "# get risk (size and SL dist)\n"
   ]
  },
  {
   "cell_type": "code",
   "execution_count": 4,
   "metadata": {},
   "outputs": [],
   "source": [
    "# get risk * denomination * contract size\n",
    "\n",
    "# denomination \n",
    "syms = set(list(risk['sym']) + ['GBPNZD'] + ['EURCAD'])\n",
    "# syms"
   ]
  },
  {
   "cell_type": "code",
   "execution_count": 5,
   "metadata": {},
   "outputs": [],
   "source": [
    "ticks = {}\n",
    "for sym in syms:\n",
    "    \n",
    "    # print(sym)\n",
    "    t = mt5.symbol_info_tick(sym)\n",
    "    # print(t)\n",
    "    p = (t.bid + t.ask) / 2\n",
    "    ticks[sym] = p\n",
    "    \n",
    "#     if sym[3:] == 'USD':\n",
    "#         print(sym, 1)\n",
    "#     else:\n",
    "#         print(sym, '1 / ' + sym[3:] + 'USD')"
   ]
  },
  {
   "cell_type": "code",
   "execution_count": 6,
   "metadata": {},
   "outputs": [],
   "source": [
    "denom = {}\n",
    "for sym in syms:\n",
    "    if sym[3:] == 'USD':\n",
    "        # print(sym, 1)\n",
    "        denom[sym] = 1\n",
    "    else:\n",
    "        if sym[3:] + 'USD' in syms:\n",
    "            # print(sym, sym[3:] + 'USD')\n",
    "            denom[sym] = ticks[sym[3:] + 'USD']\n",
    "        else:\n",
    "            # print(sym, 'USD' + sym[3:], 1/ticks['USD' + sym[3:]])\n",
    "            denom[sym] = 1/ticks['USD' + sym[3:]]"
   ]
  },
  {
   "cell_type": "code",
   "execution_count": 7,
   "metadata": {},
   "outputs": [],
   "source": [
    "# denom"
   ]
  },
  {
   "cell_type": "code",
   "execution_count": 8,
   "metadata": {},
   "outputs": [],
   "source": [
    "risk = risk.to_dict(orient='records')"
   ]
  },
  {
   "cell_type": "code",
   "execution_count": 9,
   "metadata": {},
   "outputs": [],
   "source": [
    "# risk * denom * contract\n",
    "\n",
    "scaled_mvmt = {}\n",
    "\n",
    "for sym in syms:\n",
    "    if sym in [_['sym'] for _ in risk]:\n",
    "        r = list(filter(lambda x: x['sym'] == sym, risk))[0]['avg+std']\n",
    "        if sym[3:] == 'JPY':\n",
    "            r = r/100\n",
    "        if sym[3:] != 'JPY' and sym != 'BTCUSD' and sym != 'XAUUSD':\n",
    "            r = r/10000\n",
    "        c = 100 if sym == 'XAUUSD' else 1 if sym == 'BTCUSD' else 100000\n",
    "        scaled_mvmt[sym] = r * denom[sym] * c\n",
    "\n",
    "# scaled_mvmt"
   ]
  },
  {
   "cell_type": "code",
   "execution_count": 37,
   "metadata": {},
   "outputs": [],
   "source": [
    "# account balance\n",
    "account = mt5.account_info()\n",
    "\n",
    "# account.balance\n",
    "\n",
    "btc = mt5.symbol_info_tick('BTCUSD')\n",
    "btc_mid = (btc.bid + btc.ask) / 2\n",
    "btc_mid\n",
    "\n",
    "usd = account.balance * btc_mid * 0.000001\n",
    "\n",
    "fr = 0.025\n",
    "\n",
    "dr = usd * fr"
   ]
  },
  {
   "cell_type": "code",
   "execution_count": 38,
   "metadata": {},
   "outputs": [
    {
     "data": {
      "text/plain": [
       "10.634021844750002"
      ]
     },
     "execution_count": 38,
     "metadata": {},
     "output_type": "execute_result"
    }
   ],
   "source": [
    "dr"
   ]
  },
  {
   "cell_type": "code",
   "execution_count": 12,
   "metadata": {},
   "outputs": [],
   "source": [
    "size = {}\n",
    "for sym in syms:\n",
    "    if sym in [_['sym'] for _ in risk]:\n",
    "        # print(sym, dr/scaled_mvmt[sym])\n",
    "        size[sym] = round(dr/scaled_mvmt[sym], 2)"
   ]
  },
  {
   "cell_type": "code",
   "execution_count": 13,
   "metadata": {},
   "outputs": [
    {
     "data": {
      "text/plain": [
       "{'BTCUSD': 0.01,\n",
       " 'GBPUSD': 0.03,\n",
       " 'GBPCAD': 0.03,\n",
       " 'EURCHF': 0.07,\n",
       " 'EURGBP': 0.04,\n",
       " 'AUDUSD': 0.05,\n",
       " 'EURAUD': 0.04,\n",
       " 'CADCHF': 0.07,\n",
       " 'GBPCHF': 0.03,\n",
       " 'EURNZD': 0.04,\n",
       " 'EURUSD': 0.05,\n",
       " 'CADJPY': 0.06,\n",
       " 'NZDCHF': 0.06,\n",
       " 'CHFJPY': 0.05,\n",
       " 'NZDUSD': 0.05,\n",
       " 'USDCHF': 0.06,\n",
       " 'AUDJPY': 0.05,\n",
       " 'GBPAUD': 0.03,\n",
       " 'AUDCHF': 0.06,\n",
       " 'NZDJPY': 0.06,\n",
       " 'EURJPY': 0.05,\n",
       " 'USDJPY': 0.07,\n",
       " 'USDCAD': 0.05,\n",
       " 'XAUUSD': 0.01,\n",
       " 'AUDCAD': 0.07,\n",
       " 'GBPJPY': 0.03}"
      ]
     },
     "execution_count": 13,
     "metadata": {},
     "output_type": "execute_result"
    }
   ],
   "source": [
    "size"
   ]
  },
  {
   "cell_type": "code",
   "execution_count": 14,
   "metadata": {},
   "outputs": [],
   "source": [
    "dist = {}\n",
    "for sym in syms:\n",
    "    c = 100 if sym == 'XAUUSD' else 1 if sym == 'BTCUSD' else 1000 if sym[3:] == 'JPY' else 100000\n",
    "    if sym in [_['sym'] for _ in risk]:\n",
    "        # print(sym, scaled_mvmt[sym] / c)\n",
    "        if sym[3:] == 'JPY':\n",
    "            dist[sym] = round(scaled_mvmt[sym] / c, 3)\n",
    "        else:\n",
    "            dist[sym] = round(scaled_mvmt[sym] / c, 5)"
   ]
  },
  {
   "cell_type": "code",
   "execution_count": 15,
   "metadata": {},
   "outputs": [
    {
     "data": {
      "text/plain": [
       "{'BTCUSD': 861.8,\n",
       " 'GBPUSD': 0.0035,\n",
       " 'GBPCAD': 0.0032,\n",
       " 'EURCHF': 0.00159,\n",
       " 'EURGBP': 0.00265,\n",
       " 'AUDUSD': 0.00221,\n",
       " 'EURAUD': 0.00266,\n",
       " 'CADCHF': 0.00161,\n",
       " 'GBPCHF': 0.00319,\n",
       " 'EURNZD': 0.00262,\n",
       " 'EURUSD': 0.00234,\n",
       " 'CADJPY': 0.17,\n",
       " 'NZDCHF': 0.00178,\n",
       " 'CHFJPY': 0.197,\n",
       " 'NZDUSD': 0.002,\n",
       " 'USDCHF': 0.00192,\n",
       " 'AUDJPY': 0.207,\n",
       " 'GBPAUD': 0.00326,\n",
       " 'AUDCHF': 0.00192,\n",
       " 'NZDJPY': 0.186,\n",
       " 'EURJPY': 0.22,\n",
       " 'USDJPY': 0.162,\n",
       " 'USDCAD': 0.00209,\n",
       " 'XAUUSD': 9.49,\n",
       " 'AUDCAD': 0.0016,\n",
       " 'GBPJPY': 0.327}"
      ]
     },
     "execution_count": 15,
     "metadata": {},
     "output_type": "execute_result"
    }
   ],
   "source": [
    "dist"
   ]
  },
  {
   "cell_type": "code",
   "execution_count": 16,
   "metadata": {},
   "outputs": [],
   "source": [
    "risk_new = {}\n",
    "for s in size.keys():\n",
    "    risk_new[s] = {'size': size[s]}\n",
    "for d in dist.keys():\n",
    "    risk_new[d]['dist'] = dist[d]"
   ]
  },
  {
   "cell_type": "code",
   "execution_count": 39,
   "metadata": {},
   "outputs": [],
   "source": [
    "risk_new['EURCAD'] = {'size': 0.03, 'dist': .0015}"
   ]
  },
  {
   "cell_type": "code",
   "execution_count": 34,
   "metadata": {},
   "outputs": [],
   "source": [
    "def update_order(tradeorder):\n",
    "    \n",
    "    # get the new params\n",
    "    print(tradeorder.symbol)\n",
    "    \n",
    "    # check if params different\n",
    "    print(risk_new[tradeorder.symbol])\n",
    "    \n",
    "    # will fail for sells\n",
    "    current_dist = round(abs(tradeorder.price_open - tradeorder.sl), 4)\n",
    "    print('current dist:', current_dist)\n",
    "    # if different, update to new\n",
    "    \n",
    "    # if no changes, return\n",
    "    if round(risk_new[tradeorder.symbol]['dist'], 4) == current_dist and risk_new[tradeorder.symbol]['size'] == tradeorder.volume_current:\n",
    "        return None\n",
    "    \n",
    "    # if duplicates return none\n",
    "    \n",
    "    \n",
    "    # set new_vol to current in case no change\n",
    "    new_vol = tradeorder.volume_current\n",
    "    # set new_sl to current in case no change\n",
    "    new_sl = tradeorder.sl\n",
    "    \n",
    "    if risk_new[tradeorder.symbol]['dist'] != current_dist:\n",
    "        # print('  change dist')\n",
    "        if tradeorder.type == 2:\n",
    "            # print('    new buy sl')\n",
    "            new_sl = tradeorder.price_open - risk_new[tradeorder.symbol]['dist']\n",
    "            # print('    ', new_sl)\n",
    "            \n",
    "            o_type = mt5.ORDER_TYPE_BUY_LIMIT\n",
    "            \n",
    "        elif tradeorder.type == 3:\n",
    "            # print('    new sell sl')\n",
    "            new_sl = tradeorder.price_open + risk_new[tradeorder.symbol]['dist']\n",
    "            # print('    ', new_sl)\n",
    "            \n",
    "            o_type = mt5.ORDER_TYPE_SELL_LIMIT\n",
    "        \n",
    "    if risk_new[tradeorder.symbol]['size'] != tradeorder.volume_current:\n",
    "        # print('  change volume')\n",
    "        new_vol = risk_new[tradeorder.symbol]['size']\n",
    "        # print('    ', new_vol)\n",
    "    \n",
    "    # cancel order\n",
    "    r = {\n",
    "        \"action\": mt5.TRADE_ACTION_REMOVE,\n",
    "        \"order\": tradeorder.ticket\n",
    "    }\n",
    "    result = mt5.order_send(r) \n",
    "    print('cancel:', result)\n",
    "    \n",
    "    r = {\n",
    "        \"action\": mt5.TRADE_ACTION_PENDING,\n",
    "        \"symbol\": tradeorder.symbol,\n",
    "        \"volume\": new_vol,\n",
    "        \"type\": o_type,\n",
    "        \"price\": tradeorder.price_open,\n",
    "        \"sl\": new_sl,\n",
    "        # \"tp\": _[1] + (_[3]*3),\n",
    "        \"deviation\": 10,\n",
    "        \"magic\": 9,\n",
    "        \"comment\": \"sent by python\",\n",
    "        \"type_time\": mt5.ORDER_TIME_GTC,\n",
    "        \"type_filling\": mt5.ORDER_FILLING_RETURN,\n",
    "    }\n",
    "    result = mt5.order_send(r) \n",
    "    print('cancel:', result)\n",
    "    \n",
    "    return result"
   ]
  },
  {
   "cell_type": "code",
   "execution_count": 35,
   "metadata": {},
   "outputs": [],
   "source": [
    "# get current working orders\n",
    "o = mt5.orders_get()"
   ]
  },
  {
   "cell_type": "code",
   "execution_count": 36,
   "metadata": {
    "scrolled": false
   },
   "outputs": [
    {
     "name": "stdout",
     "output_type": "stream",
     "text": [
      "CHFJPY\n",
      "{'size': 0.05, 'dist': 0.197}\n",
      "current dist: 0.197\n",
      "USDJPY\n",
      "{'size': 0.07, 'dist': 0.162}\n",
      "current dist: 0.162\n",
      "USDJPY\n",
      "{'size': 0.07, 'dist': 0.162}\n",
      "current dist: 0.162\n",
      "XAUUSD\n",
      "{'size': 0.01, 'dist': 9.49}\n",
      "current dist: 9.49\n",
      "USDJPY\n",
      "{'size': 0.07, 'dist': 0.162}\n",
      "current dist: 0.162\n",
      "GBPUSD\n",
      "{'size': 0.03, 'dist': 0.0035}\n",
      "current dist: 0.0035\n",
      "EURJPY\n",
      "{'size': 0.05, 'dist': 0.22}\n",
      "current dist: 0.22\n",
      "EURCAD\n",
      "{'size': 0.05, 'dist': 0.0015}\n",
      "current dist: 0.0015\n",
      "EURAUD\n",
      "{'size': 0.04, 'dist': 0.00266}\n",
      "current dist: 0.0027\n",
      "CADCHF\n",
      "{'size': 0.07, 'dist': 0.00161}\n",
      "current dist: 0.0016\n",
      "EURUSD\n",
      "{'size': 0.05, 'dist': 0.00234}\n",
      "current dist: 0.0023\n",
      "GBPCHF\n",
      "{'size': 0.03, 'dist': 0.00319}\n",
      "current dist: 0.0032\n",
      "GBPAUD\n",
      "{'size': 0.03, 'dist': 0.00326}\n",
      "current dist: 0.0033\n",
      "EURNZD\n",
      "{'size': 0.04, 'dist': 0.00262}\n",
      "current dist: 0.0026\n",
      "EURAUD\n",
      "{'size': 0.04, 'dist': 0.00266}\n",
      "current dist: 0.0027\n",
      "USDCHF\n",
      "{'size': 0.06, 'dist': 0.00192}\n",
      "current dist: 0.0019\n"
     ]
    }
   ],
   "source": [
    "for _ in o:\n",
    "    update_order(_)"
   ]
  },
  {
   "cell_type": "code",
   "execution_count": null,
   "metadata": {},
   "outputs": [],
   "source": []
  }
 ],
 "metadata": {
  "kernelspec": {
   "display_name": "Python 3",
   "language": "python",
   "name": "python3"
  },
  "language_info": {
   "codemirror_mode": {
    "name": "ipython",
    "version": 3
   },
   "file_extension": ".py",
   "mimetype": "text/x-python",
   "name": "python",
   "nbconvert_exporter": "python",
   "pygments_lexer": "ipython3",
   "version": "3.7.6"
  }
 },
 "nbformat": 4,
 "nbformat_minor": 4
}
