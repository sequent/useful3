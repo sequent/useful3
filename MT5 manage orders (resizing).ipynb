{
 "cells": [
  {
   "cell_type": "code",
   "execution_count": 5,
   "metadata": {},
   "outputs": [
    {
     "data": {
      "text/plain": [
       "TerminalInfo(community_account=False, community_connection=False, connected=True, dlls_allowed=False, trade_allowed=True, tradeapi_disabled=False, email_enabled=False, ftp_enabled=False, notifications_enabled=False, mqid=False, build=2940, maxbars=100000, codepage=0, ping_last=160858, community_balance=0.0, retransmission=0.0, company='FX Choice Limited', name='FXChoice MetaTrader 5', language='English', path='C:\\\\Program Files\\\\FXChoice MetaTrader 5', ...)"
      ]
     },
     "execution_count": 5,
     "metadata": {},
     "output_type": "execute_result"
    }
   ],
   "source": [
    "# !pip install MetaTrader5\n",
    "import MetaTrader5 as mt5\n",
    "import pandas as pd\n",
    "# from tqdm.notebook import tqdm\n",
    "\n",
    "if not mt5.initialize():\n",
    "    mt5.shutdown()\n",
    "mt5.terminal_info()"
   ]
  },
  {
   "cell_type": "code",
   "execution_count": 110,
   "metadata": {},
   "outputs": [],
   "source": [
    "risk = pd.read_csv('1y_risk.csv')\n",
    "# risk"
   ]
  },
  {
   "cell_type": "code",
   "execution_count": 112,
   "metadata": {},
   "outputs": [],
   "source": [
    "# get risk (size and SL dist)\n"
   ]
  },
  {
   "cell_type": "code",
   "execution_count": 114,
   "metadata": {},
   "outputs": [],
   "source": [
    "# get risk * denomination * contract size\n",
    "\n",
    "# denomination \n",
    "syms = set(list(risk['sym']) + ['GBPNZD'] + ['EURCAD'])\n",
    "# syms"
   ]
  },
  {
   "cell_type": "code",
   "execution_count": 115,
   "metadata": {},
   "outputs": [],
   "source": [
    "ticks = {}\n",
    "for sym in syms:\n",
    "    \n",
    "    # print(sym)\n",
    "    t = mt5.symbol_info_tick(sym)\n",
    "    # print(t)\n",
    "    p = (t.bid + t.ask) / 2\n",
    "    ticks[sym] = p\n",
    "    \n",
    "#     if sym[3:] == 'USD':\n",
    "#         print(sym, 1)\n",
    "#     else:\n",
    "#         print(sym, '1 / ' + sym[3:] + 'USD')"
   ]
  },
  {
   "cell_type": "code",
   "execution_count": 116,
   "metadata": {},
   "outputs": [],
   "source": [
    "denom = {}\n",
    "for sym in syms:\n",
    "    if sym[3:] == 'USD':\n",
    "        # print(sym, 1)\n",
    "        denom[sym] = 1\n",
    "    else:\n",
    "        if sym[3:] + 'USD' in syms:\n",
    "            # print(sym, sym[3:] + 'USD')\n",
    "            denom[sym] = ticks[sym[3:] + 'USD']\n",
    "        else:\n",
    "            # print(sym, 'USD' + sym[3:], 1/ticks['USD' + sym[3:]])\n",
    "            denom[sym] = 1/ticks['USD' + sym[3:]]"
   ]
  },
  {
   "cell_type": "code",
   "execution_count": 118,
   "metadata": {},
   "outputs": [],
   "source": [
    "# denom"
   ]
  },
  {
   "cell_type": "code",
   "execution_count": 119,
   "metadata": {},
   "outputs": [],
   "source": [
    "risk = risk.to_dict(orient='records')"
   ]
  },
  {
   "cell_type": "code",
   "execution_count": 134,
   "metadata": {},
   "outputs": [],
   "source": [
    "# risk * denom * contract\n",
    "\n",
    "scaled_mvmt = {}\n",
    "\n",
    "for sym in syms:\n",
    "    if sym in [_['sym'] for _ in risk]:\n",
    "        r = list(filter(lambda x: x['sym'] == sym, risk))[0]['avg+std']\n",
    "        if sym[3:] == 'JPY':\n",
    "            r = r/100\n",
    "        if sym[3:] != 'JPY' and sym != 'BTCUSD' and sym != 'XAUUSD':\n",
    "            r = r/10000\n",
    "        c = 100 if sym == 'XAUUSD' else 1 if sym == 'BTCUSD' else 100000\n",
    "        scaled_mvmt[sym] = r * denom[sym] * c\n",
    "\n",
    "# scaled_mvmt"
   ]
  },
  {
   "cell_type": "code",
   "execution_count": 127,
   "metadata": {},
   "outputs": [],
   "source": [
    "# account balance\n",
    "account = mt5.account_info()\n",
    "\n",
    "# account.balance\n",
    "\n",
    "btc = mt5.symbol_info_tick('BTCUSD')\n",
    "btc_mid = (btc.bid + btc.ask) / 2\n",
    "btc_mid\n",
    "\n",
    "usd = account.balance * btc_mid * 0.000001\n",
    "\n",
    "fr = 0.025\n",
    "\n",
    "dr = usd * fr"
   ]
  },
  {
   "cell_type": "code",
   "execution_count": 136,
   "metadata": {},
   "outputs": [],
   "source": [
    "size = {}\n",
    "for sym in syms:\n",
    "    if sym in [_['sym'] for _ in risk]:\n",
    "        # print(sym, dr/scaled_mvmt[sym])\n",
    "        size[sym] = round(dr/scaled_mvmt[sym], 2)"
   ]
  },
  {
   "cell_type": "code",
   "execution_count": 137,
   "metadata": {},
   "outputs": [
    {
     "data": {
      "text/plain": [
       "{'USDCAD': 0.1,\n",
       " 'NZDJPY': 0.12,\n",
       " 'EURAUD': 0.08,\n",
       " 'GBPAUD': 0.06,\n",
       " 'CADJPY': 0.13,\n",
       " 'BTCUSD': 0.03,\n",
       " 'AUDJPY': 0.1,\n",
       " 'GBPCAD': 0.07,\n",
       " 'USDCHF': 0.11,\n",
       " 'NZDCHF': 0.12,\n",
       " 'EURUSD': 0.09,\n",
       " 'CHFJPY': 0.11,\n",
       " 'GBPUSD': 0.06,\n",
       " 'XAUUSD': 0.02,\n",
       " 'USDJPY': 0.13,\n",
       " 'EURNZD': 0.08,\n",
       " 'GBPJPY': 0.07,\n",
       " 'AUDUSD': 0.1,\n",
       " 'EURJPY': 0.1,\n",
       " 'AUDCHF': 0.11,\n",
       " 'EURCHF': 0.13,\n",
       " 'AUDCAD': 0.13,\n",
       " 'GBPCHF': 0.07,\n",
       " 'CADCHF': 0.13,\n",
       " 'NZDUSD': 0.11,\n",
       " 'EURGBP': 0.08}"
      ]
     },
     "execution_count": 137,
     "metadata": {},
     "output_type": "execute_result"
    }
   ],
   "source": [
    "size"
   ]
  },
  {
   "cell_type": "code",
   "execution_count": 149,
   "metadata": {},
   "outputs": [],
   "source": [
    "dist = {}\n",
    "for sym in syms:\n",
    "    c = 100 if sym == 'XAUUSD' else 1 if sym == 'BTCUSD' else 1000 if sym[3:] == 'JPY' else 100000\n",
    "    if sym in [_['sym'] for _ in risk]:\n",
    "        # print(sym, scaled_mvmt[sym] / c)\n",
    "        if sym[3:] == 'JPY':\n",
    "            dist[sym] = round(scaled_mvmt[sym] / c, 3)\n",
    "        else:\n",
    "            dist[sym] = round(scaled_mvmt[sym] / c, 5)"
   ]
  },
  {
   "cell_type": "code",
   "execution_count": 150,
   "metadata": {},
   "outputs": [
    {
     "data": {
      "text/plain": [
       "{'USDCAD': 0.00214,\n",
       " 'NZDJPY': 0.186,\n",
       " 'EURAUD': 0.00272,\n",
       " 'GBPAUD': 0.00335,\n",
       " 'CADJPY': 0.171,\n",
       " 'BTCUSD': 861.8,\n",
       " 'AUDJPY': 0.207,\n",
       " 'GBPCAD': 0.00327,\n",
       " 'USDCHF': 0.00197,\n",
       " 'NZDCHF': 0.00182,\n",
       " 'EURUSD': 0.00234,\n",
       " 'CHFJPY': 0.197,\n",
       " 'GBPUSD': 0.0035,\n",
       " 'XAUUSD': 9.49,\n",
       " 'USDJPY': 0.162,\n",
       " 'EURNZD': 0.0027,\n",
       " 'GBPJPY': 0.327,\n",
       " 'AUDUSD': 0.00221,\n",
       " 'EURJPY': 0.22,\n",
       " 'AUDCHF': 0.00197,\n",
       " 'EURCHF': 0.00163,\n",
       " 'AUDCAD': 0.00163,\n",
       " 'GBPCHF': 0.00327,\n",
       " 'CADCHF': 0.00165,\n",
       " 'NZDUSD': 0.002,\n",
       " 'EURGBP': 0.0027}"
      ]
     },
     "execution_count": 150,
     "metadata": {},
     "output_type": "execute_result"
    }
   ],
   "source": [
    "dist"
   ]
  },
  {
   "cell_type": "code",
   "execution_count": null,
   "metadata": {},
   "outputs": [],
   "source": [
    "\n",
    "\n",
    "# # get current working orders\n",
    "\n",
    "# mt5.orders_get()"
   ]
  },
  {
   "cell_type": "code",
   "execution_count": null,
   "metadata": {},
   "outputs": [],
   "source": []
  }
 ],
 "metadata": {
  "kernelspec": {
   "display_name": "Python 3",
   "language": "python",
   "name": "python3"
  },
  "language_info": {
   "codemirror_mode": {
    "name": "ipython",
    "version": 3
   },
   "file_extension": ".py",
   "mimetype": "text/x-python",
   "name": "python",
   "nbconvert_exporter": "python",
   "pygments_lexer": "ipython3",
   "version": "3.7.6"
  }
 },
 "nbformat": 4,
 "nbformat_minor": 4
}
