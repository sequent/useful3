{
 "cells": [
  {
   "cell_type": "code",
   "execution_count": 158,
   "metadata": {},
   "outputs": [
    {
     "data": {
      "text/plain": [
       "TerminalInfo(community_account=False, community_connection=False, connected=True, dlls_allowed=False, trade_allowed=True, tradeapi_disabled=False, email_enabled=False, ftp_enabled=False, notifications_enabled=False, mqid=False, build=2940, maxbars=100000, codepage=0, ping_last=161187, community_balance=0.0, retransmission=0.0, company='FX Choice Limited', name='FXChoice MetaTrader 5', language='English', path='C:\\\\Program Files\\\\FXChoice MetaTrader 5', ...)"
      ]
     },
     "execution_count": 158,
     "metadata": {},
     "output_type": "execute_result"
    }
   ],
   "source": [
    "# !pip install MetaTrader5\n",
    "import MetaTrader5 as mt5\n",
    "import pandas as pd\n",
    "# from tqdm.notebook import tqdm\n",
    "\n",
    "if not mt5.initialize():\n",
    "    mt5.shutdown()\n",
    "mt5.terminal_info()"
   ]
  },
  {
   "cell_type": "code",
   "execution_count": 110,
   "metadata": {},
   "outputs": [],
   "source": [
    "risk = pd.read_csv('1y_risk.csv')\n",
    "# risk"
   ]
  },
  {
   "cell_type": "code",
   "execution_count": 112,
   "metadata": {},
   "outputs": [],
   "source": [
    "# get risk (size and SL dist)\n"
   ]
  },
  {
   "cell_type": "code",
   "execution_count": 114,
   "metadata": {},
   "outputs": [],
   "source": [
    "# get risk * denomination * contract size\n",
    "\n",
    "# denomination \n",
    "syms = set(list(risk['sym']) + ['GBPNZD'] + ['EURCAD'])\n",
    "# syms"
   ]
  },
  {
   "cell_type": "code",
   "execution_count": 115,
   "metadata": {},
   "outputs": [],
   "source": [
    "ticks = {}\n",
    "for sym in syms:\n",
    "    \n",
    "    # print(sym)\n",
    "    t = mt5.symbol_info_tick(sym)\n",
    "    # print(t)\n",
    "    p = (t.bid + t.ask) / 2\n",
    "    ticks[sym] = p\n",
    "    \n",
    "#     if sym[3:] == 'USD':\n",
    "#         print(sym, 1)\n",
    "#     else:\n",
    "#         print(sym, '1 / ' + sym[3:] + 'USD')"
   ]
  },
  {
   "cell_type": "code",
   "execution_count": 116,
   "metadata": {},
   "outputs": [],
   "source": [
    "denom = {}\n",
    "for sym in syms:\n",
    "    if sym[3:] == 'USD':\n",
    "        # print(sym, 1)\n",
    "        denom[sym] = 1\n",
    "    else:\n",
    "        if sym[3:] + 'USD' in syms:\n",
    "            # print(sym, sym[3:] + 'USD')\n",
    "            denom[sym] = ticks[sym[3:] + 'USD']\n",
    "        else:\n",
    "            # print(sym, 'USD' + sym[3:], 1/ticks['USD' + sym[3:]])\n",
    "            denom[sym] = 1/ticks['USD' + sym[3:]]"
   ]
  },
  {
   "cell_type": "code",
   "execution_count": 118,
   "metadata": {},
   "outputs": [],
   "source": [
    "# denom"
   ]
  },
  {
   "cell_type": "code",
   "execution_count": 119,
   "metadata": {},
   "outputs": [],
   "source": [
    "risk = risk.to_dict(orient='records')"
   ]
  },
  {
   "cell_type": "code",
   "execution_count": 134,
   "metadata": {},
   "outputs": [],
   "source": [
    "# risk * denom * contract\n",
    "\n",
    "scaled_mvmt = {}\n",
    "\n",
    "for sym in syms:\n",
    "    if sym in [_['sym'] for _ in risk]:\n",
    "        r = list(filter(lambda x: x['sym'] == sym, risk))[0]['avg+std']\n",
    "        if sym[3:] == 'JPY':\n",
    "            r = r/100\n",
    "        if sym[3:] != 'JPY' and sym != 'BTCUSD' and sym != 'XAUUSD':\n",
    "            r = r/10000\n",
    "        c = 100 if sym == 'XAUUSD' else 1 if sym == 'BTCUSD' else 100000\n",
    "        scaled_mvmt[sym] = r * denom[sym] * c\n",
    "\n",
    "# scaled_mvmt"
   ]
  },
  {
   "cell_type": "code",
   "execution_count": 127,
   "metadata": {},
   "outputs": [],
   "source": [
    "# account balance\n",
    "account = mt5.account_info()\n",
    "\n",
    "# account.balance\n",
    "\n",
    "btc = mt5.symbol_info_tick('BTCUSD')\n",
    "btc_mid = (btc.bid + btc.ask) / 2\n",
    "btc_mid\n",
    "\n",
    "usd = account.balance * btc_mid * 0.000001\n",
    "\n",
    "fr = 0.025\n",
    "\n",
    "dr = usd * fr"
   ]
  },
  {
   "cell_type": "code",
   "execution_count": 136,
   "metadata": {},
   "outputs": [],
   "source": [
    "size = {}\n",
    "for sym in syms:\n",
    "    if sym in [_['sym'] for _ in risk]:\n",
    "        # print(sym, dr/scaled_mvmt[sym])\n",
    "        size[sym] = round(dr/scaled_mvmt[sym], 2)"
   ]
  },
  {
   "cell_type": "code",
   "execution_count": 137,
   "metadata": {},
   "outputs": [
    {
     "data": {
      "text/plain": [
       "{'USDCAD': 0.1,\n",
       " 'NZDJPY': 0.12,\n",
       " 'EURAUD': 0.08,\n",
       " 'GBPAUD': 0.06,\n",
       " 'CADJPY': 0.13,\n",
       " 'BTCUSD': 0.03,\n",
       " 'AUDJPY': 0.1,\n",
       " 'GBPCAD': 0.07,\n",
       " 'USDCHF': 0.11,\n",
       " 'NZDCHF': 0.12,\n",
       " 'EURUSD': 0.09,\n",
       " 'CHFJPY': 0.11,\n",
       " 'GBPUSD': 0.06,\n",
       " 'XAUUSD': 0.02,\n",
       " 'USDJPY': 0.13,\n",
       " 'EURNZD': 0.08,\n",
       " 'GBPJPY': 0.07,\n",
       " 'AUDUSD': 0.1,\n",
       " 'EURJPY': 0.1,\n",
       " 'AUDCHF': 0.11,\n",
       " 'EURCHF': 0.13,\n",
       " 'AUDCAD': 0.13,\n",
       " 'GBPCHF': 0.07,\n",
       " 'CADCHF': 0.13,\n",
       " 'NZDUSD': 0.11,\n",
       " 'EURGBP': 0.08}"
      ]
     },
     "execution_count": 137,
     "metadata": {},
     "output_type": "execute_result"
    }
   ],
   "source": [
    "size"
   ]
  },
  {
   "cell_type": "code",
   "execution_count": 149,
   "metadata": {},
   "outputs": [],
   "source": [
    "dist = {}\n",
    "for sym in syms:\n",
    "    c = 100 if sym == 'XAUUSD' else 1 if sym == 'BTCUSD' else 1000 if sym[3:] == 'JPY' else 100000\n",
    "    if sym in [_['sym'] for _ in risk]:\n",
    "        # print(sym, scaled_mvmt[sym] / c)\n",
    "        if sym[3:] == 'JPY':\n",
    "            dist[sym] = round(scaled_mvmt[sym] / c, 3)\n",
    "        else:\n",
    "            dist[sym] = round(scaled_mvmt[sym] / c, 5)"
   ]
  },
  {
   "cell_type": "code",
   "execution_count": 150,
   "metadata": {},
   "outputs": [
    {
     "data": {
      "text/plain": [
       "{'USDCAD': 0.00214,\n",
       " 'NZDJPY': 0.186,\n",
       " 'EURAUD': 0.00272,\n",
       " 'GBPAUD': 0.00335,\n",
       " 'CADJPY': 0.171,\n",
       " 'BTCUSD': 861.8,\n",
       " 'AUDJPY': 0.207,\n",
       " 'GBPCAD': 0.00327,\n",
       " 'USDCHF': 0.00197,\n",
       " 'NZDCHF': 0.00182,\n",
       " 'EURUSD': 0.00234,\n",
       " 'CHFJPY': 0.197,\n",
       " 'GBPUSD': 0.0035,\n",
       " 'XAUUSD': 9.49,\n",
       " 'USDJPY': 0.162,\n",
       " 'EURNZD': 0.0027,\n",
       " 'GBPJPY': 0.327,\n",
       " 'AUDUSD': 0.00221,\n",
       " 'EURJPY': 0.22,\n",
       " 'AUDCHF': 0.00197,\n",
       " 'EURCHF': 0.00163,\n",
       " 'AUDCAD': 0.00163,\n",
       " 'GBPCHF': 0.00327,\n",
       " 'CADCHF': 0.00165,\n",
       " 'NZDUSD': 0.002,\n",
       " 'EURGBP': 0.0027}"
      ]
     },
     "execution_count": 150,
     "metadata": {},
     "output_type": "execute_result"
    }
   ],
   "source": [
    "dist"
   ]
  },
  {
   "cell_type": "code",
   "execution_count": 154,
   "metadata": {},
   "outputs": [],
   "source": [
    "risk_new = {}\n",
    "for s in size.keys():\n",
    "    risk_new[s] = {'size': size[s]}\n",
    "for d in dist.keys():\n",
    "    risk_new[d]['dist'] = dist[d]"
   ]
  },
  {
   "cell_type": "code",
   "execution_count": 155,
   "metadata": {},
   "outputs": [
    {
     "data": {
      "text/plain": [
       "{'USDCAD': {'size': 0.1, 'dist': 0.00214},\n",
       " 'NZDJPY': {'size': 0.12, 'dist': 0.186},\n",
       " 'EURAUD': {'size': 0.08, 'dist': 0.00272},\n",
       " 'GBPAUD': {'size': 0.06, 'dist': 0.00335},\n",
       " 'CADJPY': {'size': 0.13, 'dist': 0.171},\n",
       " 'BTCUSD': {'size': 0.03, 'dist': 861.8},\n",
       " 'AUDJPY': {'size': 0.1, 'dist': 0.207},\n",
       " 'GBPCAD': {'size': 0.07, 'dist': 0.00327},\n",
       " 'USDCHF': {'size': 0.11, 'dist': 0.00197},\n",
       " 'NZDCHF': {'size': 0.12, 'dist': 0.00182},\n",
       " 'EURUSD': {'size': 0.09, 'dist': 0.00234},\n",
       " 'CHFJPY': {'size': 0.11, 'dist': 0.197},\n",
       " 'GBPUSD': {'size': 0.06, 'dist': 0.0035},\n",
       " 'XAUUSD': {'size': 0.02, 'dist': 9.49},\n",
       " 'USDJPY': {'size': 0.13, 'dist': 0.162},\n",
       " 'EURNZD': {'size': 0.08, 'dist': 0.0027},\n",
       " 'GBPJPY': {'size': 0.07, 'dist': 0.327},\n",
       " 'AUDUSD': {'size': 0.1, 'dist': 0.00221},\n",
       " 'EURJPY': {'size': 0.1, 'dist': 0.22},\n",
       " 'AUDCHF': {'size': 0.11, 'dist': 0.00197},\n",
       " 'EURCHF': {'size': 0.13, 'dist': 0.00163},\n",
       " 'AUDCAD': {'size': 0.13, 'dist': 0.00163},\n",
       " 'GBPCHF': {'size': 0.07, 'dist': 0.00327},\n",
       " 'CADCHF': {'size': 0.13, 'dist': 0.00165},\n",
       " 'NZDUSD': {'size': 0.11, 'dist': 0.002},\n",
       " 'EURGBP': {'size': 0.08, 'dist': 0.0027}}"
      ]
     },
     "execution_count": 155,
     "metadata": {},
     "output_type": "execute_result"
    }
   ],
   "source": [
    "risk_new"
   ]
  },
  {
   "cell_type": "code",
   "execution_count": 160,
   "metadata": {},
   "outputs": [],
   "source": [
    "# get current working orders\n",
    "o = mt5.orders_get()"
   ]
  },
  {
   "cell_type": "code",
   "execution_count": 163,
   "metadata": {},
   "outputs": [
    {
     "data": {
      "text/plain": [
       "TradeOrder(ticket=5635941, time_setup=1621235479, time_setup_msc=1621235479802, time_done=0, time_done_msc=0, time_expiration=0, type=2, type_time=0, type_filling=2, state=1, magic=9, position_id=0, position_by_id=0, reason=3, volume_initial=0.08, volume_current=0.08, price_open=1.66144, sl=1.6602299999999999, tp=0.0, price_current=1.7111800000000001, price_stoplimit=0.0, symbol='EURNZD', comment='sent by python', external_id='')"
      ]
     },
     "execution_count": 163,
     "metadata": {},
     "output_type": "execute_result"
    }
   ],
   "source": [
    "o[0]"
   ]
  },
  {
   "cell_type": "code",
   "execution_count": 162,
   "metadata": {},
   "outputs": [
    {
     "data": {
      "text/plain": [
       "5635941"
      ]
     },
     "execution_count": 162,
     "metadata": {},
     "output_type": "execute_result"
    }
   ],
   "source": [
    "o[0].ticket"
   ]
  },
  {
   "cell_type": "code",
   "execution_count": 169,
   "metadata": {},
   "outputs": [],
   "source": [
    "# r = {\n",
    "#     \"action\": mt5.TRADE_ACTION_MODIFY, # TRADE_ACTION_REMOVE\n",
    "#     \"order\": 5635941,\n",
    "#     # \"symbol\": _[0],\n",
    "#     \"volume\": 0.09,\n",
    "#     # \"type\": mt5.ORDER_TYPE_BUY_LIMIT,\n",
    "#     \"price\": 1.66144,\n",
    "#     \"sl\": 1.66,  ############ this is getting mixed up for shorts\n",
    "#     # \"tp\": _[1] + (_[3]*3),\n",
    "#     # \"deviation\": 10,\n",
    "#     \"magic\": 9,\n",
    "#     \"comment\": \"sent by python\",\n",
    "#     # \"type_time\": mt5.ORDER_TIME_GTC, # good till cancelled\n",
    "#     # \"type_filling\": mt5.ORDER_FILLING_RETURN,\n",
    "# }\n",
    "# result = mt5.order_send(r) "
   ]
  },
  {
   "cell_type": "code",
   "execution_count": 197,
   "metadata": {},
   "outputs": [],
   "source": [
    "def update_order(tradeorder):\n",
    "    \n",
    "    # get the new params\n",
    "    print(tradeorder.symbol)\n",
    "    \n",
    "    # check if params different\n",
    "    print(risk_new[tradeorder.symbol])\n",
    "    \n",
    "    # will fail for sells\n",
    "    current_dist = round(abs(tradeorder.price_open - tradeorder.sl), 4)\n",
    "    print('current dist:', current_dist)\n",
    "    # if different, update to new\n",
    "    \n",
    "    # if no changes, return\n",
    "    if risk_new[tradeorder.symbol]['dist'] != current_dist and risk_new[tradeorder.symbol]['size'] != tradeorder.volume_current:\n",
    "        return None\n",
    "    \n",
    "    # set new_vol to current in case no change\n",
    "    new_vol = tradeorder.volume_current\n",
    "    # set new_sl to current in case no change\n",
    "    new_sl = tradeorder.sl\n",
    "    \n",
    "    if risk_new[tradeorder.symbol]['dist'] != current_dist:\n",
    "        print('  change dist')\n",
    "        if tradeorder.type == 2:\n",
    "            print('    new buy sl')\n",
    "            new_sl = tradeorder.price_open - risk_new[tradeorder.symbol]['dist']\n",
    "            print('    ', new_sl)\n",
    "            \n",
    "            o_type = mt5.ORDER_TYPE_BUY_LIMIT\n",
    "            \n",
    "        elif tradeorder.type == 3:\n",
    "            print('    new sell sl')\n",
    "            new_sl = risk_new[tradeorder.symbol]['dist'] - tradeorder.price_open\n",
    "            print('    ', new_sl)\n",
    "            \n",
    "            o_type = mt5.ORDER_TYPE_SELL_LIMIT\n",
    "        \n",
    "    if risk_new[tradeorder.symbol]['size'] != tradeorder.volume_current:\n",
    "        print('  change volume')\n",
    "        new_vol = risk_new[tradeorder.symbol]['size']\n",
    "        print('    ', new_vol)\n",
    "    \n",
    "    # cancel order\n",
    "    r = {\n",
    "        \"action\": mt5.TRADE_ACTION_REMOVE,\n",
    "        \"order\": tradeorder.ticket\n",
    "    }\n",
    "    result = mt5.order_send(r) \n",
    "    \n",
    "    print(result)\n",
    "    \n",
    "    r = {\n",
    "        \"action\": mt5.TRADE_ACTION_PENDING,\n",
    "        \"symbol\": tradeorder.symbol,\n",
    "        \"volume\": new_vol,\n",
    "        \"type\": o_type,\n",
    "        \"price\": tradeorder.price_open,\n",
    "        \"sl\": new_sl,\n",
    "        # \"tp\": _[1] + (_[3]*3),\n",
    "        \"deviation\": 10,\n",
    "        \"magic\": 9,\n",
    "        \"comment\": \"sent by python\",\n",
    "        \"type_time\": mt5.ORDER_TIME_GTC,\n",
    "        \"type_filling\": mt5.ORDER_FILLING_RETURN,\n",
    "    }\n",
    "    result = mt5.order_send(r) \n",
    "    print(result)\n",
    "    \n",
    "    return result"
   ]
  },
  {
   "cell_type": "code",
   "execution_count": 198,
   "metadata": {},
   "outputs": [
    {
     "name": "stdout",
     "output_type": "stream",
     "text": [
      "EURNZD\n",
      "{'size': 0.08, 'dist': 0.0027}\n",
      "current dist: 0.0012\n",
      "  change dist\n",
      "    new buy sl\n",
      "     1.65874\n",
      "OrderSendResult(retcode=10009, deal=0, order=5635941, volume=0.0, price=0.0, bid=0.0, ask=0.0, comment='Request executed', request_id=9, retcode_external=0, request=TradeRequest(action=8, magic=0, order=5635941, symbol='', volume=0.0, price=0.0, stoplimit=0.0, sl=0.0, tp=0.0, deviation=0, type=0, type_filling=0, type_time=0, expiration=0, comment='', position=0, position_by=0))\n",
      "OrderSendResult(retcode=10009, deal=0, order=5785562, volume=0.08, price=0.0, bid=0.0, ask=0.0, comment='Request executed', request_id=10, retcode_external=0, request=TradeRequest(action=5, magic=9, order=0, symbol='EURNZD', volume=0.08, price=1.66144, stoplimit=0.0, sl=1.65874, tp=0.0, deviation=10, type=2, type_filling=2, type_time=0, expiration=0, comment='sent by python', position=0, position_by=0))\n"
     ]
    },
    {
     "data": {
      "text/plain": [
       "OrderSendResult(retcode=10009, deal=0, order=5785562, volume=0.08, price=0.0, bid=0.0, ask=0.0, comment='Request executed', request_id=10, retcode_external=0, request=TradeRequest(action=5, magic=9, order=0, symbol='EURNZD', volume=0.08, price=1.66144, stoplimit=0.0, sl=1.65874, tp=0.0, deviation=10, type=2, type_filling=2, type_time=0, expiration=0, comment='sent by python', position=0, position_by=0))"
      ]
     },
     "execution_count": 198,
     "metadata": {},
     "output_type": "execute_result"
    }
   ],
   "source": [
    "update_order(o[0])"
   ]
  },
  {
   "cell_type": "code",
   "execution_count": null,
   "metadata": {},
   "outputs": [],
   "source": []
  }
 ],
 "metadata": {
  "kernelspec": {
   "display_name": "Python 3",
   "language": "python",
   "name": "python3"
  },
  "language_info": {
   "codemirror_mode": {
    "name": "ipython",
    "version": 3
   },
   "file_extension": ".py",
   "mimetype": "text/x-python",
   "name": "python",
   "nbconvert_exporter": "python",
   "pygments_lexer": "ipython3",
   "version": "3.7.6"
  }
 },
 "nbformat": 4,
 "nbformat_minor": 4
}
