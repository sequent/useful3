{
 "cells": [
  {
   "cell_type": "code",
   "execution_count": 1,
   "metadata": {},
   "outputs": [
    {
     "data": {
      "text/html": [
       "<style>.container { width:80% !important; }</style>"
      ],
      "text/plain": [
       "<IPython.core.display.HTML object>"
      ]
     },
     "metadata": {},
     "output_type": "display_data"
    }
   ],
   "source": [
    "from IPython.core.display import display, HTML\n",
    "display(HTML(\"<style>.container { width:80% !important; }</style>\"))\n",
    "\n",
    "import requests\n",
    "from bs4 import BeautifulSoup\n",
    "import re\n",
    "import time\n",
    "from tqdm.notebook import tqdm\n",
    "import json\n",
    "import pandas as pd"
   ]
  },
  {
   "cell_type": "code",
   "execution_count": 3,
   "metadata": {},
   "outputs": [],
   "source": [
    "def get_listing_details(url_row):\n",
    "\n",
    "    r = requests.get(url_row[1])\n",
    "    soup = BeautifulSoup(r.content)\n",
    "    \n",
    "    if soup.find_all('p', class_=\"wt-text-body-01 wt-mr-xs-1\"):\n",
    "        if soup.find('p', class_=\"wt-text-body-01 wt-mr-xs-1\").find_all('a', class_=\"wt-text-link-no-underline\"):\n",
    "            seller_text = soup.find('p', class_=\"wt-text-body-01 wt-mr-xs-1\").find('a', class_=\"wt-text-link-no-underline\").text.strip()\n",
    "        else:\n",
    "            seller_text = None\n",
    "    else:\n",
    "        seller_text = None\n",
    "        \n",
    "    if soup.find_all('p', class_=\"wt-text-body-01 wt-mr-xs-1\"):\n",
    "        if soup.find('p', class_=\"wt-text-body-01 wt-mr-xs-1\").find_all('a', class_=\"wt-text-link-no-underline\"):\n",
    "            seller_href = soup.find('p', class_=\"wt-text-body-01 wt-mr-xs-1\").find('a', class_=\"wt-text-link-no-underline\")['href']\n",
    "        else:\n",
    "            seller_href = None\n",
    "    else:\n",
    "        seller_href = None\n",
    "    \n",
    "    if soup.find_all('h1', class_=\"wt-text-body-03 wt-line-height-tight wt-break-word wt-mb-xs-1\"):\n",
    "        listing_title = soup.find('h1', class_=\"wt-text-body-03 wt-line-height-tight wt-break-word wt-mb-xs-1\").text.strip()\n",
    "    else:\n",
    "        listing_title = None\n",
    "        \n",
    "    if soup.find_all('p', class_=\"wt-text-title-03 wt-mr-xs-2\"):\n",
    "        listing_price = soup.find('p', class_=\"wt-text-title-03 wt-mr-xs-2\").text\n",
    "    else:\n",
    "        listing_price = None\n",
    "\n",
    "    listing_highlights = [\n",
    "        _.text.strip() for _ \n",
    "        in soup.find_all('li', class_=\"wt-list-unstyled wt-display-flex-xs wt-align-items-flex-start\")\n",
    "    ]\n",
    "\n",
    "    if soup\\\n",
    "        .find_all('div', class_=\"wt-display-inline-flex-xs wt-align-items-center wt-mb-xs-2 wt-flex-wrap\"):\n",
    "        if soup\\\n",
    "        .find('div', class_=\"wt-display-inline-flex-xs wt-align-items-center wt-mb-xs-2 wt-flex-wrap\")\\\n",
    "        .find_all('span', class_='wt-text-caption'):\n",
    "            store_sales = soup\\\n",
    "                .find('div', class_=\"wt-display-inline-flex-xs wt-align-items-center wt-mb-xs-2 wt-flex-wrap\")\\\n",
    "                .find('span', class_='wt-text-caption').text\n",
    "        else:\n",
    "            store_sales = None\n",
    "    else:\n",
    "        store_sales = None\n",
    "    \n",
    "    if soup\\\n",
    "        .find_all('div', class_=\"wt-display-inline-flex-xs wt-align-items-center wt-mb-xs-2 wt-flex-wrap\"):\n",
    "        if soup\\\n",
    "        .find('div', class_=\"wt-display-inline-flex-xs wt-align-items-center wt-mb-xs-2 wt-flex-wrap\")\\\n",
    "        .find_all('input', attrs={'name': 'initial-rating'}):\n",
    "            store_rating = soup\\\n",
    "                .find('div', class_=\"wt-display-inline-flex-xs wt-align-items-center wt-mb-xs-2 wt-flex-wrap\")\\\n",
    "                .find('input', attrs={'name': 'initial-rating'})['value']\n",
    "        else:\n",
    "            store_rating = None\n",
    "    else:\n",
    "        store_rating = None\n",
    "\n",
    "    if soup.find_all('span', class_=\"wt-badge wt-badge--status-03 wt-mt-xs-1 wt-mr-xs-1 search-half-unit-mb\"):\n",
    "        listing_bestseller = soup\\\n",
    "            .find('span', class_=\"wt-badge wt-badge--status-03 wt-mt-xs-1 wt-mr-xs-1 search-half-unit-mb\").text.strip()\n",
    "    else:\n",
    "        listing_bestseller = '-'\n",
    "\n",
    "    # get description\n",
    "    if soup.find_all('p', class_=\"wt-text-body-01 wt-break-word\"):\n",
    "        listing_desc = soup.find('p', class_=\"wt-text-body-01 wt-break-word\").text\n",
    "    else:\n",
    "        listing_desc = None\n",
    "\n",
    "    # GET REVIEWS FOR ITEM\n",
    "    if soup.find_all('button', attrs={'aria-controls': 'same-listing-reviews-panel'}):\n",
    "        listing_reviews = soup.find('button', attrs={'aria-controls': 'same-listing-reviews-panel'}).find('span').text.strip()\n",
    "    else:\n",
    "        listing_reviews = None\n",
    "        \n",
    "    # get shop reviews\n",
    "    if soup.find_all('h3', class_=\"wt-mr-xs-2 wt-text-body-03\"):\n",
    "        store_reviews = soup.find('h3', class_=\"wt-mr-xs-2 wt-text-body-03\").text.strip()\n",
    "    else:\n",
    "        store_reviews = None\n",
    "        \n",
    "    details = {\n",
    "        'seller_text': seller_text,\n",
    "        'seller_href': seller_href,\n",
    "        'store_sales': store_sales,\n",
    "        'store_rating': store_rating,\n",
    "        'listing_title': listing_title,\n",
    "        'listing_bestseller': listing_bestseller,\n",
    "        'listing_price': listing_price,\n",
    "        'listing_highlights': listing_highlights,\n",
    "        'listing_desc': listing_desc,\n",
    "        'listing_reviews': listing_reviews,\n",
    "        'store_reviews': store_reviews,\n",
    "        'cart': url_row[2],\n",
    "        # 'url': url_row[1],\n",
    "    }\n",
    "\n",
    "    return details\n",
    "\n",
    "\n",
    "# def get_search_listings(cat_url):\n",
    "\n",
    "#     # get listing urls for cat or store url\n",
    "#     r = requests.get(cat_url[0])\n",
    "\n",
    "#     soup = BeautifulSoup(r.content)\n",
    "\n",
    "#     search_listings = [\n",
    "#         x.find('a')['href'] for x in \n",
    "#         soup.find(\n",
    "#             'ul', \n",
    "#             class_=\"responsive-listing-grid wt-grid wt-grid--block wt-justify-content-flex-start wt-list-unstyled wt-pl-xs-0 tab-reorder-container\"\n",
    "#         )\\\n",
    "#         .find_all('li')\n",
    "#     ]\n",
    "\n",
    "#     next_page = soup.find('a', attrs={'data-page': 2})['href']\n",
    "    \n",
    "#     return search_listings, next_page\n",
    "\n",
    "\n",
    "# def get_two_search(cat_url):\n",
    "    \n",
    "#     search_listings, next_page = get_search_listings(cat_url[0])\n",
    "#     search_listing_results = search_listings\n",
    "\n",
    "#     search_listings, next_page = get_search_listings(next_page)\n",
    "#     search_listing_results.extend(search_listings)\n",
    "\n",
    "#     return list(set(search_listing_results))\n",
    "\n",
    "\n",
    "# def iterate_cat_urls(cat_urls):\n",
    "    \n",
    "#     data = []\n",
    "#     for _ in tqdm(cat_urls):\n",
    "#         results = get_two_search(_)\n",
    "#         data.extend(results)\n",
    "\n",
    "#     urls_clean = [\n",
    "#         re.search(r'(?:(?!\\?).)*', _).group(0) for _\n",
    "#         in list(set(data))\n",
    "#     ]\n",
    "    \n",
    "#     return urls_clean\n",
    "\n",
    "\n",
    "def iterate_listings(urls_clean):\n",
    "    \n",
    "    data = []\n",
    "    for _ in tqdm(urls_clean):\n",
    "        \n",
    "        try:\n",
    "            url_result = get_listing_details(_)\n",
    "            url_result.update({'url': _[1]})\n",
    "            time.sleep(.2)\n",
    "            data.append(url_result)\n",
    "            json.dump(data, open('./data/temp_data.json', 'w')) # in case of interruption\n",
    "            \n",
    "        except KeyboardInterrupt:\n",
    "            return data\n",
    "    \n",
    "    return data\n",
    "\n",
    "\n",
    "def recover():\n",
    "    data = json.load(open('temp_data.json', 'r'))\n",
    "    return data\n",
    "\n",
    "# def get_url_from_search(search_url, pages):\n",
    "\n",
    "#     def request_urls(search_url):\n",
    "        \n",
    "#         # get clean URLs from search results\n",
    "#         r = requests.get(search_url)\n",
    "\n",
    "#         soup = BeautifulSoup(r.content)\n",
    "\n",
    "#         clean_urls = [\n",
    "#             _['href'] for _ in soup.find_all('a') if _.has_attr('href') and 'listing' in _['href']\n",
    "#         ]\n",
    "        \n",
    "#         return clean_urls\n",
    "    \n",
    "#     clean_urls = request_urls(search_url)\n",
    "    \n",
    "#     for page in range(2, pages+1):\n",
    "#         search_url = soup.select('a[href*=\"page={}\"]'.format(page))[0]['href']\n",
    "#         clean_urls.extend(request_urls(search_url))\n",
    "#         time.sleep(1)\n",
    "    \n",
    "#     return clean_urls"
   ]
  },
  {
   "cell_type": "code",
   "execution_count": 4,
   "metadata": {},
   "outputs": [],
   "source": [
    "def get_product_urls(shop_url):\n",
    "\n",
    "    r = requests.get(shop_url)\n",
    "    soup = BeautifulSoup(r.content)\n",
    "\n",
    "    search_listings = [\n",
    "        [\n",
    "            _['title'], \n",
    "            re.search(r'(?:(?!\\?).)*', _['href']).group(0), \n",
    "            _.find('div', class_=\"wt-text-brick wt-text-caption wt-pt-xs-1\").text.strip()\n",
    "        ]\n",
    "        for _ in soup.find_all('a', class_=\"listing-link wt-display-inline-block wt-transparent-card\")\n",
    "        if _.find_all('div', class_=\"wt-text-brick wt-text-caption wt-pt-xs-1\")\n",
    "    ]\n",
    "\n",
    "    # next_page = soup.find('a', attrs={'data-page': 2})['href']\n",
    "\n",
    "    return search_listings"
   ]
  },
  {
   "cell_type": "code",
   "execution_count": 5,
   "metadata": {},
   "outputs": [],
   "source": [
    "def iter_shops(shop_urls):\n",
    "    \n",
    "    shops = []\n",
    "    for shop in tqdm(shop_urls):\n",
    "        product_urls = get_product_urls(shop)\n",
    "        shops.extend(product_urls)\n",
    "    \n",
    "    return shops"
   ]
  },
  {
   "cell_type": "code",
   "execution_count": 28,
   "metadata": {},
   "outputs": [],
   "source": [
    "# For browsing shops\n",
    "shop_urls = [\n",
    "    'https://www.etsy.com/shop/ParadigmArt',\n",
    "    'https://www.etsy.com/shop/DIYPaperBoutique'\n",
    "    'https://www.etsy.com/shop/ParadigmArt'\n",
    "    'https://www.etsy.com/shop/AngelicArtShop',\n",
    "    'https://www.etsy.com/shop/OldMarketCorner',\n",
    "    'https://www.etsy.com/shop/YouGrewPrintables',\n",
    "    'https://www.etsy.com/shop/KAMDesignHaus',\n",
    "    'https://www.etsy.com/shop/SurpriseINC',\n",
    "    'https://www.etsy.com/shop/HelloMarketingStudio',\n",
    "    'https://www.etsy.com/shop/SimpleBizBranding',\n",
    "    'https://www.etsy.com/shop/ImperfectInspo',\n",
    "    'https://www.etsy.com/shop/BrushAndBarley',\n",
    "    'https://www.etsy.com/shop/GiftedGold',\n",
    "    'https://www.etsy.com/shop/KIKIANDNIM',\n",
    "    'https://www.etsy.com/shop/PrintsVilla',\n",
    "    'https://www.etsy.com/shop/SevenPaperPrints',\n",
    "    'https://www.etsy.com/shop/DaniellaDuranDesigns',\n",
    "    'https://www.etsy.com/shop/ILovePrintable',\n",
    "    'https://www.etsy.com/shop/DivineDigitalPrints',\n",
    "    'https://www.etsy.com/shop/HEARTSinCOLORS',\n",
    "    'https://www.etsy.com/shop/WallDecorIdeas',\n",
    "]"
   ]
  },
  {
   "cell_type": "code",
   "execution_count": 29,
   "metadata": {},
   "outputs": [
    {
     "data": {
      "application/vnd.jupyter.widget-view+json": {
       "model_id": "f873913df08d40328f831438fe572778",
       "version_major": 2,
       "version_minor": 0
      },
      "text/plain": [
       "HBox(children=(HTML(value=''), FloatProgress(value=0.0, max=19.0), HTML(value='')))"
      ]
     },
     "metadata": {},
     "output_type": "display_data"
    },
    {
     "name": "stdout",
     "output_type": "stream",
     "text": [
      "\n"
     ]
    }
   ],
   "source": [
    "product_urls = iter_shops(shop_urls)"
   ]
  },
  {
   "cell_type": "code",
   "execution_count": 30,
   "metadata": {},
   "outputs": [
    {
     "data": {
      "text/plain": [
       "[['Work From Home Gifts, Do Epic Shit Sign, Work From Home Printable Wall Art, Print Art, Shirt, Motivation Wall Decor, Poster, WFH Gifts',\n",
       "  'https://www.etsy.com/listing/486150960/work-from-home-gifts-do-epic-shit-sign',\n",
       "  '12 people have this in their cart'],\n",
       " ['Inhale Exhale Print, Printable Wall Art Print, Instant Download Printable Art, Printable Quote, Prints, Motivation Wall Decor, Yoga Print',\n",
       "  'https://www.etsy.com/listing/294341913/inhale-exhale-print-printable-wall-art',\n",
       "  '20 people have this in their cart'],\n",
       " ['Wedding Photo Booth Prop Signs and Decorations - Rustic Wood Fence Wedding Photobooth Printables - Over 50 Images - Printable Digital File',\n",
       "  'https://www.etsy.com/listing/522272710/wedding-photo-booth-prop-signs-and',\n",
       "  'Over 20 people have this in their cart'],\n",
       " ['Wedding Photo Booth Prop Signs and Decorations - Black with White Writing Wedding Props - Over 50 Wedding Signs - Printable Digital File',\n",
       "  'https://www.etsy.com/listing/613314189/wedding-photo-booth-prop-signs-and',\n",
       "  '19 people have this in their cart'],\n",
       " ['Wedding Anniversary Photo Booth Prop Signs and Decorations - Over 35 Gold Glitter Anniversary Photobooth Props - Printable Digital File',\n",
       "  'https://www.etsy.com/listing/619389379/wedding-anniversary-photo-booth-prop',\n",
       "  '4 people have this in their cart']]"
      ]
     },
     "execution_count": 30,
     "metadata": {},
     "output_type": "execute_result"
    }
   ],
   "source": [
    "product_urls[:5]"
   ]
  },
  {
   "cell_type": "code",
   "execution_count": 31,
   "metadata": {},
   "outputs": [
    {
     "data": {
      "application/vnd.jupyter.widget-view+json": {
       "model_id": "234f7a1fd7a8418ab98e7e9366be3c47",
       "version_major": 2,
       "version_minor": 0
      },
      "text/plain": [
       "HBox(children=(HTML(value=''), FloatProgress(value=0.0, max=94.0), HTML(value='')))"
      ]
     },
     "metadata": {},
     "output_type": "display_data"
    },
    {
     "name": "stdout",
     "output_type": "stream",
     "text": [
      "\n"
     ]
    }
   ],
   "source": [
    "# urls_clean = [_ for _ in product_urls]\n",
    "data = iterate_listings(product_urls)"
   ]
  },
  {
   "cell_type": "code",
   "execution_count": 6,
   "metadata": {},
   "outputs": [],
   "source": [
    "data = recover()"
   ]
  },
  {
   "cell_type": "code",
   "execution_count": 7,
   "metadata": {},
   "outputs": [
    {
     "data": {
      "text/plain": [
       "{'seller_text': 'ParadigmArt',\n",
       " 'seller_href': 'https://www.etsy.com/shop/ParadigmArt?ref=simple-shop-header-name&listing_id=486150960',\n",
       " 'store_sales': '17,756 sales',\n",
       " 'store_rating': '4.9483',\n",
       " 'listing_title': 'Work From Home Gifts, Do Epic Shit Sign, Work From Home Printable Wall Art, Print Art, Shirt, Motivation Wall Decor, Poster, WFH Gifts',\n",
       " 'listing_bestseller': '-',\n",
       " 'listing_price': '\\n                        $5.99\\n                    ',\n",
       " 'listing_highlights': ['Digital download', 'Digital file type(s): 5 JPG'],\n",
       " 'listing_desc': '\\n                    **STOREWIDE PROMOTION** Get 5 prints for the price of 3! Simply checkout with 5 prints in your cart and a 40% discount will automatically be applied. Happy shopping and printing!!INSTANT DOWNLOADNO PHYSICAL PRINT INCLUDEDPrint razor sharp prints at your own convenience in sizes up to A2!Have a custom quote in mind?  Choose from a style that you like from my selection of custom templates here → http://etsy.me/2uqfqRFDo check out my shop http://paradigmart.etsy.com for more designs,With 1400+ different designs available for you to choose from to date, there\\'s something for everyone!===Print out this modern wall artwork from your home computer or local print shop to style and decorate your home or office!Print includes: 5 JPG filesYour order will include 5 JPG with different sizes. You\\'ll get every single file described below! Having these multiple files helps ensure that you can print the design at your home or local print shop, however you decide to print. Here are details of each file:1) X-Small JPEG: 4\" x 6\" - Prints on an 8.5\" x 11\" so you can trim your 4x6 out on your own.2) Small JPEG: 5\" x 7\" - Prints on an 8.5\" x 11\" so you can trim out a 5x73) Medium JPEG : 8\" x 10\" - Prints on an 8.5 x 11\" - no trimming needed4) Large JPEG: 11\" x 14\" - Prints on an 11\" x 17\" so you can trim down.5) Extra Large JPEG - This will work with most frame/standard picture sizes up to 18\" x 24\"Each JPG is high-resolution (300 dots per inch), which will get you very clean, clear prints.===PLEASE NOTE: You will not receive a physical print in the mail when purchasing this listing - BUT when you receive the file to save on your computer, you can print it out as many times as you\\'d like! Make sure to purchase a frame that fits the size of your print!Please contact me if you have any questions, I\\'d be more than glad to help you :)\\n                ',\n",
       " 'listing_reviews': '14',\n",
       " 'store_reviews': '833 reviews',\n",
       " 'cart': '12 people have this in their cart',\n",
       " 'url': 'https://www.etsy.com/listing/486150960/work-from-home-gifts-do-epic-shit-sign'}"
      ]
     },
     "execution_count": 7,
     "metadata": {},
     "output_type": "execute_result"
    }
   ],
   "source": [
    "data[0]"
   ]
  },
  {
   "cell_type": "code",
   "execution_count": 8,
   "metadata": {},
   "outputs": [],
   "source": [
    "for _ in data:\n",
    "    \n",
    "    listing_price_clean = float(re.search(r'\\$[0-9]{1,}\\.[0-9]{1,}', _['listing_price']).group(0).replace('$', ''))\n",
    "    store_sales_clean = int(re.search(r'[0-9,]{1,}', _['store_sales']).group(0).replace(',', ''))\n",
    "    store_reviews_clean = int(re.search(r'[0-9,]{1,}', _['store_reviews']).group(0).replace(',', ''))\n",
    "    listing_reviews_clean = int(_['listing_reviews']) if _['listing_reviews'] is not None else 0\n",
    "    cart_clean = int(re.search(r'[0-9]{1,}', _['cart']).group(0))\n",
    "    # listing_desc = _['listing_desc'].strip()\n",
    "    \n",
    "    _['listing_price_clean'] = listing_price_clean\n",
    "    _['store_sales_clean'] = store_sales_clean\n",
    "    _['store_reviews_clean'] = store_reviews_clean\n",
    "    _['listing_reviews_clean'] = listing_reviews_clean\n",
    "    _['cart_clean'] = cart_clean\n",
    "    # _['listing_desc'] = listing_desc\n",
    "\n",
    "df = pd.DataFrame(data)[[\n",
    "    'seller_text', 'store_sales_clean', 'store_rating', 'store_reviews_clean', 'listing_reviews_clean',\n",
    "    'listing_price_clean', 'listing_bestseller', 'listing_title', \n",
    "     'url', 'cart_clean', 'listing_desc', 'listing_highlights',\n",
    "]]"
   ]
  },
  {
   "cell_type": "code",
   "execution_count": 9,
   "metadata": {},
   "outputs": [],
   "source": [
    "df = df.rename(columns={\n",
    "    'seller_text': 'seller',\n",
    "    'store_sales_clean': 'sales (store)',\n",
    "    'store_rating': 'rating (store)',\n",
    "    'store_reviews_clean': 'reviews (store)',\n",
    "    'listing_reviews_clean': 'reviews (listing)',\n",
    "    'listing_price_clean': 'price',\n",
    "    'listing_bestseller': 'bestseller',\n",
    "    'listing_title': 'title',\n",
    "    'listing_highlights': 'highlights',\n",
    "    'cart_clean': 'cart',\n",
    "    'listing_desc': 'desc'\n",
    "})"
   ]
  },
  {
   "cell_type": "code",
   "execution_count": 10,
   "metadata": {},
   "outputs": [],
   "source": [
    "df.sort_values(by=['cart', 'reviews (listing)', 'reviews (store)'], ascending=False).to_csv('./results/fire_listings_210709.csv', index=False)"
   ]
  },
  {
   "cell_type": "code",
   "execution_count": null,
   "metadata": {},
   "outputs": [],
   "source": []
  }
 ],
 "metadata": {
  "kernelspec": {
   "display_name": "Python 3",
   "language": "python",
   "name": "python3"
  },
  "language_info": {
   "codemirror_mode": {
    "name": "ipython",
    "version": 3
   },
   "file_extension": ".py",
   "mimetype": "text/x-python",
   "name": "python",
   "nbconvert_exporter": "python",
   "pygments_lexer": "ipython3",
   "version": "3.8.5"
  }
 },
 "nbformat": 4,
 "nbformat_minor": 4
}
