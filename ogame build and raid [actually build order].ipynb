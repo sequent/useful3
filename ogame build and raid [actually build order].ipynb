{
 "cells": [
  {
   "cell_type": "code",
   "execution_count": null,
   "metadata": {},
   "outputs": [],
   "source": [
    "# https://github.com/alaingilbert/pyogame/wiki/Code-Snippets"
   ]
  },
  {
   "cell_type": "code",
   "execution_count": 7,
   "metadata": {},
   "outputs": [],
   "source": [
    "import os\n",
    "import sys\n",
    "module_path = os.path.abspath(os.path.join('../pyogame'))\n",
    "if module_path not in sys.path:\n",
    "    sys.path.append(module_path)\n",
    "\n",
    "from ogame import OGame, constants\n",
    "import time\n",
    "# import re\n",
    "\n",
    "### Build and Raid \n",
    "\n",
    "# Checks every 5m\n",
    "# Builds according to https://ogame.fandom.com/wiki/Quick_Start_Guide\n",
    "# Otherwise, builds small cargoes and raids inactives\n",
    "\n",
    "BUILD_ORDER = [\n",
    "    (constants.buildings.solar_plant, 1),\n",
    "    (constants.buildings.metal_mine, 1),\n",
    "    (constants.buildings.metal_mine, 2),\n",
    "    (constants.buildings.solar_plant, 2),\n",
    "    (constants.buildings.metal_mine, 3),\n",
    "    (constants.buildings.metal_mine, 4),\n",
    "    (constants.buildings.solar_plant, 3),\n",
    "    (constants.buildings.crystal_mine, 1),\n",
    "    (constants.buildings.solar_plant, 4),\n",
    "    (constants.buildings.metal_mine, 5),\n",
    "    (constants.buildings.crystal_mine, 2),\n",
    "    (constants.buildings.crystal_mine, 3),\n",
    "    (constants.buildings.solar_plant, 5),\n",
    "    (constants.buildings.deuterium_mine, 1),\n",
    "    (constants.buildings.crystal_mine, 4),\n",
    "    (constants.buildings.solar_plant, 6),\n",
    "    (constants.buildings.metal_mine, 6),\n",
    "    (constants.buildings.metal_mine, 7),\n",
    "    (constants.buildings.solar_plant, 7),\n",
    "    (constants.buildings.crystal_mine, 5),\n",
    "    (constants.buildings.deuterium_mine, 2),\n",
    "    (constants.buildings.solar_plant, 8),\n",
    "    (constants.buildings.deuterium_mine, 3),\n",
    "    (constants.buildings.deuterium_mine, 4),\n",
    "    (constants.buildings.solar_plant, 9),\n",
    "    (constants.buildings.deuterium_mine, 5),\n",
    "    (constants.buildings.robotics_factory, 1),\n",
    "    (constants.buildings.robotics_factory, 2),\n",
    "    (constants.buildings.research_laboratory, 1),\n",
    "    (constants.buildings.shipyard, 1),\n",
    "    (constants.buildings.crystal_mine, 6),\n",
    "    (constants.buildings.shipyard, 2),\n",
    "    (constants.buildings.solar_plant, 10),\n",
    "    (constants.buildings.deuterium_mine, 6),\n",
    "    (constants.buildings.metal_mine, 8),\n",
    "    (constants.research.energy, 1),\n",
    "    (constants.research.combustion_drive, 1),\n",
    "    (constants.buildings.solar_plant, 11),\n",
    "    (constants.research.combustion_drive, 2),\n",
    "    (constants.buildings.crystal_mine, 7),\n",
    "    (constants.buildings.shipyard, 3),\n",
    "    (constants.buildings.metal_mine, 9),\n",
    "]\n",
    "\n",
    "# Log in\n",
    "def log_in(UNIVERSE, USERNAME, PASSWORD):\n",
    "    empire = OGame(\n",
    "        universe=UNIVERSE,\n",
    "        username=USERNAME,\n",
    "        password=PASSWORD\n",
    "    )\n",
    "    return empire\n",
    "\n",
    "# Check levels of buildings / is possible to build\n",
    "def check_bldg_lvls(empire, id):\n",
    "    \n",
    "    # id = empire.planet_ids()[0] # defaulting to homeworld\n",
    "    supply = empire.supply(id)\n",
    "    research = empire.research()\n",
    "    facilities = empire.facilities(id)\n",
    "    \n",
    "    # check levels\n",
    "    lvls = {\n",
    "        constants.buildings.solar_plant: supply.solar_plant.level,\n",
    "        constants.buildings.metal_mine: supply.metal_mine.level,\n",
    "        constants.buildings.crystal_mine: supply.crystal_mine.level,\n",
    "        constants.buildings.deuterium_mine: supply.deuterium_mine.level,\n",
    "        constants.research.energy: research.energy.level,\n",
    "        constants.research.combustion_drive: research.combustion_drive.level,\n",
    "        constants.buildings.robotics_factory: facilities.robotics_factory.level,\n",
    "        constants.buildings.shipyard: facilities.shipyard.level,\n",
    "        constants.buildings.research_laboratory: facilities.research_laboratory.level\n",
    "    }\n",
    "    \n",
    "    return lvls\n",
    "\n",
    "# Figure out efficient way to zero in on next step of build order\n",
    "def check_build_order(empire, lvls):\n",
    "    \n",
    "    bo_remaining = [\n",
    "        x for x in BUILD_ORDER \n",
    "        if ((x[0] == constants.buildings.solar_plant and x[1] > lvls[constants.buildings.solar_plant]))\n",
    "        or ((x[0] == constants.buildings.metal_mine and x[1] > lvls[constants.buildings.metal_mine]))\n",
    "        or ((x[0] == constants.buildings.crystal_mine and x[1] > lvls[constants.buildings.crystal_mine]))\n",
    "        or ((x[0] == constants.buildings.deuterium_mine and x[1] > lvls[constants.buildings.deuterium_mine]))\n",
    "        or ((x[0] == constants.research.energy and x[1] > lvls[constants.research.energy]))\n",
    "        or ((x[0] == constants.research.combustion_drive and x[1] > lvls[constants.research.combustion_drive]))\n",
    "        or ((x[0] == constants.buildings.robotics_factory and x[1] > lvls[constants.buildings.robotics_factory]))\n",
    "        or ((x[0] == constants.buildings.shipyard and x[1] > lvls[constants.buildings.shipyard]))\n",
    "        or ((x[0] == constants.buildings.research_laboratory and x[1] > lvls[constants.buildings.research_laboratory]))\n",
    "    ]\n",
    "    \n",
    "    return bo_remaining\n",
    "\n",
    "# If this is all done, probe inactives\n",
    "def probe_inactives(empire):\n",
    "    return\n",
    "\n",
    "# If that is done, raid inactives\n",
    "def raid_inactives(empire):\n",
    "    return\n",
    "\n",
    "# Reinvest into cargoes and computer tech slots\n",
    "def reinvest(empire):\n",
    "    return\n",
    "\n",
    "# @empire.keep_going\n",
    "def run_all(empire):\n",
    "    \n",
    "    while True:\n",
    "        lvls = check_bldg_lvls(empire)\n",
    "        next_bo = check_build_order(empire, lvls)\n",
    "        id = empire.planet_ids()[0]\n",
    "        build = empire.build(next_bo[0][0], id)\n",
    "        time.sleep(20)\n",
    "        \n",
    "\n",
    "# empire = log_in('Ymir', 'samchakerian@gmail.com', '$R3e@W1q1q')\n",
    "# run_all(empire)"
   ]
  },
  {
   "cell_type": "code",
   "execution_count": 13,
   "metadata": {},
   "outputs": [],
   "source": [
    "empire = log_in('Ymir', 'samchakerian@gmail.com', '$R3e@W1q1q')\n",
    "# empire.planet_ids()[1:]"
   ]
  },
  {
   "cell_type": "code",
   "execution_count": 14,
   "metadata": {},
   "outputs": [
    {
     "name": "stdout",
     "output_type": "stream",
     "text": [
      "trying (4, 1, 'supplies') 33639070\n",
      "trying (1, 1, 'supplies') 33639650\n"
     ]
    },
    {
     "ename": "IndexError",
     "evalue": "list index out of range",
     "output_type": "error",
     "traceback": [
      "\u001b[1;31m---------------------------------------------------------------------------\u001b[0m",
      "\u001b[1;31mIndexError\u001b[0m                                Traceback (most recent call last)",
      "\u001b[1;32m<ipython-input-14-7b2d8c013dc9>\u001b[0m in \u001b[0;36m<module>\u001b[1;34m\u001b[0m\n\u001b[0;32m      1\u001b[0m \u001b[1;32mwhile\u001b[0m \u001b[1;32mTrue\u001b[0m\u001b[1;33m:\u001b[0m\u001b[1;33m\u001b[0m\u001b[1;33m\u001b[0m\u001b[0m\n\u001b[0;32m      2\u001b[0m     \u001b[1;32mfor\u001b[0m \u001b[0mplanet\u001b[0m \u001b[1;32min\u001b[0m \u001b[0mempire\u001b[0m\u001b[1;33m.\u001b[0m\u001b[0mplanet_ids\u001b[0m\u001b[1;33m(\u001b[0m\u001b[1;33m)\u001b[0m\u001b[1;33m[\u001b[0m\u001b[1;36m1\u001b[0m\u001b[1;33m:\u001b[0m\u001b[1;33m]\u001b[0m\u001b[1;33m:\u001b[0m\u001b[1;33m\u001b[0m\u001b[1;33m\u001b[0m\u001b[0m\n\u001b[1;32m----> 3\u001b[1;33m         \u001b[0mlvls\u001b[0m \u001b[1;33m=\u001b[0m \u001b[0mcheck_bldg_lvls\u001b[0m\u001b[1;33m(\u001b[0m\u001b[0mempire\u001b[0m\u001b[1;33m,\u001b[0m \u001b[0mplanet\u001b[0m\u001b[1;33m)\u001b[0m\u001b[1;33m\u001b[0m\u001b[1;33m\u001b[0m\u001b[0m\n\u001b[0m\u001b[0;32m      4\u001b[0m         \u001b[0mnext_bo\u001b[0m \u001b[1;33m=\u001b[0m \u001b[0mcheck_build_order\u001b[0m\u001b[1;33m(\u001b[0m\u001b[0mempire\u001b[0m\u001b[1;33m,\u001b[0m \u001b[0mlvls\u001b[0m\u001b[1;33m)\u001b[0m\u001b[1;33m\u001b[0m\u001b[1;33m\u001b[0m\u001b[0m\n\u001b[0;32m      5\u001b[0m         \u001b[0mprint\u001b[0m\u001b[1;33m(\u001b[0m\u001b[1;34m'trying'\u001b[0m\u001b[1;33m,\u001b[0m \u001b[0mnext_bo\u001b[0m\u001b[1;33m[\u001b[0m\u001b[1;36m0\u001b[0m\u001b[1;33m]\u001b[0m\u001b[1;33m[\u001b[0m\u001b[1;36m0\u001b[0m\u001b[1;33m]\u001b[0m\u001b[1;33m,\u001b[0m \u001b[0mplanet\u001b[0m\u001b[1;33m)\u001b[0m\u001b[1;33m\u001b[0m\u001b[1;33m\u001b[0m\u001b[0m\n",
      "\u001b[1;32m<ipython-input-7-de609e0f7d43>\u001b[0m in \u001b[0;36mcheck_bldg_lvls\u001b[1;34m(empire, id)\u001b[0m\n\u001b[0;32m     73\u001b[0m \u001b[1;33m\u001b[0m\u001b[0m\n\u001b[0;32m     74\u001b[0m     \u001b[1;31m# id = empire.planet_ids()[0] # defaulting to homeworld\u001b[0m\u001b[1;33m\u001b[0m\u001b[1;33m\u001b[0m\u001b[1;33m\u001b[0m\u001b[0m\n\u001b[1;32m---> 75\u001b[1;33m     \u001b[0msupply\u001b[0m \u001b[1;33m=\u001b[0m \u001b[0mempire\u001b[0m\u001b[1;33m.\u001b[0m\u001b[0msupply\u001b[0m\u001b[1;33m(\u001b[0m\u001b[0mid\u001b[0m\u001b[1;33m)\u001b[0m\u001b[1;33m\u001b[0m\u001b[1;33m\u001b[0m\u001b[0m\n\u001b[0m\u001b[0;32m     76\u001b[0m     \u001b[0mresearch\u001b[0m \u001b[1;33m=\u001b[0m \u001b[0mempire\u001b[0m\u001b[1;33m.\u001b[0m\u001b[0mresearch\u001b[0m\u001b[1;33m(\u001b[0m\u001b[1;33m)\u001b[0m\u001b[1;33m\u001b[0m\u001b[1;33m\u001b[0m\u001b[0m\n\u001b[0;32m     77\u001b[0m     \u001b[0mfacilities\u001b[0m \u001b[1;33m=\u001b[0m \u001b[0mempire\u001b[0m\u001b[1;33m.\u001b[0m\u001b[0mfacilities\u001b[0m\u001b[1;33m(\u001b[0m\u001b[0mid\u001b[0m\u001b[1;33m)\u001b[0m\u001b[1;33m\u001b[0m\u001b[1;33m\u001b[0m\u001b[0m\n",
      "\u001b[1;32m~\\Documents\\pyogame\\ogame\\__init__.py\u001b[0m in \u001b[0;36msupply\u001b[1;34m(self, id)\u001b[0m\n\u001b[0;32m    378\u001b[0m                 \u001b[0mself\u001b[0m\u001b[1;33m.\u001b[0m\u001b[0min_construction\u001b[0m \u001b[1;33m=\u001b[0m \u001b[0mOGame\u001b[0m\u001b[1;33m.\u001b[0m\u001b[0minConstruction\u001b[0m\u001b[1;33m(\u001b[0m\u001b[0mtechnologyStatus\u001b[0m\u001b[1;33m[\u001b[0m\u001b[0mi\u001b[0m\u001b[1;33m]\u001b[0m\u001b[1;33m)\u001b[0m\u001b[1;33m\u001b[0m\u001b[1;33m\u001b[0m\u001b[0m\n\u001b[0;32m    379\u001b[0m \u001b[1;33m\u001b[0m\u001b[0m\n\u001b[1;32m--> 380\u001b[1;33m         \u001b[1;32mclass\u001b[0m \u001b[0mSupplies\u001b[0m\u001b[1;33m(\u001b[0m\u001b[0mobject\u001b[0m\u001b[1;33m)\u001b[0m\u001b[1;33m:\u001b[0m\u001b[1;33m\u001b[0m\u001b[1;33m\u001b[0m\u001b[0m\n\u001b[0m\u001b[0;32m    381\u001b[0m             \u001b[0mmetal_mine\u001b[0m \u001b[1;33m=\u001b[0m \u001b[0mSupply\u001b[0m\u001b[1;33m(\u001b[0m\u001b[1;36m0\u001b[0m\u001b[1;33m)\u001b[0m\u001b[1;33m\u001b[0m\u001b[1;33m\u001b[0m\u001b[0m\n\u001b[0;32m    382\u001b[0m             \u001b[0mcrystal_mine\u001b[0m \u001b[1;33m=\u001b[0m \u001b[0mSupply\u001b[0m\u001b[1;33m(\u001b[0m\u001b[1;36m1\u001b[0m\u001b[1;33m)\u001b[0m\u001b[1;33m\u001b[0m\u001b[1;33m\u001b[0m\u001b[0m\n",
      "\u001b[1;32m~\\Documents\\pyogame\\ogame\\__init__.py\u001b[0m in \u001b[0;36mSupplies\u001b[1;34m()\u001b[0m\n\u001b[0;32m    379\u001b[0m \u001b[1;33m\u001b[0m\u001b[0m\n\u001b[0;32m    380\u001b[0m         \u001b[1;32mclass\u001b[0m \u001b[0mSupplies\u001b[0m\u001b[1;33m(\u001b[0m\u001b[0mobject\u001b[0m\u001b[1;33m)\u001b[0m\u001b[1;33m:\u001b[0m\u001b[1;33m\u001b[0m\u001b[1;33m\u001b[0m\u001b[0m\n\u001b[1;32m--> 381\u001b[1;33m             \u001b[0mmetal_mine\u001b[0m \u001b[1;33m=\u001b[0m \u001b[0mSupply\u001b[0m\u001b[1;33m(\u001b[0m\u001b[1;36m0\u001b[0m\u001b[1;33m)\u001b[0m\u001b[1;33m\u001b[0m\u001b[1;33m\u001b[0m\u001b[0m\n\u001b[0m\u001b[0;32m    382\u001b[0m             \u001b[0mcrystal_mine\u001b[0m \u001b[1;33m=\u001b[0m \u001b[0mSupply\u001b[0m\u001b[1;33m(\u001b[0m\u001b[1;36m1\u001b[0m\u001b[1;33m)\u001b[0m\u001b[1;33m\u001b[0m\u001b[1;33m\u001b[0m\u001b[0m\n\u001b[0;32m    383\u001b[0m             \u001b[0mdeuterium_mine\u001b[0m \u001b[1;33m=\u001b[0m \u001b[0mSupply\u001b[0m\u001b[1;33m(\u001b[0m\u001b[1;36m2\u001b[0m\u001b[1;33m)\u001b[0m\u001b[1;33m\u001b[0m\u001b[1;33m\u001b[0m\u001b[0m\n",
      "\u001b[1;32m~\\Documents\\pyogame\\ogame\\__init__.py\u001b[0m in \u001b[0;36m__init__\u001b[1;34m(self, i)\u001b[0m\n\u001b[0;32m    374\u001b[0m         \u001b[1;32mclass\u001b[0m \u001b[0mSupply\u001b[0m\u001b[1;33m:\u001b[0m\u001b[1;33m\u001b[0m\u001b[1;33m\u001b[0m\u001b[0m\n\u001b[0;32m    375\u001b[0m             \u001b[1;32mdef\u001b[0m \u001b[0m__init__\u001b[0m\u001b[1;33m(\u001b[0m\u001b[0mself\u001b[0m\u001b[1;33m,\u001b[0m \u001b[0mi\u001b[0m\u001b[1;33m)\u001b[0m\u001b[1;33m:\u001b[0m\u001b[1;33m\u001b[0m\u001b[1;33m\u001b[0m\u001b[0m\n\u001b[1;32m--> 376\u001b[1;33m                 \u001b[0mself\u001b[0m\u001b[1;33m.\u001b[0m\u001b[0mlevel\u001b[0m \u001b[1;33m=\u001b[0m \u001b[0mlevels\u001b[0m\u001b[1;33m[\u001b[0m\u001b[0mi\u001b[0m\u001b[1;33m]\u001b[0m\u001b[1;33m\u001b[0m\u001b[1;33m\u001b[0m\u001b[0m\n\u001b[0m\u001b[0;32m    377\u001b[0m                 \u001b[0mself\u001b[0m\u001b[1;33m.\u001b[0m\u001b[0mis_possible\u001b[0m \u001b[1;33m=\u001b[0m \u001b[0mOGame\u001b[0m\u001b[1;33m.\u001b[0m\u001b[0misPossible\u001b[0m\u001b[1;33m(\u001b[0m\u001b[0mtechnologyStatus\u001b[0m\u001b[1;33m[\u001b[0m\u001b[0mi\u001b[0m\u001b[1;33m]\u001b[0m\u001b[1;33m)\u001b[0m\u001b[1;33m\u001b[0m\u001b[1;33m\u001b[0m\u001b[0m\n\u001b[0;32m    378\u001b[0m                 \u001b[0mself\u001b[0m\u001b[1;33m.\u001b[0m\u001b[0min_construction\u001b[0m \u001b[1;33m=\u001b[0m \u001b[0mOGame\u001b[0m\u001b[1;33m.\u001b[0m\u001b[0minConstruction\u001b[0m\u001b[1;33m(\u001b[0m\u001b[0mtechnologyStatus\u001b[0m\u001b[1;33m[\u001b[0m\u001b[0mi\u001b[0m\u001b[1;33m]\u001b[0m\u001b[1;33m)\u001b[0m\u001b[1;33m\u001b[0m\u001b[1;33m\u001b[0m\u001b[0m\n",
      "\u001b[1;31mIndexError\u001b[0m: list index out of range"
     ]
    }
   ],
   "source": [
    "while True:\n",
    "    for planet in empire.planet_ids()[1:]:\n",
    "        lvls = check_bldg_lvls(empire, planet)\n",
    "        next_bo = check_build_order(empire, lvls)\n",
    "        print('trying', next_bo[0][0], planet)\n",
    "        empire.build(next_bo[0][0], planet)\n",
    "    time.sleep(60)"
   ]
  },
  {
   "cell_type": "code",
   "execution_count": 112,
   "metadata": {},
   "outputs": [],
   "source": [
    "# check what's building\n",
    "# id = empire.planet_ids()[0]\n",
    "supply = empire.supply(id)\n",
    "res = empire.resources(id)"
   ]
  },
  {
   "cell_type": "code",
   "execution_count": 122,
   "metadata": {},
   "outputs": [
    {
     "name": "stdout",
     "output_type": "stream",
     "text": [
      "{'sp': True, 'mm': False, 'cm': False, 'dm': False}\n",
      "{'sp': False, 'mm': False, 'cm': False, 'dm': False}\n",
      "{'sp': -43, 'mm': 9659, 'cm': 9891, 'dm': 1666}\n"
     ]
    }
   ],
   "source": [
    "# check bldg construction\n",
    "print({\n",
    "    'sp': supply.solar_plant.in_construction,\n",
    "    'mm': supply.metal_mine.in_construction,\n",
    "    'cm': supply.crystal_mine.in_construction,\n",
    "    'dm': supply.deuterium_mine.in_construction\n",
    "})\n",
    "\n",
    "# is possible\n",
    "print({\n",
    "    'sp': supply.solar_plant.is_possible,\n",
    "    'mm': supply.metal_mine.is_possible,\n",
    "    'cm': supply.crystal_mine.is_possible,\n",
    "    'dm': supply.deuterium_mine.is_possible\n",
    "})\n",
    "\n",
    "# check resources\n",
    "print({\n",
    "    'sp': res.energy,\n",
    "    'mm': res.metal,\n",
    "    'cm': res.crystal,\n",
    "    'dm': res.deuterium\n",
    "})"
   ]
  },
  {
   "cell_type": "code",
   "execution_count": 128,
   "metadata": {},
   "outputs": [],
   "source": [
    "if not empire.is_logged_in():\n",
    "    print('hi')"
   ]
  },
  {
   "cell_type": "code",
   "execution_count": null,
   "metadata": {},
   "outputs": [],
   "source": []
  }
 ],
 "metadata": {
  "kernelspec": {
   "display_name": "Python 3",
   "language": "python",
   "name": "python3"
  },
  "language_info": {
   "codemirror_mode": {
    "name": "ipython",
    "version": 3
   },
   "file_extension": ".py",
   "mimetype": "text/x-python",
   "name": "python",
   "nbconvert_exporter": "python",
   "pygments_lexer": "ipython3",
   "version": "3.7.6"
  }
 },
 "nbformat": 4,
 "nbformat_minor": 4
}
