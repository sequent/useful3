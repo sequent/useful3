{
 "cells": [
  {
   "cell_type": "code",
   "execution_count": 1,
   "metadata": {},
   "outputs": [
    {
     "data": {
      "text/plain": [
       "TerminalInfo(community_account=False, community_connection=False, connected=True, dlls_allowed=False, trade_allowed=True, tradeapi_disabled=False, email_enabled=False, ftp_enabled=False, notifications_enabled=False, mqid=False, build=2940, maxbars=100000, codepage=0, ping_last=212076, community_balance=0.0, retransmission=0.0, company='FX Choice Limited', name='FXChoice MetaTrader 5', language='English', path='C:\\\\Program Files\\\\FXChoice MetaTrader 5', ...)"
      ]
     },
     "execution_count": 1,
     "metadata": {},
     "output_type": "execute_result"
    }
   ],
   "source": [
    "# !pip install MetaTrader5\n",
    "\n",
    "import MetaTrader5 as mt5\n",
    "from datetime import datetime, timedelta\n",
    "import pandas as pd\n",
    "import time\n",
    "from tqdm.notebook import tqdm\n",
    "\n",
    "if not mt5.initialize():\n",
    "    mt5.shutdown()\n",
    "mt5.terminal_info()"
   ]
  },
  {
   "cell_type": "code",
   "execution_count": 2,
   "metadata": {
    "scrolled": false
   },
   "outputs": [
    {
     "name": "stdout",
     "output_type": "stream",
     "text": [
      "[['EURJPY', 129.7, 0.04, 0.202949], ['EURJPY', 133.573, 0.04, 0.202949], ['EURUSD', 1.17051, 0.04, 0.001824], ['GBPJPY', 154.944, 0.03, 0.272184], ['GBPUSD', 1.4131, 0.03, 0.002383], ['GBPUSD', 1.36883, 0.03, 0.002383], ['USDCAD', 1.25059, 0.05, 0.00212], ['USDCHF', 0.94358, 0.06, 0.001248], ['USDCHF', 0.84784, 0.06, 0.001248], ['USDJPY', 110.781, 0.07, 0.132112], ['NZDUSD', 0.72412, 0.05, 0.001505]]\n"
     ]
    },
    {
     "data": {
      "application/vnd.jupyter.widget-view+json": {
       "model_id": "a584d75c08264497a83ec5564c8a71f9",
       "version_major": 2,
       "version_minor": 0
      },
      "text/plain": [
       "HBox(children=(FloatProgress(value=0.0, max=8.0), HTML(value='')))"
      ]
     },
     "metadata": {},
     "output_type": "display_data"
    },
    {
     "name": "stdout",
     "output_type": "stream",
     "text": [
      "\n",
      "[['EURUSD', 1.187165], ['NZDUSD', 0.694435], ['GBPJPY', 152.1445], ['USDJPY', 110.1825], ['GBPUSD', 1.380835], ['USDCAD', 1.24524], ['EURJPY', 130.806], ['USDCHF', 0.922405]]\n",
      "buy ['EURJPY', 129.7, 0.04, 0.202949]\n",
      "sell ['EURJPY', 133.573, 0.04, 0.202949]\n",
      "buy ['EURUSD', 1.17051, 0.04, 0.001824]\n",
      "sell ['GBPJPY', 154.944, 0.03, 0.272184]\n",
      "sell ['GBPUSD', 1.4131, 0.03, 0.002383]\n",
      "buy ['GBPUSD', 1.36883, 0.03, 0.002383]\n",
      "sell ['USDCAD', 1.25059, 0.05, 0.00212]\n",
      "sell ['USDCHF', 0.94358, 0.06, 0.001248]\n",
      "buy ['USDCHF', 0.84784, 0.06, 0.001248]\n",
      "sell ['USDJPY', 110.781, 0.07, 0.132112]\n",
      "sell ['NZDUSD', 0.72412, 0.05, 0.001505]\n"
     ]
    },
    {
     "data": {
      "text/plain": [
       "[OrderSendResult(retcode=10009, deal=0, order=5786771, volume=0.04, price=0.0, bid=0.0, ask=0.0, comment='Request executed', request_id=1, retcode_external=0, request=TradeRequest(action=5, magic=9, order=0, symbol='EURJPY', volume=0.04, price=129.7, stoplimit=0.0, sl=129.497051, tp=130.308847, deviation=10, type=2, type_filling=2, type_time=0, expiration=0, comment='sent by python', position=0, position_by=0)),\n",
       " OrderSendResult(retcode=10009, deal=0, order=5786772, volume=0.04, price=0.0, bid=0.0, ask=0.0, comment='Request executed', request_id=2, retcode_external=0, request=TradeRequest(action=5, magic=9, order=0, symbol='EURJPY', volume=0.04, price=133.573, stoplimit=0.0, sl=133.775949, tp=132.964153, deviation=10, type=3, type_filling=2, type_time=0, expiration=0, comment='sent by python', position=0, position_by=0)),\n",
       " OrderSendResult(retcode=10009, deal=0, order=5786773, volume=0.04, price=0.0, bid=0.0, ask=0.0, comment='Request executed', request_id=3, retcode_external=0, request=TradeRequest(action=5, magic=9, order=0, symbol='EURUSD', volume=0.04, price=1.17051, stoplimit=0.0, sl=1.168686, tp=1.1759819999999999, deviation=10, type=2, type_filling=2, type_time=0, expiration=0, comment='sent by python', position=0, position_by=0)),\n",
       " OrderSendResult(retcode=10009, deal=0, order=5786774, volume=0.03, price=0.0, bid=0.0, ask=0.0, comment='Request executed', request_id=4, retcode_external=0, request=TradeRequest(action=5, magic=9, order=0, symbol='GBPJPY', volume=0.03, price=154.944, stoplimit=0.0, sl=155.216184, tp=154.127448, deviation=10, type=3, type_filling=2, type_time=0, expiration=0, comment='sent by python', position=0, position_by=0)),\n",
       " OrderSendResult(retcode=10009, deal=0, order=5786775, volume=0.03, price=0.0, bid=0.0, ask=0.0, comment='Request executed', request_id=5, retcode_external=0, request=TradeRequest(action=5, magic=9, order=0, symbol='GBPUSD', volume=0.03, price=1.4131, stoplimit=0.0, sl=1.415483, tp=1.405951, deviation=10, type=3, type_filling=2, type_time=0, expiration=0, comment='sent by python', position=0, position_by=0)),\n",
       " OrderSendResult(retcode=10009, deal=0, order=5786776, volume=0.03, price=0.0, bid=0.0, ask=0.0, comment='Request executed', request_id=6, retcode_external=0, request=TradeRequest(action=5, magic=9, order=0, symbol='GBPUSD', volume=0.03, price=1.36883, stoplimit=0.0, sl=1.366447, tp=1.375979, deviation=10, type=2, type_filling=2, type_time=0, expiration=0, comment='sent by python', position=0, position_by=0)),\n",
       " OrderSendResult(retcode=10009, deal=0, order=5786777, volume=0.05, price=0.0, bid=0.0, ask=0.0, comment='Request executed', request_id=7, retcode_external=0, request=TradeRequest(action=5, magic=9, order=0, symbol='USDCAD', volume=0.05, price=1.25059, stoplimit=0.0, sl=1.25271, tp=1.2442300000000002, deviation=10, type=3, type_filling=2, type_time=0, expiration=0, comment='sent by python', position=0, position_by=0)),\n",
       " OrderSendResult(retcode=10009, deal=0, order=5786778, volume=0.06, price=0.0, bid=0.0, ask=0.0, comment='Request executed', request_id=8, retcode_external=0, request=TradeRequest(action=5, magic=9, order=0, symbol='USDCHF', volume=0.06, price=0.94358, stoplimit=0.0, sl=0.944828, tp=0.939836, deviation=10, type=3, type_filling=2, type_time=0, expiration=0, comment='sent by python', position=0, position_by=0)),\n",
       " OrderSendResult(retcode=10009, deal=0, order=5786779, volume=0.06, price=0.0, bid=0.0, ask=0.0, comment='Request executed', request_id=9, retcode_external=0, request=TradeRequest(action=5, magic=9, order=0, symbol='USDCHF', volume=0.06, price=0.84784, stoplimit=0.0, sl=0.846592, tp=0.851584, deviation=10, type=2, type_filling=2, type_time=0, expiration=0, comment='sent by python', position=0, position_by=0)),\n",
       " OrderSendResult(retcode=10009, deal=0, order=5786780, volume=0.07, price=0.0, bid=0.0, ask=0.0, comment='Request executed', request_id=10, retcode_external=0, request=TradeRequest(action=5, magic=9, order=0, symbol='USDJPY', volume=0.07, price=110.781, stoplimit=0.0, sl=110.91311200000001, tp=110.384664, deviation=10, type=3, type_filling=2, type_time=0, expiration=0, comment='sent by python', position=0, position_by=0)),\n",
       " OrderSendResult(retcode=10009, deal=0, order=5786781, volume=0.05, price=0.0, bid=0.0, ask=0.0, comment='Request executed', request_id=11, retcode_external=0, request=TradeRequest(action=5, magic=9, order=0, symbol='NZDUSD', volume=0.05, price=0.72412, stoplimit=0.0, sl=0.725625, tp=0.7196049999999999, deviation=10, type=3, type_filling=2, type_time=0, expiration=0, comment='sent by python', position=0, position_by=0))]"
      ]
     },
     "execution_count": 2,
     "metadata": {},
     "output_type": "execute_result"
    }
   ],
   "source": [
    "data = [_.split('\\t') for _ in \"\"\"\n",
    "\n",
    "\t ### paste here ####\n",
    "\n",
    "\n",
    "EURJPY\t129.7\t0.04\t0.202949\n",
    "EURJPY\t133.573\t0.04\t0.202949\n",
    "EURUSD\t1.17051\t0.04\t0.0018245\n",
    "\t\t\t-\n",
    "\t\t\t-\n",
    "GBPJPY\t154.944\t0.03\t0.2721845\n",
    "GBPUSD\t1.4131\t0.03\t0.0023825\n",
    "GBPUSD\t1.36883\t0.03\t0.0023825\n",
    "USDCAD\t1.25059\t0.05\t0.00212\n",
    "USDCHF\t0.94358\t0.06\t0.001248\n",
    "USDCHF\t0.84784\t0.06\t0.001248\n",
    "USDJPY\t110.781\t0.07\t0.1321125\n",
    "NZDUSD\t0.72412\t0.05\t0.001505\n",
    "\n",
    "\n",
    "\n",
    "\n",
    "\"\"\".split('\\n') if _.split('\\t')[0] != '']\n",
    "\n",
    "data = [\n",
    "    [\n",
    "        _[0]\n",
    "        , float(_[1])\n",
    "        , round(float(_[2]), 2)\n",
    "        , round(float(_[3]), 6)\n",
    "    ] for _ in data\n",
    "]\n",
    "\n",
    "print(data)\n",
    "\n",
    "# for inst in data (unique),\n",
    "# get current price\n",
    "# if pending above, sell\n",
    "# if pending below, buy\n",
    "\n",
    "p = []\n",
    "for i in tqdm(set([_[0] for _ in data])):\n",
    "    a = mt5.symbol_info_tick(i)\n",
    "    p.append([i, a])\n",
    "\n",
    "p = [\n",
    "    [\n",
    "        _[0], \n",
    "        round((_[1].bid + _[1].ask) / 2, 6)\n",
    "    ] for _ in p\n",
    "]\n",
    "\n",
    "print(p)\n",
    "\n",
    "results = []\n",
    "for _ in data:\n",
    "    if _[1] > [x[1] for x in p if x[0] == _[0]][0]:\n",
    "        print('sell', _, )\n",
    "        \n",
    "        r = {\n",
    "            \"action\": mt5.TRADE_ACTION_PENDING,\n",
    "            \"symbol\": _[0],\n",
    "            \"volume\": _[2],\n",
    "            \"type\": mt5.ORDER_TYPE_SELL_LIMIT,\n",
    "            \"price\": _[1],\n",
    "            \"sl\": _[1] + _[3],\n",
    "            # \"tp\": _[1] - (_[3]*3),\n",
    "            \"deviation\": 10,\n",
    "            \"magic\": 9,\n",
    "            \"comment\": \"sent by python\",\n",
    "            \"type_time\": mt5.ORDER_TIME_GTC, # good till cancelled\n",
    "            \"type_filling\": mt5.ORDER_FILLING_RETURN,\n",
    "        }\n",
    "        result = mt5.order_send(r)  \n",
    "    else:\n",
    "        print('buy', _, )\n",
    "        r = {\n",
    "            \"action\": mt5.TRADE_ACTION_PENDING,\n",
    "            \"symbol\": _[0],\n",
    "            \"volume\": _[2],\n",
    "            \"type\": mt5.ORDER_TYPE_BUY_LIMIT,\n",
    "            \"price\": _[1],\n",
    "            \"sl\": _[1] - _[3],  ############ this is getting mixed up for shorts\n",
    "            # \"tp\": _[1] + (_[3]*3),\n",
    "            \"deviation\": 10,\n",
    "            \"magic\": 9,\n",
    "            \"comment\": \"sent by python\",\n",
    "            \"type_time\": mt5.ORDER_TIME_GTC, # good till cancelled\n",
    "            \"type_filling\": mt5.ORDER_FILLING_RETURN,\n",
    "        }\n",
    "        result = mt5.order_send(r)  \n",
    "    results.append(result)\n",
    "\n",
    "results"
   ]
  },
  {
   "cell_type": "code",
   "execution_count": 16,
   "metadata": {},
   "outputs": [],
   "source": [
    "# def send_order(symbol, size, price, risk, side):\n",
    "    \n",
    "#     # get current\n",
    "    \n",
    "#     # if price > current sell, else buy\n",
    "    \n",
    "#     r = {\n",
    "#         \"action\": mt5.TRADE_ACTION_PENDING,\n",
    "#         \"symbol\": _[0],\n",
    "#         \"volume\": _[2],\n",
    "#         \"type\": mt5.ORDER_TYPE_SELL_LIMIT,\n",
    "#         \"price\": _[1],\n",
    "#         \"sl\": _[1] + _[3],\n",
    "#         \"tp\": _[1] - (_[3]*3),\n",
    "#         \"deviation\": 10,\n",
    "#         \"magic\": 9,\n",
    "#         \"comment\": \"sent by python\",\n",
    "#         \"type_time\": mt5.ORDER_TIME_GTC, # good till cancelled\n",
    "#         \"type_filling\": mt5.ORDER_FILLING_RETURN,\n",
    "#     }\n",
    "#     result = mt5.order_send(r) \n",
    "    \n",
    "#     return result"
   ]
  },
  {
   "cell_type": "code",
   "execution_count": 3,
   "metadata": {},
   "outputs": [],
   "source": [
    "# if comment != \"Request executed\", then come back to it\n"
   ]
  },
  {
   "cell_type": "code",
   "execution_count": 7,
   "metadata": {},
   "outputs": [
    {
     "data": {
      "text/plain": [
       "OrderSendResult(retcode=10021, deal=0, order=0, volume=0.0, price=0.0, bid=0.0, ask=0.0, comment='No prices', request_id=7, retcode_external=0, request=TradeRequest(action=5, magic=9, order=0, symbol='CADCHF', volume=0.09, price=0.74104, stoplimit=0.0, sl=0.742109, tp=0.7378330000000001, deviation=10, type=3, type_filling=2, type_time=0, expiration=0, comment='sent by python', position=0, position_by=0))"
      ]
     },
     "execution_count": 7,
     "metadata": {},
     "output_type": "execute_result"
    }
   ],
   "source": [
    "results[0]"
   ]
  },
  {
   "cell_type": "code",
   "execution_count": 12,
   "metadata": {},
   "outputs": [
    {
     "data": {
      "text/plain": [
       "{'CADCHF', 'USDCAD'}"
      ]
     },
     "execution_count": 12,
     "metadata": {},
     "output_type": "execute_result"
    }
   ],
   "source": [
    "set([_.request.symbol for _ in results if _.retcode == 10021])"
   ]
  },
  {
   "cell_type": "code",
   "execution_count": 8,
   "metadata": {},
   "outputs": [
    {
     "data": {
      "text/plain": [
       "[['CADCHF', 0.74104, 0.09, 0.001069],\n",
       " ['CADCHF', 0.73336, 0.09, 0.001069],\n",
       " ['USDCAD', 1.22602, 0.11, 0.00212],\n",
       " ['USDCHF', 0.89361, 0.13, 0.001248]]"
      ]
     },
     "execution_count": 8,
     "metadata": {},
     "output_type": "execute_result"
    }
   ],
   "source": [
    "data"
   ]
  },
  {
   "cell_type": "code",
   "execution_count": 13,
   "metadata": {},
   "outputs": [
    {
     "data": {
      "text/plain": [
       "[['CADCHF', 0.74104, 0.09, 0.001069],\n",
       " ['CADCHF', 0.73336, 0.09, 0.001069],\n",
       " ['USDCAD', 1.22602, 0.11, 0.00212]]"
      ]
     },
     "execution_count": 13,
     "metadata": {},
     "output_type": "execute_result"
    }
   ],
   "source": [
    "# orders to retry\n",
    "[_ for _ in data if _[0] in set([_.request.symbol for _ in results if _.retcode == 10021])]"
   ]
  },
  {
   "cell_type": "code",
   "execution_count": null,
   "metadata": {},
   "outputs": [],
   "source": []
  }
 ],
 "metadata": {
  "kernelspec": {
   "display_name": "Python 3",
   "language": "python",
   "name": "python3"
  },
  "language_info": {
   "codemirror_mode": {
    "name": "ipython",
    "version": 3
   },
   "file_extension": ".py",
   "mimetype": "text/x-python",
   "name": "python",
   "nbconvert_exporter": "python",
   "pygments_lexer": "ipython3",
   "version": "3.7.6"
  }
 },
 "nbformat": 4,
 "nbformat_minor": 4
}
