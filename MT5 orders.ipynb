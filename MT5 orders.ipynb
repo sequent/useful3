{
 "cells": [
  {
   "cell_type": "code",
   "execution_count": 2,
   "metadata": {},
   "outputs": [
    {
     "name": "stdout",
     "output_type": "stream",
     "text": [
      "Collecting MetaTrader5\n",
      "  Downloading MetaTrader5-5.0.34-cp38-cp38-win_amd64.whl (123 kB)\n",
      "Requirement already satisfied: numpy>=1.7 in c:\\programdata\\anaconda3\\lib\\site-packages (from MetaTrader5) (1.19.2)\n",
      "Installing collected packages: MetaTrader5\n",
      "Successfully installed MetaTrader5-5.0.34\n"
     ]
    }
   ],
   "source": [
    "# !pip install MetaTrader5"
   ]
  },
  {
   "cell_type": "code",
   "execution_count": 45,
   "metadata": {},
   "outputs": [],
   "source": [
    "import MetaTrader5 as mt5\n",
    "from datetime import datetime, timedelta\n",
    "import pandas as pd\n",
    "import time\n",
    "from tqdm.notebook import tqdm"
   ]
  },
  {
   "cell_type": "code",
   "execution_count": 8,
   "metadata": {},
   "outputs": [
    {
     "data": {
      "text/plain": [
       "TerminalInfo(community_account=False, community_connection=False, connected=True, dlls_allowed=False, trade_allowed=True, tradeapi_disabled=False, email_enabled=False, ftp_enabled=False, notifications_enabled=False, mqid=False, build=2875, maxbars=100000, codepage=0, ping_last=284198, community_balance=0.0, retransmission=0.0, company='FX Choice Limited', name='FXChoice MetaTrader 5', language='English', path='C:\\\\Program Files\\\\FXChoice MetaTrader 5', data_path='C:\\\\Users\\\\samch\\\\AppData\\\\Roaming\\\\MetaQuotes\\\\Terminal\\\\9EBAECC50A1974DB0763442DEE6D2442', commondata_path='C:\\\\Users\\\\samch\\\\AppData\\\\Roaming\\\\MetaQuotes\\\\Terminal\\\\Common')"
      ]
     },
     "execution_count": 8,
     "metadata": {},
     "output_type": "execute_result"
    }
   ],
   "source": [
    "if not mt5.initialize():\n",
    "    mt5.shutdown()\n",
    "mt5.terminal_info()"
   ]
  },
  {
   "cell_type": "code",
   "execution_count": 75,
   "metadata": {},
   "outputs": [
    {
     "data": {
      "text/plain": [
       "[['EURNZD', 1.68373, 0.08, 0.001214],\n",
       " ['EURNZD', 1.66144, 0.08, 0.001214],\n",
       " ['GBPAUD', 1.82138, 0.05, 0.001811],\n",
       " ['GBPAUD', 1.80414, 0.05, 0.001811],\n",
       " ['NZDUSD', 0.72639, 0.02, 0.003561],\n",
       " ['NZDUSD', 0.7148, 0.02, 0.003561],\n",
       " ['EURUSD', 1.21582, 0.09, 0.000764],\n",
       " ['USDCHF', 0.90004, 0.06, 0.001006]]"
      ]
     },
     "execution_count": 75,
     "metadata": {},
     "output_type": "execute_result"
    }
   ],
   "source": [
    "data = [_.split('\\t') for _ in \"\"\"\n",
    "\n",
    "\t ### paste here ####\n",
    "\n",
    "\n",
    "\n",
    "EURNZD\t1.68373\t0.08126298797\t0.001214369557\n",
    "EURNZD\t1.66144\t0.08126298797\t0.001214369557\n",
    "GBPAUD\t1.82138\t0.05071160639\t0.001811063391\n",
    "\t\t#N/A\t#N/A\n",
    "\t\t#N/A\t#N/A\n",
    "GBPAUD\t1.80414\t0.05071160639\t0.001811063391\n",
    "\t\t#N/A\t#N/A\n",
    "NZDUSD\t0.72639\t0.01999634707\t0.00356065034\n",
    "\t\t#N/A\t#N/A\n",
    "\t\t#N/A\t#N/A\n",
    "NZDUSD\t0.7148\t0.01999634707\t0.00356065034\n",
    "EURUSD\t1.21582\t0.09323861443\t0.0007636321114\n",
    "USDCHF\t0.90004\t0.06385377114\t0.001005920414\n",
    "\n",
    "\n",
    "\n",
    "\n",
    "\"\"\".split('\\n') if _.split('\\t')[0] != '']\n",
    "\n",
    "data = [\n",
    "    [\n",
    "        _[0]\n",
    "        , float(_[1])\n",
    "        , round(float(_[2]), 2)\n",
    "        , round(float(_[3]), 6)\n",
    "    ] for _ in data\n",
    "]\n",
    "\n",
    "data"
   ]
  },
  {
   "cell_type": "code",
   "execution_count": 76,
   "metadata": {},
   "outputs": [],
   "source": [
    "# for inst in data (unique),\n",
    "# get current price\n",
    "# if pending above, sell\n",
    "# if pending below, buy"
   ]
  },
  {
   "cell_type": "code",
   "execution_count": 77,
   "metadata": {},
   "outputs": [
    {
     "data": {
      "application/vnd.jupyter.widget-view+json": {
       "model_id": "29f346354a07409b872bad261e91dcae",
       "version_major": 2,
       "version_minor": 0
      },
      "text/plain": [
       "HBox(children=(HTML(value=''), FloatProgress(value=0.0, max=5.0), HTML(value='')))"
      ]
     },
     "metadata": {},
     "output_type": "display_data"
    },
    {
     "name": "stdout",
     "output_type": "stream",
     "text": [
      "\n"
     ]
    },
    {
     "data": {
      "text/plain": [
       "[['EURUSD', 1.213265],\n",
       " ['USDCHF', 0.902155],\n",
       " ['NZDUSD', 0.721585],\n",
       " ['EURNZD', 1.68135],\n",
       " ['GBPAUD', 1.817345]]"
      ]
     },
     "execution_count": 77,
     "metadata": {},
     "output_type": "execute_result"
    }
   ],
   "source": [
    "p = []\n",
    "for i in tqdm(set([_[0] for _ in data])):\n",
    "    a = mt5.symbol_info_tick(i)\n",
    "    p.append([i, a])\n",
    "\n",
    "p = [\n",
    "    [\n",
    "        _[0], \n",
    "        round((_[1].bid + _[1].ask) / 2, 6)\n",
    "    ] for _ in p\n",
    "]\n",
    "\n",
    "p"
   ]
  },
  {
   "cell_type": "code",
   "execution_count": 78,
   "metadata": {},
   "outputs": [
    {
     "data": {
      "text/plain": [
       "[['EURNZD', 1.68373, 0.08, 0.001214],\n",
       " ['EURNZD', 1.66144, 0.08, 0.001214],\n",
       " ['GBPAUD', 1.82138, 0.05, 0.001811],\n",
       " ['GBPAUD', 1.80414, 0.05, 0.001811],\n",
       " ['NZDUSD', 0.72639, 0.02, 0.003561],\n",
       " ['NZDUSD', 0.7148, 0.02, 0.003561],\n",
       " ['EURUSD', 1.21582, 0.09, 0.000764],\n",
       " ['USDCHF', 0.90004, 0.06, 0.001006]]"
      ]
     },
     "execution_count": 78,
     "metadata": {},
     "output_type": "execute_result"
    }
   ],
   "source": [
    "data"
   ]
  },
  {
   "cell_type": "code",
   "execution_count": 79,
   "metadata": {},
   "outputs": [
    {
     "name": "stdout",
     "output_type": "stream",
     "text": [
      "sell ['EURNZD', 1.68373, 0.08, 0.001214]\n",
      "buy ['EURNZD', 1.66144, 0.08, 0.001214]\n",
      "sell ['GBPAUD', 1.82138, 0.05, 0.001811]\n",
      "buy ['GBPAUD', 1.80414, 0.05, 0.001811]\n",
      "sell ['NZDUSD', 0.72639, 0.02, 0.003561]\n",
      "buy ['NZDUSD', 0.7148, 0.02, 0.003561]\n",
      "sell ['EURUSD', 1.21582, 0.09, 0.000764]\n",
      "buy ['USDCHF', 0.90004, 0.06, 0.001006]\n"
     ]
    }
   ],
   "source": [
    "results = []\n",
    "for _ in data:\n",
    "    if _[1] > [x[1] for x in p if x[0] == _[0]][0]:\n",
    "        print('sell', _, )\n",
    "        \n",
    "        r = {\n",
    "            \"action\": mt5.TRADE_ACTION_PENDING,\n",
    "            \"symbol\": _[0],\n",
    "            \"volume\": _[2],\n",
    "            \"type\": mt5.ORDER_TYPE_SELL_LIMIT,\n",
    "            \"price\": _[1],\n",
    "            \"sl\": _[1] + _[3],\n",
    "            \"tp\": _[1] - (_[3]*3),\n",
    "            \"deviation\": 10,\n",
    "            \"magic\": 9,\n",
    "            \"comment\": \"sent by python\",\n",
    "            \"type_time\": mt5.ORDER_TIME_GTC, # good till cancelled\n",
    "            \"type_filling\": mt5.ORDER_FILLING_RETURN,\n",
    "        }\n",
    "        result = mt5.order_send(r)  \n",
    "    else:\n",
    "        print('buy', _, )\n",
    "        r = {\n",
    "            \"action\": mt5.TRADE_ACTION_PENDING,\n",
    "            \"symbol\": _[0],\n",
    "            \"volume\": _[2],\n",
    "            \"type\": mt5.ORDER_TYPE_BUY_LIMIT,\n",
    "            \"price\": _[1],\n",
    "            \"sl\": _[1] - _[3],  ############ this is getting mixed up for shorts\n",
    "            \"tp\": _[1] + (_[3]*3),\n",
    "            \"deviation\": 10,\n",
    "            \"magic\": 9,\n",
    "            \"comment\": \"sent by python\",\n",
    "            \"type_time\": mt5.ORDER_TIME_GTC, # good till cancelled\n",
    "            \"type_filling\": mt5.ORDER_FILLING_RETURN,\n",
    "        }\n",
    "        result = mt5.order_send(r)  \n",
    "    results.append(result)"
   ]
  },
  {
   "cell_type": "code",
   "execution_count": 80,
   "metadata": {},
   "outputs": [
    {
     "data": {
      "text/plain": [
       "[OrderSendResult(retcode=10009, deal=0, order=5635940, volume=0.08, price=0.0, bid=0.0, ask=0.0, comment='Request executed', request_id=2, retcode_external=0, request=TradeRequest(action=5, magic=9, order=0, symbol='EURNZD', volume=0.08, price=1.68373, stoplimit=0.0, sl=1.684944, tp=1.680088, deviation=10, type=3, type_filling=2, type_time=0, expiration=0, comment='sent by python', position=0, position_by=0)),\n",
       " OrderSendResult(retcode=10009, deal=0, order=5635941, volume=0.08, price=0.0, bid=0.0, ask=0.0, comment='Request executed', request_id=3, retcode_external=0, request=TradeRequest(action=5, magic=9, order=0, symbol='EURNZD', volume=0.08, price=1.66144, stoplimit=0.0, sl=1.660226, tp=1.665082, deviation=10, type=2, type_filling=2, type_time=0, expiration=0, comment='sent by python', position=0, position_by=0)),\n",
       " OrderSendResult(retcode=10009, deal=0, order=5635942, volume=0.05, price=0.0, bid=0.0, ask=0.0, comment='Request executed', request_id=4, retcode_external=0, request=TradeRequest(action=5, magic=9, order=0, symbol='GBPAUD', volume=0.05, price=1.82138, stoplimit=0.0, sl=1.823191, tp=1.815947, deviation=10, type=3, type_filling=2, type_time=0, expiration=0, comment='sent by python', position=0, position_by=0)),\n",
       " OrderSendResult(retcode=10009, deal=0, order=5635943, volume=0.05, price=0.0, bid=0.0, ask=0.0, comment='Request executed', request_id=5, retcode_external=0, request=TradeRequest(action=5, magic=9, order=0, symbol='GBPAUD', volume=0.05, price=1.80414, stoplimit=0.0, sl=1.802329, tp=1.809573, deviation=10, type=2, type_filling=2, type_time=0, expiration=0, comment='sent by python', position=0, position_by=0)),\n",
       " OrderSendResult(retcode=10009, deal=0, order=5635944, volume=0.02, price=0.0, bid=0.0, ask=0.0, comment='Request executed', request_id=6, retcode_external=0, request=TradeRequest(action=5, magic=9, order=0, symbol='NZDUSD', volume=0.02, price=0.72639, stoplimit=0.0, sl=0.729951, tp=0.715707, deviation=10, type=3, type_filling=2, type_time=0, expiration=0, comment='sent by python', position=0, position_by=0)),\n",
       " OrderSendResult(retcode=10009, deal=0, order=5635945, volume=0.02, price=0.0, bid=0.0, ask=0.0, comment='Request executed', request_id=7, retcode_external=0, request=TradeRequest(action=5, magic=9, order=0, symbol='NZDUSD', volume=0.02, price=0.7148, stoplimit=0.0, sl=0.711239, tp=0.725483, deviation=10, type=2, type_filling=2, type_time=0, expiration=0, comment='sent by python', position=0, position_by=0)),\n",
       " OrderSendResult(retcode=10009, deal=0, order=5635946, volume=0.09, price=0.0, bid=0.0, ask=0.0, comment='Request executed', request_id=8, retcode_external=0, request=TradeRequest(action=5, magic=9, order=0, symbol='EURUSD', volume=0.09, price=1.21582, stoplimit=0.0, sl=1.2165839999999999, tp=1.213528, deviation=10, type=3, type_filling=2, type_time=0, expiration=0, comment='sent by python', position=0, position_by=0)),\n",
       " OrderSendResult(retcode=10009, deal=0, order=5635947, volume=0.06, price=0.0, bid=0.0, ask=0.0, comment='Request executed', request_id=9, retcode_external=0, request=TradeRequest(action=5, magic=9, order=0, symbol='USDCHF', volume=0.06, price=0.90004, stoplimit=0.0, sl=0.899034, tp=0.9030579999999999, deviation=10, type=2, type_filling=2, type_time=0, expiration=0, comment='sent by python', position=0, position_by=0))]"
      ]
     },
     "execution_count": 80,
     "metadata": {},
     "output_type": "execute_result"
    }
   ],
   "source": [
    "results"
   ]
  },
  {
   "cell_type": "code",
   "execution_count": null,
   "metadata": {},
   "outputs": [],
   "source": []
  }
 ],
 "metadata": {
  "kernelspec": {
   "display_name": "Python 3",
   "language": "python",
   "name": "python3"
  },
  "language_info": {
   "codemirror_mode": {
    "name": "ipython",
    "version": 3
   },
   "file_extension": ".py",
   "mimetype": "text/x-python",
   "name": "python",
   "nbconvert_exporter": "python",
   "pygments_lexer": "ipython3",
   "version": "3.8.5"
  }
 },
 "nbformat": 4,
 "nbformat_minor": 4
}
