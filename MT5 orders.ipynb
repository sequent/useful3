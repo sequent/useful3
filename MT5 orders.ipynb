{
 "cells": [
  {
   "cell_type": "code",
   "execution_count": 1,
   "metadata": {},
   "outputs": [
    {
     "data": {
      "text/plain": [
       "TerminalInfo(community_account=False, community_connection=False, connected=True, dlls_allowed=False, trade_allowed=True, tradeapi_disabled=False, email_enabled=False, ftp_enabled=False, notifications_enabled=False, mqid=False, build=2940, maxbars=100000, codepage=0, ping_last=173047, community_balance=0.0, retransmission=0.0, company='FX Choice Limited', name='FXChoice MetaTrader 5', language='English', path='C:\\\\Program Files\\\\FXChoice MetaTrader 5', ...)"
      ]
     },
     "execution_count": 1,
     "metadata": {},
     "output_type": "execute_result"
    }
   ],
   "source": [
    "# !pip install MetaTrader5\n",
    "\n",
    "import MetaTrader5 as mt5\n",
    "from datetime import datetime, timedelta\n",
    "import pandas as pd\n",
    "import time\n",
    "from tqdm.notebook import tqdm\n",
    "\n",
    "if not mt5.initialize():\n",
    "    mt5.shutdown()\n",
    "mt5.terminal_info()"
   ]
  },
  {
   "cell_type": "code",
   "execution_count": 20,
   "metadata": {
    "scrolled": false
   },
   "outputs": [
    {
     "name": "stdout",
     "output_type": "stream",
     "text": [
      "[['CADCHF', 0.74104, 0.09, 0.001069], ['CADCHF', 0.73336, 0.09, 0.001069]]\n"
     ]
    },
    {
     "data": {
      "application/vnd.jupyter.widget-view+json": {
       "model_id": "703064d671d94dc8bc4d3483a199b199",
       "version_major": 2,
       "version_minor": 0
      },
      "text/plain": [
       "HBox(children=(FloatProgress(value=0.0, max=1.0), HTML(value='')))"
      ]
     },
     "metadata": {},
     "output_type": "display_data"
    },
    {
     "name": "stdout",
     "output_type": "stream",
     "text": [
      "\n",
      "[['CADCHF', 0.73891]]\n",
      "sell ['CADCHF', 0.74104, 0.09, 0.001069]\n",
      "buy ['CADCHF', 0.73336, 0.09, 0.001069]\n"
     ]
    },
    {
     "data": {
      "text/plain": [
       "[OrderSendResult(retcode=10009, deal=0, order=5752024, volume=0.09, price=0.0, bid=0.0, ask=0.0, comment='Request executed', request_id=24, retcode_external=0, request=TradeRequest(action=5, magic=9, order=0, symbol='CADCHF', volume=0.09, price=0.74104, stoplimit=0.0, sl=0.742109, tp=0.7378330000000001, deviation=10, type=3, type_filling=2, type_time=0, expiration=0, comment='sent by python', position=0, position_by=0)),\n",
       " OrderSendResult(retcode=10009, deal=0, order=5752025, volume=0.09, price=0.0, bid=0.0, ask=0.0, comment='Request executed', request_id=25, retcode_external=0, request=TradeRequest(action=5, magic=9, order=0, symbol='CADCHF', volume=0.09, price=0.73336, stoplimit=0.0, sl=0.732291, tp=0.736567, deviation=10, type=2, type_filling=2, type_time=0, expiration=0, comment='sent by python', position=0, position_by=0))]"
      ]
     },
     "execution_count": 20,
     "metadata": {},
     "output_type": "execute_result"
    }
   ],
   "source": [
    "data = [_.split('\\t') for _ in \"\"\"\n",
    "\n",
    "\t ### paste here ####\n",
    "\n",
    "\n",
    "CADCHF\t0.74104\t0.09\t0.0010695\n",
    "CADCHF\t0.73336\t0.09\t0.0010695\n",
    "\n",
    "\n",
    "\n",
    "\n",
    "\"\"\".split('\\n') if _.split('\\t')[0] != '']\n",
    "\n",
    "data = [\n",
    "    [\n",
    "        _[0]\n",
    "        , float(_[1])\n",
    "        , round(float(_[2]), 2)\n",
    "        , round(float(_[3]), 6)\n",
    "    ] for _ in data\n",
    "]\n",
    "\n",
    "print(data)\n",
    "\n",
    "# for inst in data (unique),\n",
    "# get current price\n",
    "# if pending above, sell\n",
    "# if pending below, buy\n",
    "\n",
    "p = []\n",
    "for i in tqdm(set([_[0] for _ in data])):\n",
    "    a = mt5.symbol_info_tick(i)\n",
    "    p.append([i, a])\n",
    "\n",
    "p = [\n",
    "    [\n",
    "        _[0], \n",
    "        round((_[1].bid + _[1].ask) / 2, 6)\n",
    "    ] for _ in p\n",
    "]\n",
    "\n",
    "print(p)\n",
    "\n",
    "results = []\n",
    "for _ in data:\n",
    "    if _[1] > [x[1] for x in p if x[0] == _[0]][0]:\n",
    "        print('sell', _, )\n",
    "        \n",
    "        r = {\n",
    "            \"action\": mt5.TRADE_ACTION_PENDING,\n",
    "            \"symbol\": _[0],\n",
    "            \"volume\": _[2],\n",
    "            \"type\": mt5.ORDER_TYPE_SELL_LIMIT,\n",
    "            \"price\": _[1],\n",
    "            \"sl\": _[1] + _[3],\n",
    "            \"tp\": _[1] - (_[3]*3),\n",
    "            \"deviation\": 10,\n",
    "            \"magic\": 9,\n",
    "            \"comment\": \"sent by python\",\n",
    "            \"type_time\": mt5.ORDER_TIME_GTC, # good till cancelled\n",
    "            \"type_filling\": mt5.ORDER_FILLING_RETURN,\n",
    "        }\n",
    "        result = mt5.order_send(r)  \n",
    "    else:\n",
    "        print('buy', _, )\n",
    "        r = {\n",
    "            \"action\": mt5.TRADE_ACTION_PENDING,\n",
    "            \"symbol\": _[0],\n",
    "            \"volume\": _[2],\n",
    "            \"type\": mt5.ORDER_TYPE_BUY_LIMIT,\n",
    "            \"price\": _[1],\n",
    "            \"sl\": _[1] - _[3],  ############ this is getting mixed up for shorts\n",
    "            \"tp\": _[1] + (_[3]*3),\n",
    "            \"deviation\": 10,\n",
    "            \"magic\": 9,\n",
    "            \"comment\": \"sent by python\",\n",
    "            \"type_time\": mt5.ORDER_TIME_GTC, # good till cancelled\n",
    "            \"type_filling\": mt5.ORDER_FILLING_RETURN,\n",
    "        }\n",
    "        result = mt5.order_send(r)  \n",
    "    results.append(result)\n",
    "\n",
    "results"
   ]
  },
  {
   "cell_type": "code",
   "execution_count": 16,
   "metadata": {},
   "outputs": [],
   "source": [
    "# def send_order(symbol, size, price, risk, side):\n",
    "    \n",
    "#     # get current\n",
    "    \n",
    "#     # if price > current sell, else buy\n",
    "    \n",
    "#     r = {\n",
    "#         \"action\": mt5.TRADE_ACTION_PENDING,\n",
    "#         \"symbol\": _[0],\n",
    "#         \"volume\": _[2],\n",
    "#         \"type\": mt5.ORDER_TYPE_SELL_LIMIT,\n",
    "#         \"price\": _[1],\n",
    "#         \"sl\": _[1] + _[3],\n",
    "#         \"tp\": _[1] - (_[3]*3),\n",
    "#         \"deviation\": 10,\n",
    "#         \"magic\": 9,\n",
    "#         \"comment\": \"sent by python\",\n",
    "#         \"type_time\": mt5.ORDER_TIME_GTC, # good till cancelled\n",
    "#         \"type_filling\": mt5.ORDER_FILLING_RETURN,\n",
    "#     }\n",
    "#     result = mt5.order_send(r) \n",
    "    \n",
    "#     return result"
   ]
  },
  {
   "cell_type": "code",
   "execution_count": 3,
   "metadata": {},
   "outputs": [],
   "source": [
    "# if comment != \"Request executed\", then come back to it\n"
   ]
  },
  {
   "cell_type": "code",
   "execution_count": 7,
   "metadata": {},
   "outputs": [
    {
     "data": {
      "text/plain": [
       "OrderSendResult(retcode=10021, deal=0, order=0, volume=0.0, price=0.0, bid=0.0, ask=0.0, comment='No prices', request_id=7, retcode_external=0, request=TradeRequest(action=5, magic=9, order=0, symbol='CADCHF', volume=0.09, price=0.74104, stoplimit=0.0, sl=0.742109, tp=0.7378330000000001, deviation=10, type=3, type_filling=2, type_time=0, expiration=0, comment='sent by python', position=0, position_by=0))"
      ]
     },
     "execution_count": 7,
     "metadata": {},
     "output_type": "execute_result"
    }
   ],
   "source": [
    "results[0]"
   ]
  },
  {
   "cell_type": "code",
   "execution_count": 12,
   "metadata": {},
   "outputs": [
    {
     "data": {
      "text/plain": [
       "{'CADCHF', 'USDCAD'}"
      ]
     },
     "execution_count": 12,
     "metadata": {},
     "output_type": "execute_result"
    }
   ],
   "source": [
    "set([_.request.symbol for _ in results if _.retcode == 10021])"
   ]
  },
  {
   "cell_type": "code",
   "execution_count": 8,
   "metadata": {},
   "outputs": [
    {
     "data": {
      "text/plain": [
       "[['CADCHF', 0.74104, 0.09, 0.001069],\n",
       " ['CADCHF', 0.73336, 0.09, 0.001069],\n",
       " ['USDCAD', 1.22602, 0.11, 0.00212],\n",
       " ['USDCHF', 0.89361, 0.13, 0.001248]]"
      ]
     },
     "execution_count": 8,
     "metadata": {},
     "output_type": "execute_result"
    }
   ],
   "source": [
    "data"
   ]
  },
  {
   "cell_type": "code",
   "execution_count": 13,
   "metadata": {},
   "outputs": [
    {
     "data": {
      "text/plain": [
       "[['CADCHF', 0.74104, 0.09, 0.001069],\n",
       " ['CADCHF', 0.73336, 0.09, 0.001069],\n",
       " ['USDCAD', 1.22602, 0.11, 0.00212]]"
      ]
     },
     "execution_count": 13,
     "metadata": {},
     "output_type": "execute_result"
    }
   ],
   "source": [
    "# orders to retry\n",
    "[_ for _ in data if _[0] in set([_.request.symbol for _ in results if _.retcode == 10021])]"
   ]
  },
  {
   "cell_type": "code",
   "execution_count": null,
   "metadata": {},
   "outputs": [],
   "source": []
  }
 ],
 "metadata": {
  "kernelspec": {
   "display_name": "Python 3",
   "language": "python",
   "name": "python3"
  },
  "language_info": {
   "codemirror_mode": {
    "name": "ipython",
    "version": 3
   },
   "file_extension": ".py",
   "mimetype": "text/x-python",
   "name": "python",
   "nbconvert_exporter": "python",
   "pygments_lexer": "ipython3",
   "version": "3.7.6"
  }
 },
 "nbformat": 4,
 "nbformat_minor": 4
}
