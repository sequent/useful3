{
 "cells": [
  {
   "cell_type": "code",
   "execution_count": 221,
   "metadata": {},
   "outputs": [
    {
     "data": {
      "text/html": [
       "<style>.container { width:80% !important; }</style>"
      ],
      "text/plain": [
       "<IPython.core.display.HTML object>"
      ]
     },
     "metadata": {},
     "output_type": "display_data"
    }
   ],
   "source": [
    "from IPython.core.display import display, HTML\n",
    "display(HTML(\"<style>.container { width:80% !important; }</style>\"))\n",
    "\n",
    "import requests\n",
    "from bs4 import BeautifulSoup\n",
    "import re\n",
    "import time\n",
    "from tqdm.notebook import tqdm\n",
    "import json\n",
    "import pandas as pd"
   ]
  },
  {
   "cell_type": "code",
   "execution_count": 233,
   "metadata": {},
   "outputs": [],
   "source": [
    "def get_listing_details(url):\n",
    "\n",
    "    r = requests.get(url)\n",
    "    soup = BeautifulSoup(r.content)\n",
    "    \n",
    "    seller_text = soup.find('p', class_=\"wt-text-body-01 wt-mr-xs-1\").find('a', class_=\"wt-text-link-no-underline\").text.strip()\n",
    "    seller_href = soup.find('p', class_=\"wt-text-body-01 wt-mr-xs-1\").find('a', class_=\"wt-text-link-no-underline\")['href']\n",
    "    \n",
    "    listing_title = soup.find('h1', class_=\"wt-text-body-03 wt-line-height-tight wt-break-word wt-mb-xs-1\").text.strip()\n",
    "    \n",
    "    listing_price = soup.find('p', class_=\"wt-text-title-03 wt-mr-xs-2\").text\n",
    "\n",
    "    listing_highlights = [\n",
    "        _.text.strip() for _ \n",
    "        in soup.find_all('li', class_=\"wt-list-unstyled wt-display-flex-xs wt-align-items-flex-start\")\n",
    "    ]\n",
    "\n",
    "    if soup\\\n",
    "        .find('div', class_=\"wt-display-inline-flex-xs wt-align-items-center wt-mb-xs-2 wt-flex-wrap\")\\\n",
    "        .find_all('span', class_='wt-text-caption'):\n",
    "        store_sales = soup\\\n",
    "            .find('div', class_=\"wt-display-inline-flex-xs wt-align-items-center wt-mb-xs-2 wt-flex-wrap\")\\\n",
    "            .find('span', class_='wt-text-caption').text\n",
    "    else:\n",
    "        store_sales = None\n",
    "    \n",
    "    if soup\\\n",
    "        .find('div', class_=\"wt-display-inline-flex-xs wt-align-items-center wt-mb-xs-2 wt-flex-wrap\")\\\n",
    "        .find_all('input', attrs={'name': 'initial-rating'}):\n",
    "        store_rating = soup\\\n",
    "            .find('div', class_=\"wt-display-inline-flex-xs wt-align-items-center wt-mb-xs-2 wt-flex-wrap\")\\\n",
    "            .find('input', attrs={'name': 'initial-rating'})['value']\n",
    "    else:\n",
    "        store_rating = None\n",
    "\n",
    "    if soup.find_all('span', class_=\"wt-badge wt-badge--status-03 wt-mt-xs-1 wt-mr-xs-1 search-half-unit-mb\"):\n",
    "        listing_bestseller = soup\\\n",
    "            .find('span', class_=\"wt-badge wt-badge--status-03 wt-mt-xs-1 wt-mr-xs-1 search-half-unit-mb\").text.strip()\n",
    "    else:\n",
    "        listing_bestseller = '-'\n",
    "\n",
    "    # get description\n",
    "    if soup.find_all('p', class_=\"wt-text-body-01 wt-break-word\"):\n",
    "        listing_desc = soup.find('p', class_=\"wt-text-body-01 wt-break-word\").text\n",
    "    else:\n",
    "        listing_desc = None\n",
    "\n",
    "    # GET REVIEWS FOR ITEM\n",
    "    if soup.find_all('button', attrs={'aria-controls': 'same-listing-reviews-panel'}):\n",
    "        listing_reviews = soup.find('button', attrs={'aria-controls': 'same-listing-reviews-panel'}).find('span').text.strip()\n",
    "    else:\n",
    "        listing_reviews = None\n",
    "        \n",
    "    # get shop reviews\n",
    "    if soup.find_all('h3', class_=\"wt-mr-xs-2 wt-text-body-03\"):\n",
    "        store_reviews = soup.find('h3', class_=\"wt-mr-xs-2 wt-text-body-03\").text.strip()\n",
    "    else:\n",
    "        store_reviews = None\n",
    "        \n",
    "    details = {\n",
    "        'seller_text': seller_text,\n",
    "        'seller_href': seller_href,\n",
    "        'store_sales': store_sales,\n",
    "        'store_rating': store_rating,\n",
    "        'listing_title': listing_title,\n",
    "        'listing_bestseller': listing_bestseller,\n",
    "        'listing_price': listing_price,\n",
    "        'listing_highlights': listing_highlights,\n",
    "        'listing_desc': listing_desc,\n",
    "        'listing_reviews': listing_reviews,\n",
    "        'store_reviews': store_reviews\n",
    "    }\n",
    "\n",
    "    return details\n",
    "\n",
    "\n",
    "def get_search_listings(cat_url):\n",
    "\n",
    "    # get listing urls for cat or store url\n",
    "    r = requests.get(cat_urls[0])\n",
    "\n",
    "    soup = BeautifulSoup(r.content)\n",
    "\n",
    "    search_listings = [\n",
    "        x.find('a')['href'] for x in \n",
    "        soup.find(\n",
    "            'ul', \n",
    "            class_=\"responsive-listing-grid wt-grid wt-grid--block wt-justify-content-flex-start wt-list-unstyled wt-pl-xs-0 tab-reorder-container\"\n",
    "        )\\\n",
    "        .find_all('li')\n",
    "    ]\n",
    "\n",
    "    next_page = soup.find('a', attrs={'data-page': 2})['href']\n",
    "    \n",
    "    return search_listings, next_page\n",
    "\n",
    "\n",
    "def get_two_search(cat_url):\n",
    "    \n",
    "    search_listings, next_page = get_search_listings(cat_urls[0])\n",
    "    search_listing_results = search_listings\n",
    "\n",
    "    search_listings, next_page = get_search_listings(next_page)\n",
    "    search_listing_results.extend(search_listings)\n",
    "\n",
    "    return list(set(search_listing_results))\n",
    "\n",
    "\n",
    "def iterate_cat_urls(cat_urls):\n",
    "    \n",
    "    data = []\n",
    "    for _ in tqdm(cat_urls):\n",
    "        results = get_two_search(_)\n",
    "        data.extend(results)\n",
    "\n",
    "    urls_clean = [\n",
    "        re.search(r'(?:(?!\\?).)*', _).group(0) for _\n",
    "        in list(set(data))\n",
    "    ]\n",
    "    \n",
    "    return urls_clean\n",
    "\n",
    "\n",
    "def iterate_listings(urls_clean):\n",
    "    \n",
    "    data = []\n",
    "    for _ in tqdm(urls_clean):\n",
    "        \n",
    "        try:\n",
    "            url_result = get_listing_details(_)\n",
    "            url_result.update({'url': _})\n",
    "            time.sleep(1)\n",
    "            data.append(url_result)\n",
    "            json.dump(data, open('temp_data.json', 'w')) # in case of interruption\n",
    "            \n",
    "        except KeyboardInterrupt:\n",
    "            return data\n",
    "    \n",
    "    return data\n",
    "\n",
    "\n",
    "def recover():\n",
    "    data = json.load(open('temp_data.json', 'r'))\n",
    "    return data"
   ]
  },
  {
   "cell_type": "code",
   "execution_count": 248,
   "metadata": {},
   "outputs": [],
   "source": [
    "cat_urls = [\n",
    "    'https://www.etsy.com/c/paper-and-party-supplies/paper/calendars-and-planners',\n",
    "    'https://www.etsy.com/c/paper-and-party-supplies/paper/invitations-and-announcements/templates',\n",
    "    'https://www.etsy.com/c/paper-and-party-supplies/paper/stationery/design-and-templates',\n",
    "    'https://www.etsy.com/shop/DIYPaperBoutique'\n",
    "]\n",
    "\n",
    "# cat_urls = [\n",
    "#     'https://www.etsy.com/search?q=template'\n",
    "# ]"
   ]
  },
  {
   "cell_type": "code",
   "execution_count": 249,
   "metadata": {},
   "outputs": [],
   "source": [
    "urls_clean = iterate_cat_urls(cat_urls)"
   ]
  },
  {
   "cell_type": "code",
   "execution_count": 225,
   "metadata": {},
   "outputs": [
    {
     "data": {
      "application/vnd.jupyter.widget-view+json": {
       "model_id": "c9efc897ecbf4047b81d5f330a4c0692",
       "version_major": 2,
       "version_minor": 0
      },
      "text/plain": [
       "HBox(children=(FloatProgress(value=0.0, max=134.0), HTML(value='')))"
      ]
     },
     "metadata": {},
     "output_type": "display_data"
    },
    {
     "name": "stdout",
     "output_type": "stream",
     "text": [
      "\n"
     ]
    }
   ],
   "source": [
    "data = iterate_listings(urls_clean)"
   ]
  },
  {
   "cell_type": "code",
   "execution_count": 193,
   "metadata": {},
   "outputs": [],
   "source": [
    "data = recover()"
   ]
  },
  {
   "cell_type": "code",
   "execution_count": 226,
   "metadata": {},
   "outputs": [
    {
     "data": {
      "text/plain": [
       "134"
      ]
     },
     "execution_count": 226,
     "metadata": {},
     "output_type": "execute_result"
    }
   ],
   "source": [
    "len(data)"
   ]
  },
  {
   "cell_type": "code",
   "execution_count": 227,
   "metadata": {},
   "outputs": [],
   "source": [
    "for _ in data:\n",
    "    listing_price_clean = float(re.search(r'\\$[0-9]{1,}\\.[0-9]{1,}', _['listing_price']).group(0).replace('$', ''))\n",
    "    store_sales_clean = int(re.search(r'[0-9,]{1,}', _['store_sales']).group(0).replace(',', ''))\n",
    "    store_reviews_clean = int(re.search(r'[0-9,]{1,}', _['store_reviews']).group(0).replace(',', ''))\n",
    "    listing_reviews_clean = int(_['listing_reviews']) if _['listing_reviews'] is not None else 0\n",
    "    \n",
    "    _['listing_price_clean'] = listing_price_clean\n",
    "    _['store_sales_clean'] = store_sales_clean\n",
    "    _['store_reviews_clean'] = store_reviews_clean\n",
    "    _['listing_reviews_clean'] = listing_reviews_clean"
   ]
  },
  {
   "cell_type": "code",
   "execution_count": 243,
   "metadata": {},
   "outputs": [],
   "source": [
    "df = pd.DataFrame(data)[[\n",
    "    'seller_text', 'store_sales_clean', 'store_rating', 'store_reviews_clean', 'listing_reviews_clean',\n",
    "    'listing_price_clean', 'listing_bestseller', 'listing_title', 'listing_highlights',\n",
    "     'url'\n",
    "]]"
   ]
  },
  {
   "cell_type": "code",
   "execution_count": 244,
   "metadata": {
    "scrolled": false
   },
   "outputs": [],
   "source": [
    "df.drop_duplicates(subset=['url'], inplace=True)"
   ]
  },
  {
   "cell_type": "code",
   "execution_count": 245,
   "metadata": {},
   "outputs": [],
   "source": [
    "df.sort_values('listing_reviews_clean', ascending=False).to_csv('listings.csv', index=False)"
   ]
  },
  {
   "cell_type": "code",
   "execution_count": null,
   "metadata": {},
   "outputs": [],
   "source": []
  }
 ],
 "metadata": {
  "kernelspec": {
   "display_name": "Python 3",
   "language": "python",
   "name": "python3"
  },
  "language_info": {
   "codemirror_mode": {
    "name": "ipython",
    "version": 3
   },
   "file_extension": ".py",
   "mimetype": "text/x-python",
   "name": "python",
   "nbconvert_exporter": "python",
   "pygments_lexer": "ipython3",
   "version": "3.7.6"
  }
 },
 "nbformat": 4,
 "nbformat_minor": 4
}
