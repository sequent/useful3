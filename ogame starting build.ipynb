{
 "cells": [
  {
   "cell_type": "code",
   "execution_count": null,
   "metadata": {},
   "outputs": [],
   "source": [
    "# !pip install ogame"
   ]
  },
  {
   "cell_type": "code",
   "execution_count": null,
   "metadata": {},
   "outputs": [],
   "source": [
    "# https://github.com/alaingilbert/pyogame/wiki/Code-Snippets"
   ]
  },
  {
   "cell_type": "code",
   "execution_count": 26,
   "metadata": {},
   "outputs": [],
   "source": [
    "import os\n",
    "import sys\n",
    "module_path = os.path.abspath(os.path.join('../pyogame'))\n",
    "if module_path not in sys.path:\n",
    "    sys.path.append(module_path)\n",
    "\n",
    "from ogame import OGame, constants\n",
    "import time\n",
    "import re"
   ]
  },
  {
   "cell_type": "code",
   "execution_count": 27,
   "metadata": {
    "scrolled": false
   },
   "outputs": [],
   "source": [
    "o = OGame(\n",
    "    universe=\"Ymir\",\n",
    "    # universe='Volans',\n",
    "    username=\"samchakerian@gmail.com\",\n",
    "    password=\"$R3e@W1q1q\"\n",
    ")"
   ]
  },
  {
   "cell_type": "code",
   "execution_count": 28,
   "metadata": {},
   "outputs": [],
   "source": [
    "id = o.planet_ids()[0]\n",
    "supply = o.supply(id)\n",
    "res = o.resources(id)"
   ]
  },
  {
   "cell_type": "code",
   "execution_count": 29,
   "metadata": {},
   "outputs": [
    {
     "data": {
      "text/plain": [
       "{'sp': False, 'mm': False, 'cm': False, 'dm': False}"
      ]
     },
     "execution_count": 29,
     "metadata": {},
     "output_type": "execute_result"
    }
   ],
   "source": [
    "# check bldg construction\n",
    "{\n",
    "    'sp': supply.solar_plant.in_construction,\n",
    "    'mm': supply.metal_mine.in_construction,\n",
    "    'cm': supply.crystal_mine.in_construction,\n",
    "    'dm': supply.deuterium_mine.in_construction\n",
    "}"
   ]
  },
  {
   "cell_type": "code",
   "execution_count": 30,
   "metadata": {},
   "outputs": [
    {
     "data": {
      "text/plain": [
       "{'sp': True, 'mm': True, 'cm': True, 'dm': True}"
      ]
     },
     "execution_count": 30,
     "metadata": {},
     "output_type": "execute_result"
    }
   ],
   "source": [
    "# is possible\n",
    "{\n",
    "    'sp': supply.solar_plant.is_possible,\n",
    "    'mm': supply.metal_mine.is_possible,\n",
    "    'cm': supply.crystal_mine.is_possible,\n",
    "    'dm': supply.deuterium_mine.is_possible\n",
    "}"
   ]
  },
  {
   "cell_type": "code",
   "execution_count": 31,
   "metadata": {},
   "outputs": [
    {
     "data": {
      "text/plain": [
       "{'sp': 418, 'mm': 68704, 'cm': 22474, 'dm': 61418}"
      ]
     },
     "execution_count": 31,
     "metadata": {},
     "output_type": "execute_result"
    }
   ],
   "source": [
    "# check resources\n",
    "{\n",
    "    'sp': res.energy,\n",
    "    'mm': res.metal,\n",
    "    'cm': res.crystal,\n",
    "    'dm': res.deuterium\n",
    "}"
   ]
  },
  {
   "cell_type": "code",
   "execution_count": 32,
   "metadata": {},
   "outputs": [
    {
     "data": {
      "text/plain": [
       "{'sp': 14, 'mm': 10, 'cm': 8, 'dm': 8}"
      ]
     },
     "execution_count": 32,
     "metadata": {},
     "output_type": "execute_result"
    }
   ],
   "source": [
    "# check levels\n",
    "{\n",
    "    'sp': supply.solar_plant.level,\n",
    "    'mm': supply.metal_mine.level,\n",
    "    'cm': supply.crystal_mine.level,\n",
    "    'dm': supply.deuterium_mine.level\n",
    "}"
   ]
  },
  {
   "cell_type": "code",
   "execution_count": 33,
   "metadata": {},
   "outputs": [],
   "source": [
    "# to request esp reports\n",
    "\n",
    "from bs4 import BeautifulSoup\n",
    "\n",
    "def BeautifulSoup4(response):\n",
    "    parsed = BeautifulSoup(response, features=\"html5lib\")\n",
    "\n",
    "    def find_partial(**kwargs):\n",
    "        for key, value in kwargs.items():\n",
    "            kwargs[key] = re.compile(value)\n",
    "        return parsed.find(**kwargs)\n",
    "\n",
    "    def find_all_partial(**kwargs):\n",
    "        for key, value in kwargs.items():\n",
    "            kwargs[key] = re.compile(value)\n",
    "        return parsed.find_all(**kwargs)\n",
    "\n",
    "    parsed.find_partial = find_partial\n",
    "    parsed.find_all_partial = find_all_partial\n",
    "    return parsed"
   ]
  },
  {
   "cell_type": "code",
   "execution_count": 34,
   "metadata": {},
   "outputs": [],
   "source": [
    "def get_reports():\n",
    "    \n",
    "    response = o.session.get(\n",
    "        url=o.index_php,\n",
    "        params={'page': 'messages',\n",
    "                'tab': 20,\n",
    "                'ajax': 1}\n",
    "    ).text\n",
    "    bs4 = BeautifulSoup4(response)\n",
    "    report_links = [\n",
    "        link['href']\n",
    "        for link in bs4.find_all_partial(href='page=messages&messageId')\n",
    "    ]\n",
    "    \n",
    "    data = []\n",
    "    for link in report_links:\n",
    "        response = o.session.get(link).text\n",
    "        bs4 = BeautifulSoup4(response)\n",
    "        data.append({'link': link, 'text': bs4})\n",
    "        \n",
    "    return data"
   ]
  },
  {
   "cell_type": "code",
   "execution_count": 35,
   "metadata": {},
   "outputs": [],
   "source": [
    "def clean_reports(data):\n",
    "    \n",
    "    for report in data:\n",
    "        rep_res = [_.text for _ in report['text'].find_all('span', class_=\"res_value\")]\n",
    "        rep_coord = report['text'].find('span', class_=\"msg_title new blue_txt\").text\n",
    "        try:\n",
    "            rep_def = [_.text for _ in report['text'].find('ul', attrs={\"data-type\": \"defense\"}).find('li').find_all('span')]\n",
    "        except:\n",
    "            rep_def = None\n",
    "        report['results'] = {\n",
    "            'res': rep_res,\n",
    "            'rep_coord': rep_coord,\n",
    "            'rep_def': rep_def\n",
    "        }\n",
    "        \n",
    "    return [_['results'] for _ in data]"
   ]
  },
  {
   "cell_type": "code",
   "execution_count": 41,
   "metadata": {
    "scrolled": true
   },
   "outputs": [
    {
     "name": "stdout",
     "output_type": "stream",
     "text": [
      "437 ['inactive'] Homeworld 1162 True\n",
      "439 ['inactive'] Homeworld 1718 True\n",
      "439 ['inactive'] Homeworld 1560 True\n",
      "439 ['inactive'] Homeworld 1346 True\n",
      "440 ['inactive'] Homeworld 1634 True\n",
      "441 ['inactive'] Homeworld 1462 True\n",
      "444 ['inactive'] Homeworld 1438 True\n",
      "444 ['inactive'] Howak 1121 True\n",
      "445 ['inactive'] Homeworld 1348 False\n",
      "445 ['inactive'] Homeworld 1136 True\n",
      "448 ['inactive'] Homeworld 1579 True\n",
      "449 ['inactive'] Homeworld 1635 True\n",
      "450 ['inactive'] Beer 565 True\n",
      "451 ['inactive'] Homeworld 1531 True\n",
      "451 ['inactive'] Homeworld 1532 True\n",
      "452 ['inactive'] Homeworld 1258 True\n",
      "453 ['inactive'] Homeworld 1109 True\n"
     ]
    }
   ],
   "source": [
    "# for planet in o.galaxy(constants.coordinates(1, 447)):\n",
    "#     print(planet.status)\n",
    "\n",
    "# Iterate thru galaxies\n",
    "# Cut off after 10\n",
    "# Check the reports, append data (cleaned)\n",
    "# Continue with other 10, until done\n",
    "#\n",
    "\n",
    "data = []\n",
    "\n",
    "r = 20\n",
    "h = 447\n",
    "s = h-r\n",
    "e = h+r\n",
    "if e > 499:\n",
    "    e = 499\n",
    "    \n",
    "counter = 0\n",
    "for galaxy in range(s, e):\n",
    "    for planet in o.galaxy(constants.coordinates(1, galaxy)):\n",
    "        \n",
    "        # stop, check reports\n",
    "        if counter >= 9:\n",
    "            temp_data = get_reports()\n",
    "            temp_data = clean_reports(temp_data)\n",
    "            data.extend(temp_data)\n",
    "            counter = 0\n",
    "            time.sleep(5)\n",
    "        \n",
    "        # send the probes\n",
    "        if 'inactive' in planet.status and 'vacation' not in planet.status:\n",
    "            send = o.send_fleet(\n",
    "                constants.mission.spy, \n",
    "                o.planet_ids()[0], \n",
    "                planet.position, \n",
    "                [constants.ships.espionage_probe(1)]\n",
    "            )\n",
    "            counter+=1\n",
    "            print(galaxy, planet.status, planet.name, planet.rank, send)"
   ]
  },
  {
   "cell_type": "code",
   "execution_count": 46,
   "metadata": {},
   "outputs": [],
   "source": [
    "# find how many res you can get:\n",
    "coords_and_res = []\n",
    "for _ in data:\n",
    "    if _['rep_def'] == None:\n",
    "        res_clean = [int(__.replace('.', '')) for __ in _['res'][:3]]\n",
    "        coords_and_res.append([sum(res_clean), [int(_) for _ in re.search(r'[0-9:]{1,}', _['rep_coord']).group(0).split(\":\")]])"
   ]
  },
  {
   "cell_type": "code",
   "execution_count": 50,
   "metadata": {},
   "outputs": [
    {
     "data": {
      "text/plain": [
       "[[24247, [1, 439, 4]],\n",
       " [20013, [1, 439, 6]],\n",
       " [20000, [1, 439, 12]],\n",
       " [16906, [1, 452, 6]],\n",
       " [11669, [1, 449, 12]],\n",
       " [6014, [1, 451, 12]],\n",
       " [5364, [1, 451, 6]]]"
      ]
     },
     "execution_count": 50,
     "metadata": {},
     "output_type": "execute_result"
    }
   ],
   "source": [
    "sorted(coords_and_res, reverse=True)"
   ]
  },
  {
   "cell_type": "code",
   "execution_count": 51,
   "metadata": {},
   "outputs": [],
   "source": [
    "# get ships\n",
    "ships = o.ships(id)"
   ]
  },
  {
   "cell_type": "code",
   "execution_count": 60,
   "metadata": {},
   "outputs": [
    {
     "name": "stdout",
     "output_type": "stream",
     "text": [
      "[20013, [1, 439, 6]] (202, 2, 'shipyard') True\n",
      "remaining large: 9 remaining small: 10\n",
      "[20000, [1, 439, 12]] (202, 2, 'shipyard') True\n",
      "remaining large: 9 remaining small: 8\n",
      "[16906, [1, 452, 6]] (202, 1, 'shipyard') True\n",
      "remaining large: 9 remaining small: 7\n",
      "[11669, [1, 449, 12]] (202, 1, 'shipyard') True\n",
      "remaining large: 9 remaining small: 6\n",
      "[6014, [1, 451, 12]] (202, 0, 'shipyard') False\n",
      "remaining large: 9 remaining small: 6\n",
      "[5364, [1, 451, 6]] (202, 0, 'shipyard') False\n",
      "remaining large: 9 remaining small: 6\n"
     ]
    }
   ],
   "source": [
    "# deploy ships\n",
    "\n",
    "lcs = ships.large_transporter.amount\n",
    "scs = ships.small_transporter.amount\n",
    "\n",
    "for _ in sorted(coords_and_res, reverse=True)[1:]:\n",
    "\n",
    "    coords = _[1]\n",
    "    \n",
    "    if _[0]/2 > 25000 and lcs > 0:\n",
    "        n = int(_[0]/2/25000)\n",
    "        to_send = constants.ships.large_transporter(n)\n",
    "        lcs -= n\n",
    "        \n",
    "    else:\n",
    "        n = int(_[0]/2/5000)\n",
    "        to_send = constants.ships.small_transporter(n)\n",
    "        scs -= n\n",
    "\n",
    "    send = o.send_fleet(\n",
    "        constants.mission.attack,\n",
    "        o.planet_ids()[0],\n",
    "        (coords[0], coords[1], coords[2], 1),\n",
    "        [to_send]\n",
    "    )\n",
    "    print(_, to_send, send)\n",
    "    print('remaining large:', lcs, 'remaining small:', scs)"
   ]
  },
  {
   "cell_type": "code",
   "execution_count": null,
   "metadata": {},
   "outputs": [],
   "source": []
  }
 ],
 "metadata": {
  "kernelspec": {
   "display_name": "Python 3",
   "language": "python",
   "name": "python3"
  },
  "language_info": {
   "codemirror_mode": {
    "name": "ipython",
    "version": 3
   },
   "file_extension": ".py",
   "mimetype": "text/x-python",
   "name": "python",
   "nbconvert_exporter": "python",
   "pygments_lexer": "ipython3",
   "version": "3.7.6"
  }
 },
 "nbformat": 4,
 "nbformat_minor": 4
}
