{
 "cells": [
  {
   "cell_type": "code",
   "execution_count": null,
   "metadata": {},
   "outputs": [],
   "source": [
    "# !pip install ogame"
   ]
  },
  {
   "cell_type": "code",
   "execution_count": null,
   "metadata": {},
   "outputs": [],
   "source": [
    "# https://github.com/alaingilbert/pyogame/wiki/Code-Snippets"
   ]
  },
  {
   "cell_type": "code",
   "execution_count": 1,
   "metadata": {},
   "outputs": [],
   "source": [
    "import os\n",
    "import sys\n",
    "module_path = os.path.abspath(os.path.join('../pyogame'))\n",
    "if module_path not in sys.path:\n",
    "    sys.path.append(module_path)\n",
    "\n",
    "from ogame import OGame, constants\n",
    "import time"
   ]
  },
  {
   "cell_type": "code",
   "execution_count": 2,
   "metadata": {
    "scrolled": false
   },
   "outputs": [],
   "source": [
    "o = OGame(\n",
    "    universe=\"Ymir\",\n",
    "    # universe='Volans',\n",
    "    username=\"samchakerian@gmail.com\",\n",
    "    password=\"$R3e@W1q1q\"\n",
    ")"
   ]
  },
  {
   "cell_type": "code",
   "execution_count": 3,
   "metadata": {},
   "outputs": [],
   "source": [
    "# # time \n",
    "# sp = 5\n",
    "# mm = 3\n",
    "# cm = 3\n",
    "# dm = 15"
   ]
  },
  {
   "cell_type": "code",
   "execution_count": 4,
   "metadata": {},
   "outputs": [],
   "source": [
    "# income\n",
    "# mm1 : +504\n",
    "# mm2: ???\n",
    "# mm3: +969\n",
    "# cm : +120\n",
    "# cm2: +414"
   ]
  },
  {
   "cell_type": "code",
   "execution_count": 5,
   "metadata": {},
   "outputs": [],
   "source": [
    "# make class with starting res, build times, income\n",
    "\n",
    "# should initiate building, unless you need to wait for resources\n",
    "\n",
    "# in that case, should calculate wait time\n",
    "\n"
   ]
  },
  {
   "cell_type": "code",
   "execution_count": 6,
   "metadata": {},
   "outputs": [],
   "source": [
    "# id = o.planet_ids()[0]\n",
    "# o.build(constants.buildings.solar_plant, id)\n",
    "# time.sleep(sp)\n",
    "# o.build(constants.buildings.metal_mine, id)\n",
    "# time.sleep(mm)\n",
    "# o.build(constants.buildings.metal_mine, id)\n",
    "# time.sleep(mm*2)\n",
    "# o.build(constants.buildings.solar_plant, id)\n",
    "# time.sleep(sp*2)\n",
    "# o.build(constants.buildings.metal_mine, id)\n",
    "# time.sleep(mm*3)\n",
    "# o.build(constants.buildings.metal_mine, id)\n",
    "# time.sleep(mm*4)\n",
    "# o.build(constants.buildings.solar_plant, id)\n",
    "# time.sleep(sp*3)\n",
    "# o.build(constants.buildings.crystal_mine, id)\n",
    "# time.sleep(cm)\n",
    "# o.build(constants.buildings.solar_plant, id)\n",
    "# time.sleep(sp*4)\n",
    "# o.build(constants.buildings.metal_mine, id)\n",
    "# time.sleep(mm*5)\n",
    "# o.build(constants.buildings.crystal_mine, id)\n",
    "# time.sleep(cm*2)\n",
    "# o.build(constants.buildings.crystal_mine, id)\n",
    "# time.sleep(cm*3)\n",
    "# o.build(constants.buildings.solar_plant, id)\n",
    "# time.sleep(sp*5)\n",
    "# o.build(constants.buildings.deuterium_mine, id)\n",
    "# time.sleep(dm)"
   ]
  },
  {
   "cell_type": "code",
   "execution_count": 7,
   "metadata": {},
   "outputs": [],
   "source": [
    "# # https://ogame.fandom.com/wiki/Quick_Start_Guide\n",
    "\n",
    "# Step // Building/Tech // Building Tech Level // notes // (Sam time)\n",
    "\n",
    "# 1 // Solar Plant // 1 // 5s\n",
    "# 2 // Metal mine // 1 // 3s\n",
    "# 3 // Metal Mine // 2 // \n",
    "# 4 // Solar Plant // 2 // \n",
    "# 5 // Metal Mine // 3 // +8 Energy\n",
    "# 6 // Metal Mine // 4 // - 11 Energy but improvement in production\n",
    "# 7 // Solar Plant // 3\n",
    "# 8 // Crystal Mine // 1 // +9 energy. Do not upgrade. Stick to the guide\n",
    "# 9 // Solar Plant // 4\n",
    "# 10 // Metal Mine // 5 // You can also switch steps 10 and 11 if you're doing the tutorial to get free rss\n",
    "# 11 // Crystal Mine // 2 // +11 energy\n",
    "# 12 // Crystal Mine // 3 // -4 energy but do upgrade because improvement in production. \n",
    "# Metal prod decreases with 9 metal/h no biggy\n",
    "# 13 // Solar Plant // 5 // Make sure to build this as soon as you can to reduce unnecessary production loss\n",
    "\n",
    "# 14 // Deuterium Synthesizer // 1 // Energy +18\n",
    "\n",
    "# 15 // Crystal Mine // 4 // Energy -1 Upgrade in production so build it.\n",
    "\n",
    "# 16 // Solar Plant // 6\n",
    "\n",
    "# 17 // Metal Mine // 6\n",
    "\n",
    "# 18 // Metal Mine // 7 // -6 but improvement (produce at 90%)\n",
    "\n",
    "# 19 // Solar Plant // 7 // put Metal Mine back to 100% after done\n",
    "\n",
    "# 20 // Crystal Mine // 5\n",
    "\n",
    "# 21 // Deuterium Synthesizer // 2\n",
    "\n",
    "# 22 // Solar Plant // 8\n",
    "\n",
    "# 23 // Deuterium Synthesizer // 3\n",
    "\n",
    "# 24 // Deuterium Synthesizer // 4\n",
    "\n",
    "# 25 // Solar Plant // 9\n",
    "\n",
    "# 26 // Deuterium Synthesizer // 5\n",
    "\n",
    "# 27 // Robotics Factory // 1 // Robo 1 is the first building that costs deuterium. \n",
    "# Continue with the list in the given order as much as you can. If you dont have deuterium left, \n",
    "# then just continue with non deuterium costing buildings.\n",
    "\n",
    "# 28 // Robotics Factory // 2\n",
    "\n",
    "# 29 // Research Lab // 1\n",
    "\n",
    "# 30 // Shipyard // 1\n",
    "\n",
    "# 31 // Crystal Mine // 6\n",
    "\n",
    "# 32 // Shipyard // 2\n",
    "\n",
    "# 33 // Solar Plant // 10\n",
    "\n",
    "# 34 // Deuterium Synthesizer // 6\n",
    "\n",
    "# 35 // Metal Mine // 8\n",
    "\n",
    "# 36 // Energy Research // 1\n",
    "\n",
    "# 37 // Combustion Drive // 1 // If you have enough resources\n",
    "\n",
    "# 38 // Solar Plant // 11 // Whenever you can research combustion drive 2, research it.\n",
    "\n",
    "# 39 // Crystal Mine // 7 // Whenever you can build Shipyard 3, build it\n",
    "\n",
    "# 40 // Metal Mine // 9\n",
    "\n"
   ]
  },
  {
   "cell_type": "code",
   "execution_count": 8,
   "metadata": {},
   "outputs": [],
   "source": [
    "id = o.planet_ids()[0]\n",
    "supply = o.supply(id)\n",
    "res = o.resources(id)"
   ]
  },
  {
   "cell_type": "code",
   "execution_count": 9,
   "metadata": {},
   "outputs": [
    {
     "data": {
      "text/plain": [
       "{'sp': False, 'mm': False, 'cm': False, 'dm': False}"
      ]
     },
     "execution_count": 9,
     "metadata": {},
     "output_type": "execute_result"
    }
   ],
   "source": [
    "# check bldg construction\n",
    "{\n",
    "    'sp': supply.solar_plant.in_construction,\n",
    "    'mm': supply.metal_mine.in_construction,\n",
    "    'cm': supply.crystal_mine.in_construction,\n",
    "    'dm': supply.deuterium_mine.in_construction\n",
    "}"
   ]
  },
  {
   "cell_type": "code",
   "execution_count": 10,
   "metadata": {},
   "outputs": [
    {
     "data": {
      "text/plain": [
       "{'sp': True, 'mm': True, 'cm': True, 'dm': True}"
      ]
     },
     "execution_count": 10,
     "metadata": {},
     "output_type": "execute_result"
    }
   ],
   "source": [
    "# is possible\n",
    "{\n",
    "    'sp': supply.solar_plant.is_possible,\n",
    "    'mm': supply.metal_mine.is_possible,\n",
    "    'cm': supply.crystal_mine.is_possible,\n",
    "    'dm': supply.deuterium_mine.is_possible\n",
    "}"
   ]
  },
  {
   "cell_type": "code",
   "execution_count": 11,
   "metadata": {},
   "outputs": [
    {
     "data": {
      "text/plain": [
       "{'sp': 418, 'mm': 75000, 'cm': 40000, 'dm': 39136}"
      ]
     },
     "execution_count": 11,
     "metadata": {},
     "output_type": "execute_result"
    }
   ],
   "source": [
    "# check resources\n",
    "{\n",
    "    'sp': res.energy,\n",
    "    'mm': res.metal,\n",
    "    'cm': res.crystal,\n",
    "    'dm': res.deuterium\n",
    "}"
   ]
  },
  {
   "cell_type": "code",
   "execution_count": 12,
   "metadata": {},
   "outputs": [
    {
     "data": {
      "text/plain": [
       "{'sp': 14, 'mm': 10, 'cm': 8, 'dm': 8}"
      ]
     },
     "execution_count": 12,
     "metadata": {},
     "output_type": "execute_result"
    }
   ],
   "source": [
    "# check levels\n",
    "{\n",
    "    'sp': supply.solar_plant.level,\n",
    "    'mm': supply.metal_mine.level,\n",
    "    'cm': supply.crystal_mine.level,\n",
    "    'dm': supply.deuterium_mine.level\n",
    "}"
   ]
  },
  {
   "cell_type": "code",
   "execution_count": 13,
   "metadata": {},
   "outputs": [],
   "source": [
    "# o.is_logged_in()\n",
    "\n",
    "# o.relogin()\n",
    "\n",
    "# o.logout()"
   ]
  },
  {
   "cell_type": "code",
   "execution_count": 14,
   "metadata": {},
   "outputs": [],
   "source": [
    "# # keep_going decorator\n",
    "# @empire.keep_going\n",
    "# def run():\n",
    "#     while True:\n",
    "#         print(empire.attacked())\n",
    "#         time.sleep(1)"
   ]
  },
  {
   "cell_type": "code",
   "execution_count": 15,
   "metadata": {},
   "outputs": [],
   "source": [
    "# attack inactives\n",
    "\n",
    "# # Send a Spyprobe to a random Player\n",
    "# send_fleet = False\n",
    "# while not send_fleet:\n",
    "#     for planet in empire.galaxy(coordinates(randint(1,6), randint(1, 499))):\n",
    "#         if empire.send_fleet(mission.spy, id, planet.position, [ships.espionage_probe(1)]):\n",
    "#             send_fleet = True\n",
    "#             break\n",
    "\n",
    "# # Wait till Spyprobe arrives\n",
    "# for fleet in empire.fleet():\n",
    "#     if fleet.mission == mission.spy:\n",
    "#         while datetime.now() < fleet.arrival:\n",
    "#             continue\n",
    "\n",
    "# # Print out Spyreport\n",
    "# for spyreport in o.spyreports():\n",
    "#     print(spyreport.list)\n",
    "\n",
    "# for planet in empire.galaxy(coordinates(1, 1)):\n",
    "#     if status.inactive in planet.status and status.vacation not in planet.status:\n",
    "#         empire.send_fleet(mission=mission.attack,\n",
    "#                           id=empire.id_by_planet_name('MAIN_PLANET'),\n",
    "#                           where=coordinates(1, 1, planet.position),\n",
    "#                           ships=[ships.large_transporter(25), ships.cruiser(1)])"
   ]
  },
  {
   "cell_type": "code",
   "execution_count": 16,
   "metadata": {},
   "outputs": [
    {
     "data": {
      "text/plain": [
       "33624031"
      ]
     },
     "execution_count": 16,
     "metadata": {},
     "output_type": "execute_result"
    }
   ],
   "source": [
    "o.planet_ids()[0]"
   ]
  },
  {
   "cell_type": "code",
   "execution_count": 17,
   "metadata": {},
   "outputs": [
    {
     "data": {
      "text/plain": [
       "[1, 447, 10, 1]"
      ]
     },
     "execution_count": 17,
     "metadata": {},
     "output_type": "execute_result"
    }
   ],
   "source": [
    "o.celestial_coordinates(33624031)"
   ]
  },
  {
   "cell_type": "code",
   "execution_count": 98,
   "metadata": {
    "scrolled": true
   },
   "outputs": [
    {
     "name": "stdout",
     "output_type": "stream",
     "text": [
      "441 ['inactive'] Homeworld 1459\n",
      "[1, 441, 10, 1]\n",
      "444 ['inactive'] Homeworld 1436\n",
      "[1, 444, 8, 1]\n",
      "444 ['inactive'] Howak 1121\n",
      "[1, 444, 12, 1]\n",
      "445 ['inactive'] Homeworld 1347\n",
      "[1, 445, 4, 1]\n",
      "445 ['inactive'] Homeworld 1136\n",
      "[1, 445, 6, 1]\n",
      "448 ['inactive'] Homeworld 1575\n",
      "[1, 448, 10, 1]\n",
      "449 ['inactive'] Homeworld 1631\n",
      "[1, 449, 12, 1]\n",
      "450 ['inactive'] Beer 566\n",
      "[1, 450, 8, 1]\n",
      "451 ['inactive'] Homeworld 1527\n",
      "[1, 451, 6, 1]\n",
      "451 ['inactive'] Homeworld 1528\n",
      "[1, 451, 12, 1]\n",
      "452 ['inactive'] Homeworld 1257\n",
      "[1, 452, 6, 1]\n",
      "453 ['inactive'] Homeworld 1109\n",
      "[1, 453, 4, 1]\n"
     ]
    }
   ],
   "source": [
    "# for planet in o.galaxy(constants.coordinates(1, 447)):\n",
    "#     print(planet.status)\n",
    "    \n",
    "for galaxy in range(441, 455):\n",
    "    for planet in o.galaxy(constants.coordinates(1, galaxy)):\n",
    "        # print(galaxy, planet.status, planet.name, planet.rank)\n",
    "        if 'inactive' in planet.status and 'vacation' not in planet.status:\n",
    "            print(galaxy, planet.status, planet.name, planet.rank)\n",
    "            print(planet.position)\n",
    "#             o.send_fleet(\n",
    "#                 constants.mission.spy, \n",
    "#                 o.planet_ids()[0], \n",
    "#                 planet.position, \n",
    "#                 [constants.ships.espionage_probe(1)]\n",
    "#             )"
   ]
  },
  {
   "cell_type": "code",
   "execution_count": 97,
   "metadata": {},
   "outputs": [
    {
     "data": {
      "text/plain": [
       "[1, 444, 12, 1]"
      ]
     },
     "execution_count": 97,
     "metadata": {},
     "output_type": "execute_result"
    }
   ],
   "source": [
    "planet.position"
   ]
  },
  {
   "cell_type": "code",
   "execution_count": null,
   "metadata": {},
   "outputs": [],
   "source": [
    "# response = o.session.get(o.index_php + 'page=ingame&component=fleetdispatch&cp={}'.format(33624031))"
   ]
  },
  {
   "cell_type": "code",
   "execution_count": 19,
   "metadata": {
    "scrolled": true
   },
   "outputs": [],
   "source": [
    "# response.text"
   ]
  },
  {
   "cell_type": "code",
   "execution_count": 20,
   "metadata": {},
   "outputs": [],
   "source": [
    "import re"
   ]
  },
  {
   "cell_type": "code",
   "execution_count": 21,
   "metadata": {},
   "outputs": [],
   "source": [
    "# send_fleet_token = re.search(\n",
    "#     # 'var fleetSendingToken = \"(.*)\"',\n",
    "#     'var token = \"(.*)\"',\n",
    "#     response.text\n",
    "# ).group(1)\n",
    "# form_data = {'token': send_fleet_token}"
   ]
  },
  {
   "cell_type": "code",
   "execution_count": 22,
   "metadata": {},
   "outputs": [],
   "source": [
    "# form_data\n",
    "\n",
    "# ships = [constants.ships.espionage_probe(1)]\n",
    "\n",
    "# send_fleet_token = 'b13bf8f7e593865de07d7e057f8b8e3c' # from inspect\n",
    "\n",
    "# where = [1, 440, 8, 1]\n",
    "# resources = (0, 0, 0)\n",
    "# mission = constants.mission.spy\n",
    "# speed = 10\n",
    "# holdingtime = 0\n",
    "\n",
    "# form_data = {'token': send_fleet_token}\n",
    "\n",
    "# for ship in ships:\n",
    "#     ship_type = 'am{}'.format(ship[0])\n",
    "#     form_data.update({ship_type: ship[1]})\n",
    "\n",
    "# form_data.update(\n",
    "#     {\n",
    "#         'galaxy': where[0],\n",
    "#         'system': where[1],\n",
    "#         'position': where[2],\n",
    "#         'type': where[3],\n",
    "#         'metal': resources[0],\n",
    "#         'crystal': resources[1],\n",
    "#         'deuterium': resources[2],\n",
    "#         'prioMetal': 1,\n",
    "#         'prioCrystal': 2,\n",
    "#         'prioDeuterium': 3,\n",
    "#         'mission': mission,\n",
    "#         'speed': speed,\n",
    "#         'retreatAfterDefenderRetreat': 0,\n",
    "#         'union': 0,\n",
    "#         'holdingtime': holdingtime\n",
    "#     }\n",
    "# )\n",
    "\n",
    "# # response = self.session.post(\n",
    "# #     url=self.index_php + 'page=ingame&component=fleetdispatch'\n",
    "# #         '&action=sendFleet&ajax=1&asJson=1',\n",
    "# #     data=form_data,\n",
    "# #     headers={'X-Requested-With': 'XMLHttpRequest'}\n",
    "# # ).json()\n",
    "# # return response['success']"
   ]
  },
  {
   "cell_type": "code",
   "execution_count": 23,
   "metadata": {},
   "outputs": [],
   "source": [
    "# form_data\n",
    "\n",
    "# response = o.session.post(\n",
    "#     url=o.index_php + 'page=ingame&component=fleetdispatch&action=sendFleet&ajax=1&asJson=1',\n",
    "#     data=form_data,\n",
    "#     headers={'X-Requested-With': 'XMLHttpRequest'}\n",
    "# )\n",
    "\n",
    "# response.json()"
   ]
  },
  {
   "cell_type": "code",
   "execution_count": 24,
   "metadata": {},
   "outputs": [],
   "source": [
    "# id = o.planet_ids()[0]"
   ]
  },
  {
   "cell_type": "code",
   "execution_count": 25,
   "metadata": {},
   "outputs": [],
   "source": [
    "# from ogame.constants import coordinates, mission, speed, fleet"
   ]
  },
  {
   "cell_type": "code",
   "execution_count": 26,
   "metadata": {},
   "outputs": [],
   "source": [
    "# fleet"
   ]
  },
  {
   "cell_type": "code",
   "execution_count": 27,
   "metadata": {},
   "outputs": [],
   "source": [
    "# # from ogame.constants import coordinates, mission, speed, fleet\n",
    "# o.send_fleet(mission=mission.expedition,\n",
    "#                   id=id,\n",
    "#                   where=coordinates(1, 440, 8),\n",
    "#                   ships=fleet(espionage_probe=1),\n",
    "#                   resources=[0, 0, 0],  # optional default no resources\n",
    "#                   speed=speed.max,      # optional default speed.max\n",
    "#                   holdingtime=2)        # optional default 0 will be needed by expeditions"
   ]
  },
  {
   "cell_type": "code",
   "execution_count": 28,
   "metadata": {},
   "outputs": [],
   "source": [
    "# # o.spyreports()\n",
    "# o.spyreports()[0].fright"
   ]
  },
  {
   "cell_type": "code",
   "execution_count": 29,
   "metadata": {},
   "outputs": [],
   "source": [
    "from bs4 import BeautifulSoup\n",
    "\n",
    "def BeautifulSoup4(response):\n",
    "    parsed = BeautifulSoup(response, features=\"html5lib\")\n",
    "\n",
    "    def find_partial(**kwargs):\n",
    "        for key, value in kwargs.items():\n",
    "            kwargs[key] = re.compile(value)\n",
    "        return parsed.find(**kwargs)\n",
    "\n",
    "    def find_all_partial(**kwargs):\n",
    "        for key, value in kwargs.items():\n",
    "            kwargs[key] = re.compile(value)\n",
    "        return parsed.find_all(**kwargs)\n",
    "\n",
    "    parsed.find_partial = find_partial\n",
    "    parsed.find_all_partial = find_all_partial\n",
    "    return parsed"
   ]
  },
  {
   "cell_type": "code",
   "execution_count": 30,
   "metadata": {},
   "outputs": [],
   "source": [
    "# o.planet_ids()"
   ]
  },
  {
   "cell_type": "code",
   "execution_count": 31,
   "metadata": {},
   "outputs": [],
   "source": [
    "response = o.session.get(\n",
    "    url=o.index_php,\n",
    "    params={'page': 'messages',\n",
    "            'tab': 20,\n",
    "            'ajax': 1}\n",
    ").text\n",
    "bs4 = BeautifulSoup4(response)\n",
    "report_links = [\n",
    "    link['href']\n",
    "    for link in bs4.find_all_partial(href='page=messages&messageId')\n",
    "]"
   ]
  },
  {
   "cell_type": "code",
   "execution_count": 32,
   "metadata": {},
   "outputs": [
    {
     "data": {
      "text/plain": [
       "['https://s177-en.ogame.gameforge.com/game/index.php?page=messages&messageId=989723&tabid=20&ajax=1',\n",
       " 'https://s177-en.ogame.gameforge.com/game/index.php?page=messages&messageId=989715&tabid=20&ajax=1',\n",
       " 'https://s177-en.ogame.gameforge.com/game/index.php?page=messages&messageId=989712&tabid=20&ajax=1',\n",
       " 'https://s177-en.ogame.gameforge.com/game/index.php?page=messages&messageId=989705&tabid=20&ajax=1',\n",
       " 'https://s177-en.ogame.gameforge.com/game/index.php?page=messages&messageId=989698&tabid=20&ajax=1',\n",
       " 'https://s177-en.ogame.gameforge.com/game/index.php?page=messages&messageId=989696&tabid=20&ajax=1',\n",
       " 'https://s177-en.ogame.gameforge.com/game/index.php?page=messages&messageId=989694&tabid=20&ajax=1',\n",
       " 'https://s177-en.ogame.gameforge.com/game/index.php?page=messages&messageId=989686&tabid=20&ajax=1',\n",
       " 'https://s177-en.ogame.gameforge.com/game/index.php?page=messages&messageId=989680&tabid=20&ajax=1',\n",
       " 'https://s177-en.ogame.gameforge.com/game/index.php?page=messages&messageId=989676&tabid=20&ajax=1']"
      ]
     },
     "execution_count": 32,
     "metadata": {},
     "output_type": "execute_result"
    }
   ],
   "source": [
    "report_links"
   ]
  },
  {
   "cell_type": "code",
   "execution_count": 33,
   "metadata": {},
   "outputs": [],
   "source": [
    "data = []\n",
    "\n",
    "reports = []\n",
    "for link in report_links:\n",
    "    response = o.session.get(link).text\n",
    "    bs4 = BeautifulSoup4(response)\n",
    "#     technologys = [tech['class'][0] for tech in bs4.find_all('img')]\n",
    "#     amounts = [\n",
    "#         tech.parent.parent.find_all('span')[1].text\n",
    "#         for tech in bs4.find_all('img')\n",
    "#     ]\n",
    "    data.append({'link': link, 'text': bs4})"
   ]
  },
  {
   "cell_type": "code",
   "execution_count": 34,
   "metadata": {
    "scrolled": false
   },
   "outputs": [
    {
     "data": {
      "text/plain": [
       "10"
      ]
     },
     "execution_count": 34,
     "metadata": {},
     "output_type": "execute_result"
    }
   ],
   "source": [
    "len(data)"
   ]
  },
  {
   "cell_type": "code",
   "execution_count": 36,
   "metadata": {
    "scrolled": false
   },
   "outputs": [
    {
     "data": {
      "text/plain": [
       "'Espionage report from Homeworld [1:453:4]'"
      ]
     },
     "execution_count": 36,
     "metadata": {},
     "output_type": "execute_result"
    }
   ],
   "source": [
    "# data[0]['text'].find_all('span', class_=\"res_value\")\n",
    "\n",
    "# data[0]['text'].find('span', class_=\"msg_title new blue_txt\").text\n",
    "\n",
    "# [_.text for _ in data[0]['text'].find('ul', attrs={\"data-type\": \"defense\"}).find('li').find_all('span')]"
   ]
  },
  {
   "cell_type": "code",
   "execution_count": 47,
   "metadata": {},
   "outputs": [],
   "source": [
    "for report in data:\n",
    "    rep_res = [_.text for _ in report['text'].find_all('span', class_=\"res_value\")]\n",
    "    rep_coord = report['text'].find('span', class_=\"msg_title new blue_txt\").text\n",
    "    try:\n",
    "        rep_def = [_.text for _ in report['text'].find('ul', attrs={\"data-type\": \"defense\"}).find('li').find_all('span')]\n",
    "    except:\n",
    "        rep_def = None\n",
    "    report['results'] = {\n",
    "        'res': rep_res,\n",
    "        'rep_coord': rep_coord,\n",
    "        'rep_def': rep_def\n",
    "    }"
   ]
  },
  {
   "cell_type": "code",
   "execution_count": 48,
   "metadata": {},
   "outputs": [
    {
     "data": {
      "text/plain": [
       "[{'res': ['30.154', '24.781', '9.434', '272'],\n",
       "  'rep_coord': 'Espionage report from Homeworld [1:453:4]',\n",
       "  'rep_def': ['Rocket Launcher', '4']},\n",
       " {'res': ['12.682', '6.413', '4.501', '128'],\n",
       "  'rep_coord': 'Espionage report from Homeworld [1:452:6]',\n",
       "  'rep_def': None},\n",
       " {'res': ['10.000', '8.447', '0', '48'],\n",
       "  'rep_coord': 'Espionage report from Homeworld [1:451:12]',\n",
       "  'rep_def': None},\n",
       " {'res': ['6.559', '5.342', '0', '48'],\n",
       "  'rep_coord': 'Espionage report from Homeworld [1:451:6]',\n",
       "  'rep_def': None},\n",
       " {'res': ['133.119', '56.425', '25.532', '2.324', '4.200', '4.200'],\n",
       "  'rep_coord': 'Espionage report from Beer [1:450:8]',\n",
       "  'rep_def': []},\n",
       " {'res': ['10.000', '10.000', '0', '48'],\n",
       "  'rep_coord': 'Espionage report from Homeworld [1:449:12]',\n",
       "  'rep_def': None},\n",
       " {'res': ['10.000', '9.340', '3.124', '24'],\n",
       "  'rep_coord': 'Espionage report from Homeworld [1:448:10]',\n",
       "  'rep_def': None},\n",
       " {'res': ['10.000', '10.000', '10.000', '689'],\n",
       "  'rep_coord': 'Espionage report from Homeworld [1:445:6]',\n",
       "  'rep_def': ['Rocket Launcher', '1']},\n",
       " {'res': ['10.000', '10.000', '10.000', '117'],\n",
       "  'rep_coord': 'Espionage report from Homeworld [1:445:4]',\n",
       "  'rep_def': None},\n",
       " {'res': ['40.000', '20.000', '10.000', '518'],\n",
       "  'rep_coord': 'Espionage report from Howak [1:444:12]',\n",
       "  'rep_def': None}]"
      ]
     },
     "execution_count": 48,
     "metadata": {},
     "output_type": "execute_result"
    }
   ],
   "source": [
    "[_['results'] for _ in data]"
   ]
  },
  {
   "cell_type": "code",
   "execution_count": 82,
   "metadata": {},
   "outputs": [
    {
     "name": "stdout",
     "output_type": "stream",
     "text": [
      "Espionage report from Homeworld [1:452:6] 11798.0\n",
      "[1, 452, 6]\n",
      "Espionage report from Homeworld [1:451:12] 9223.5\n",
      "[1, 451, 12]\n",
      "Espionage report from Homeworld [1:451:6] 5950.5\n",
      "[1, 451, 6]\n",
      "Espionage report from Homeworld [1:449:12] 10000.0\n",
      "[1, 449, 12]\n",
      "Espionage report from Homeworld [1:448:10] 11232.0\n",
      "[1, 448, 10]\n",
      "Espionage report from Homeworld [1:445:4] 15000.0\n",
      "[1, 445, 4]\n",
      "Espionage report from Howak [1:444:12] 35000.0\n",
      "[1, 444, 12]\n"
     ]
    }
   ],
   "source": [
    "# find how many res you can get:\n",
    "\n",
    "for _ in [_['results'] for _ in data]:\n",
    "    if _['rep_def'] == None:\n",
    "        res_clean = [int(__.replace('.', '')) for __ in _['res'][:3]]\n",
    "        print(_['rep_coord'], sum(res_clean)/2)\n",
    "        print(\n",
    "            [int(_) for _ in re.search(r'[0-9:]{1,}', _['rep_coord']).group(0).split(\":\")],\n",
    "        )"
   ]
  },
  {
   "cell_type": "code",
   "execution_count": 86,
   "metadata": {},
   "outputs": [
    {
     "data": {
      "text/plain": [
       "33624031"
      ]
     },
     "execution_count": 86,
     "metadata": {},
     "output_type": "execute_result"
    }
   ],
   "source": [
    "id"
   ]
  },
  {
   "cell_type": "code",
   "execution_count": 88,
   "metadata": {},
   "outputs": [],
   "source": [
    "# get ships\n",
    "\n",
    "ships = o.ships(id)"
   ]
  },
  {
   "cell_type": "code",
   "execution_count": 89,
   "metadata": {},
   "outputs": [
    {
     "name": "stdout",
     "output_type": "stream",
     "text": [
      "10 True False\n"
     ]
    }
   ],
   "source": [
    "print(\n",
    "    ships.espionage_probe.amount,\n",
    "    ships.espionage_probe.is_possible,\n",
    "    ships.espionage_probe.in_construction\n",
    ")\n",
    "\n",
    "print(\n",
    "    ships.small_transporter.amount,\n",
    "    ships.small_transporter.is_possible,\n",
    "    ships.small_transporter.in_construction\n",
    ")\n",
    "\n",
    "print(\n",
    "    ships.large_transporter.amount,\n",
    "    ships.large_transporter.is_possible,\n",
    "    ships.large_transporter.in_construction\n",
    ")"
   ]
  },
  {
   "cell_type": "code",
   "execution_count": 99,
   "metadata": {},
   "outputs": [
    {
     "name": "stdout",
     "output_type": "stream",
     "text": [
      "Espionage report from Homeworld [1:452:6] 11798.0 [1, 452, 6]\n",
      "Espionage report from Homeworld [1:451:12] 9223.5 [1, 451, 12]\n",
      "Espionage report from Homeworld [1:451:6] 5950.5 [1, 451, 6]\n",
      "Espionage report from Homeworld [1:449:12] 10000.0 [1, 449, 12]\n",
      "Espionage report from Homeworld [1:448:10] 11232.0 [1, 448, 10]\n",
      "Espionage report from Homeworld [1:445:4] 15000.0 [1, 445, 4]\n",
      "Espionage report from Howak [1:444:12] 35000.0 [1, 444, 12]\n"
     ]
    }
   ],
   "source": [
    "# deploy ships\n",
    "\n",
    "for _ in [_['results'] for _ in data]:\n",
    "    if _['rep_def'] == None:\n",
    "        res_clean = [int(__.replace('.', '')) for __ in _['res'][:3]]\n",
    "        print(\n",
    "            _['rep_coord'], \n",
    "            sum(res_clean)/2, \n",
    "            [int(_) for _ in re.search(r'[0-9:]{1,}', _['rep_coord']).group(0).split(\":\")],\n",
    "        )\n",
    "        \n",
    "        coords = [int(_) for _ in re.search(r'[0-9:]{1,}', _['rep_coord']).group(0).split(\":\")]\n",
    "        \n",
    "        o.send_fleet(\n",
    "            constants.mission.attack,\n",
    "            o.planet_ids()[0],\n",
    "            (coords[0], coords[1], coords[2], 1),\n",
    "            [constants.ships.small_transporter(2)]\n",
    "        )"
   ]
  },
  {
   "cell_type": "code",
   "execution_count": 101,
   "metadata": {},
   "outputs": [],
   "source": [
    "# o.send_fleet(\n",
    "#     constants.mission.attack,\n",
    "#     o.planet_ids()[0],\n",
    "#     (coords[0], coords[1], coords[2], 1),\n",
    "#     [constants.ships.large_transporter(1)]\n",
    "# )"
   ]
  },
  {
   "cell_type": "code",
   "execution_count": null,
   "metadata": {},
   "outputs": [],
   "source": []
  }
 ],
 "metadata": {
  "kernelspec": {
   "display_name": "Python 3",
   "language": "python",
   "name": "python3"
  },
  "language_info": {
   "codemirror_mode": {
    "name": "ipython",
    "version": 3
   },
   "file_extension": ".py",
   "mimetype": "text/x-python",
   "name": "python",
   "nbconvert_exporter": "python",
   "pygments_lexer": "ipython3",
   "version": "3.7.6"
  }
 },
 "nbformat": 4,
 "nbformat_minor": 4
}
