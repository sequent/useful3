{
 "cells": [
  {
   "cell_type": "code",
   "execution_count": null,
   "metadata": {},
   "outputs": [],
   "source": [
    "# !pip install ogame"
   ]
  },
  {
   "cell_type": "code",
   "execution_count": null,
   "metadata": {},
   "outputs": [],
   "source": [
    "# https://github.com/alaingilbert/pyogame/wiki/Code-Snippets"
   ]
  },
  {
   "cell_type": "code",
   "execution_count": 1,
   "metadata": {},
   "outputs": [],
   "source": [
    "import os\n",
    "import sys\n",
    "module_path = os.path.abspath(os.path.join('../pyogame'))\n",
    "if module_path not in sys.path:\n",
    "    sys.path.append(module_path)"
   ]
  },
  {
   "cell_type": "code",
   "execution_count": 2,
   "metadata": {},
   "outputs": [],
   "source": [
    "from ogame import OGame, constants\n",
    "import time"
   ]
  },
  {
   "cell_type": "code",
   "execution_count": 3,
   "metadata": {
    "scrolled": false
   },
   "outputs": [],
   "source": [
    "o = OGame(\n",
    "    universe=\"Ymir\",\n",
    "#     universe='Volans',\n",
    "    username=\"samchakerian@gmail.com\",\n",
    "    password=\"$R3e@W1q1q\"\n",
    ")"
   ]
  },
  {
   "cell_type": "code",
   "execution_count": null,
   "metadata": {},
   "outputs": [],
   "source": [
    "# # time \n",
    "# sp = 5\n",
    "# mm = 3\n",
    "# cm = 3\n",
    "# dm = 15"
   ]
  },
  {
   "cell_type": "code",
   "execution_count": null,
   "metadata": {},
   "outputs": [],
   "source": [
    "# income\n",
    "# mm1 : +504\n",
    "# mm2: ???\n",
    "# mm3: +969\n",
    "# cm : +120\n",
    "# cm2: +414"
   ]
  },
  {
   "cell_type": "code",
   "execution_count": null,
   "metadata": {},
   "outputs": [],
   "source": [
    "# make class with starting res, build times, income\n",
    "\n",
    "# should initiate building, unless you need to wait for resources\n",
    "\n",
    "# in that case, should calculate wait time\n",
    "\n"
   ]
  },
  {
   "cell_type": "code",
   "execution_count": 4,
   "metadata": {},
   "outputs": [],
   "source": [
    "# id = o.planet_ids()[0]\n",
    "# o.build(constants.buildings.solar_plant, id)\n",
    "# time.sleep(sp)\n",
    "# o.build(constants.buildings.metal_mine, id)\n",
    "# time.sleep(mm)\n",
    "# o.build(constants.buildings.metal_mine, id)\n",
    "# time.sleep(mm*2)\n",
    "# o.build(constants.buildings.solar_plant, id)\n",
    "# time.sleep(sp*2)\n",
    "# o.build(constants.buildings.metal_mine, id)\n",
    "# time.sleep(mm*3)\n",
    "# o.build(constants.buildings.metal_mine, id)\n",
    "# time.sleep(mm*4)\n",
    "# o.build(constants.buildings.solar_plant, id)\n",
    "# time.sleep(sp*3)\n",
    "# o.build(constants.buildings.crystal_mine, id)\n",
    "# time.sleep(cm)\n",
    "# o.build(constants.buildings.solar_plant, id)\n",
    "# time.sleep(sp*4)\n",
    "# o.build(constants.buildings.metal_mine, id)\n",
    "# time.sleep(mm*5)\n",
    "# o.build(constants.buildings.crystal_mine, id)\n",
    "# time.sleep(cm*2)\n",
    "# o.build(constants.buildings.crystal_mine, id)\n",
    "# time.sleep(cm*3)\n",
    "# o.build(constants.buildings.solar_plant, id)\n",
    "# time.sleep(sp*5)\n",
    "# o.build(constants.buildings.deuterium_mine, id)\n",
    "# time.sleep(dm)"
   ]
  },
  {
   "cell_type": "code",
   "execution_count": null,
   "metadata": {},
   "outputs": [],
   "source": [
    "# # https://ogame.fandom.com/wiki/Quick_Start_Guide\n",
    "\n",
    "# Step // Building/Tech // Building Tech Level // notes // (Sam time)\n",
    "\n",
    "# 1 // Solar Plant // 1 // 5s\n",
    "# 2 // Metal mine // 1 // 3s\n",
    "# 3 // Metal Mine // 2 // \n",
    "# 4 // Solar Plant // 2 // \n",
    "# 5 // Metal Mine // 3 // +8 Energy\n",
    "# 6 // Metal Mine // 4 // - 11 Energy but improvement in production\n",
    "# 7 // Solar Plant // 3\n",
    "# 8 // Crystal Mine // 1 // +9 energy. Do not upgrade. Stick to the guide\n",
    "# 9 // Solar Plant // 4\n",
    "# 10 // Metal Mine // 5 // You can also switch steps 10 and 11 if you're doing the tutorial to get free rss\n",
    "# 11 // Crystal Mine // 2 // +11 energy\n",
    "# 12 // Crystal Mine // 3 // -4 energy but do upgrade because improvement in production. \n",
    "# Metal prod decreases with 9 metal/h no biggy\n",
    "# 13 // Solar Plant // 5 // Make sure to build this as soon as you can to reduce unnecessary production loss\n",
    "\n",
    "# 14 // Deuterium Synthesizer // 1 // Energy +18\n",
    "\n",
    "# 15 // Crystal Mine // 4 // Energy -1 Upgrade in production so build it.\n",
    "\n",
    "# 16 // Solar Plant // 6\n",
    "\n",
    "# 17 // Metal Mine // 6\n",
    "\n",
    "# 18 // Metal Mine // 7 // -6 but improvement (produce at 90%)\n",
    "\n",
    "# 19 // Solar Plant // 7 // put Metal Mine back to 100% after done\n",
    "\n",
    "# 20 // Crystal Mine // 5\n",
    "\n",
    "# 21 // Deuterium Synthesizer // 2\n",
    "\n",
    "# 22 // Solar Plant // 8\n",
    "\n",
    "# 23 // Deuterium Synthesizer // 3\n",
    "\n",
    "# 24 // Deuterium Synthesizer // 4\n",
    "\n",
    "# 25 // Solar Plant // 9\n",
    "\n",
    "# 26 // Deuterium Synthesizer // 5\n",
    "\n",
    "# 27 // Robotics Factory // 1 // Robo 1 is the first building that costs deuterium. \n",
    "# Continue with the list in the given order as much as you can. If you dont have deuterium left, \n",
    "# then just continue with non deuterium costing buildings.\n",
    "\n",
    "# 28 // Robotics Factory // 2\n",
    "\n",
    "# 29 // Research Lab // 1\n",
    "\n",
    "# 30 // Shipyard // 1\n",
    "\n",
    "# 31 // Crystal Mine // 6\n",
    "\n",
    "# 32 // Shipyard // 2\n",
    "\n",
    "# 33 // Solar Plant // 10\n",
    "\n",
    "# 34 // Deuterium Synthesizer // 6\n",
    "\n",
    "# 35 // Metal Mine // 8\n",
    "\n",
    "# 36 // Energy Research // 1\n",
    "\n",
    "# 37 // Combustion Drive // 1 // If you have enough resources\n",
    "\n",
    "# 38 // Solar Plant // 11 // Whenever you can research combustion drive 2, research it.\n",
    "\n",
    "# 39 // Crystal Mine // 7 // Whenever you can build Shipyard 3, build it\n",
    "\n",
    "# 40 // Metal Mine // 9\n",
    "\n"
   ]
  },
  {
   "cell_type": "code",
   "execution_count": 5,
   "metadata": {},
   "outputs": [],
   "source": [
    "id = o.planet_ids()[0]\n",
    "supply = o.supply(id)\n",
    "res = o.resources(id)"
   ]
  },
  {
   "cell_type": "code",
   "execution_count": 6,
   "metadata": {},
   "outputs": [
    {
     "data": {
      "text/plain": [
       "{'sp': False, 'mm': False, 'cm': False, 'dm': False}"
      ]
     },
     "execution_count": 6,
     "metadata": {},
     "output_type": "execute_result"
    }
   ],
   "source": [
    "# check bldg construction\n",
    "{\n",
    "    'sp': supply.solar_plant.in_construction,\n",
    "    'mm': supply.metal_mine.in_construction,\n",
    "    'cm': supply.crystal_mine.in_construction,\n",
    "    'dm': supply.deuterium_mine.in_construction\n",
    "}"
   ]
  },
  {
   "cell_type": "code",
   "execution_count": 7,
   "metadata": {},
   "outputs": [
    {
     "data": {
      "text/plain": [
       "{'sp': True, 'mm': True, 'cm': True, 'dm': True}"
      ]
     },
     "execution_count": 7,
     "metadata": {},
     "output_type": "execute_result"
    }
   ],
   "source": [
    "# is possible\n",
    "{\n",
    "    'sp': supply.solar_plant.is_possible,\n",
    "    'mm': supply.metal_mine.is_possible,\n",
    "    'cm': supply.crystal_mine.is_possible,\n",
    "    'dm': supply.deuterium_mine.is_possible\n",
    "}"
   ]
  },
  {
   "cell_type": "code",
   "execution_count": 8,
   "metadata": {},
   "outputs": [
    {
     "data": {
      "text/plain": [
       "{'sp': 418, 'mm': 53440, 'cm': 40000, 'dm': 33154}"
      ]
     },
     "execution_count": 8,
     "metadata": {},
     "output_type": "execute_result"
    }
   ],
   "source": [
    "# check resources\n",
    "{\n",
    "    'sp': res.energy,\n",
    "    'mm': res.metal,\n",
    "    'cm': res.crystal,\n",
    "    'dm': res.deuterium\n",
    "}"
   ]
  },
  {
   "cell_type": "code",
   "execution_count": 9,
   "metadata": {},
   "outputs": [
    {
     "data": {
      "text/plain": [
       "{'sp': 14, 'mm': 10, 'cm': 8, 'dm': 8}"
      ]
     },
     "execution_count": 9,
     "metadata": {},
     "output_type": "execute_result"
    }
   ],
   "source": [
    "# check levels\n",
    "{\n",
    "    'sp': supply.solar_plant.level,\n",
    "    'mm': supply.metal_mine.level,\n",
    "    'cm': supply.crystal_mine.level,\n",
    "    'dm': supply.deuterium_mine.level\n",
    "}"
   ]
  },
  {
   "cell_type": "code",
   "execution_count": null,
   "metadata": {},
   "outputs": [],
   "source": [
    "# o.is_logged_in()\n",
    "\n",
    "# o.relogin()\n",
    "\n",
    "# o.logout()"
   ]
  },
  {
   "cell_type": "code",
   "execution_count": null,
   "metadata": {},
   "outputs": [],
   "source": [
    "# # keep_going decorator\n",
    "# @empire.keep_going\n",
    "# def run():\n",
    "#     while True:\n",
    "#         print(empire.attacked())\n",
    "#         time.sleep(1)"
   ]
  },
  {
   "cell_type": "code",
   "execution_count": null,
   "metadata": {},
   "outputs": [],
   "source": [
    "# attack inactives\n",
    "\n",
    "# # Send a Spyprobe to a random Player\n",
    "# send_fleet = False\n",
    "# while not send_fleet:\n",
    "#     for planet in empire.galaxy(coordinates(randint(1,6), randint(1, 499))):\n",
    "#         if empire.send_fleet(mission.spy, id, planet.position, [ships.espionage_probe(1)]):\n",
    "#             send_fleet = True\n",
    "#             break\n",
    "\n",
    "# # Wait till Spyprobe arrives\n",
    "# for fleet in empire.fleet():\n",
    "#     if fleet.mission == mission.spy:\n",
    "#         while datetime.now() < fleet.arrival:\n",
    "#             continue\n",
    "\n",
    "# # Print out Spyreport\n",
    "# for spyreport in o.spyreports():\n",
    "#     print(spyreport.list)\n",
    "\n",
    "# for planet in empire.galaxy(coordinates(1, 1)):\n",
    "#     if status.inactive in planet.status and status.vacation not in planet.status:\n",
    "#         empire.send_fleet(mission=mission.attack,\n",
    "#                           id=empire.id_by_planet_name('MAIN_PLANET'),\n",
    "#                           where=coordinates(1, 1, planet.position),\n",
    "#                           ships=[ships.large_transporter(25), ships.cruiser(1)])"
   ]
  },
  {
   "cell_type": "code",
   "execution_count": null,
   "metadata": {},
   "outputs": [],
   "source": [
    "o.planet_ids()[0]"
   ]
  },
  {
   "cell_type": "code",
   "execution_count": null,
   "metadata": {},
   "outputs": [],
   "source": [
    "o.celestial_coordinates(33624031)"
   ]
  },
  {
   "cell_type": "code",
   "execution_count": 34,
   "metadata": {
    "scrolled": false
   },
   "outputs": [
    {
     "name": "stdout",
     "output_type": "stream",
     "text": [
      "441 ['inactive'] Homeworld 1453\n",
      "444 ['inactive'] Homeworld 1431\n",
      "444 ['inactive'] Howak 1116\n",
      "445 ['inactive'] Homeworld 1345\n",
      "445 ['inactive'] Homeworld 1132\n",
      "448 ['inactive'] Homeworld 1570\n",
      "449 ['inactive'] Homeworld 1627\n",
      "450 ['inactive'] Beer 560\n",
      "451 ['inactive'] Homeworld 1522\n",
      "451 ['inactive'] Homeworld 1523\n",
      "452 ['inactive'] Homeworld 1255\n",
      "453 ['inactive'] Homeworld 1103\n"
     ]
    }
   ],
   "source": [
    "# for planet in o.galaxy(constants.coordinates(1, 447)):\n",
    "#     print(planet.status)\n",
    "    \n",
    "for galaxy in range(441, 455):\n",
    "    for planet in o.galaxy(constants.coordinates(1, galaxy)):\n",
    "        # print(galaxy, planet.status, planet.name, planet.rank)\n",
    "        if 'inactive' in planet.status and 'vacation' not in planet.status:\n",
    "            print(galaxy, planet.status, planet.name, planet.rank)\n",
    "            o.send_fleet(\n",
    "                constants.mission.spy, \n",
    "                o.planet_ids()[0], \n",
    "                planet.position, \n",
    "                [constants.ships.espionage_probe(1)]\n",
    "            )"
   ]
  },
  {
   "cell_type": "code",
   "execution_count": 21,
   "metadata": {},
   "outputs": [],
   "source": [
    "response = o.session.get(o.index_php + 'page=ingame&component=fleetdispatch&cp={}'.format(33624031))"
   ]
  },
  {
   "cell_type": "code",
   "execution_count": 35,
   "metadata": {
    "scrolled": true
   },
   "outputs": [],
   "source": [
    "# response.text"
   ]
  },
  {
   "cell_type": "code",
   "execution_count": 13,
   "metadata": {},
   "outputs": [],
   "source": [
    "import re"
   ]
  },
  {
   "cell_type": "code",
   "execution_count": 23,
   "metadata": {},
   "outputs": [],
   "source": [
    "send_fleet_token = re.search(\n",
    "    # 'var fleetSendingToken = \"(.*)\"',\n",
    "    'var token = \"(.*)\"',\n",
    "    response.text\n",
    ").group(1)\n",
    "form_data = {'token': send_fleet_token}"
   ]
  },
  {
   "cell_type": "code",
   "execution_count": 24,
   "metadata": {},
   "outputs": [
    {
     "data": {
      "text/plain": [
       "{'token': 'b13bf8f7e593865de07d7e057f8b8e3c'}"
      ]
     },
     "execution_count": 24,
     "metadata": {},
     "output_type": "execute_result"
    }
   ],
   "source": [
    "form_data"
   ]
  },
  {
   "cell_type": "code",
   "execution_count": 25,
   "metadata": {},
   "outputs": [],
   "source": [
    "ships = [constants.ships.espionage_probe(1)]"
   ]
  },
  {
   "cell_type": "code",
   "execution_count": 26,
   "metadata": {},
   "outputs": [],
   "source": [
    "send_fleet_token = 'b13bf8f7e593865de07d7e057f8b8e3c' # from inspect\n",
    "\n",
    "where = [1, 440, 8, 1]\n",
    "resources = (0, 0, 0)\n",
    "mission = constants.mission.spy\n",
    "speed = 10\n",
    "holdingtime = 0\n",
    "\n",
    "form_data = {'token': send_fleet_token}\n",
    "\n",
    "for ship in ships:\n",
    "    ship_type = 'am{}'.format(ship[0])\n",
    "    form_data.update({ship_type: ship[1]})\n",
    "\n",
    "form_data.update(\n",
    "    {\n",
    "        'galaxy': where[0],\n",
    "        'system': where[1],\n",
    "        'position': where[2],\n",
    "        'type': where[3],\n",
    "        'metal': resources[0],\n",
    "        'crystal': resources[1],\n",
    "        'deuterium': resources[2],\n",
    "        'prioMetal': 1,\n",
    "        'prioCrystal': 2,\n",
    "        'prioDeuterium': 3,\n",
    "        'mission': mission,\n",
    "        'speed': speed,\n",
    "        'retreatAfterDefenderRetreat': 0,\n",
    "        'union': 0,\n",
    "        'holdingtime': holdingtime\n",
    "    }\n",
    ")\n",
    "\n",
    "# response = self.session.post(\n",
    "#     url=self.index_php + 'page=ingame&component=fleetdispatch'\n",
    "#         '&action=sendFleet&ajax=1&asJson=1',\n",
    "#     data=form_data,\n",
    "#     headers={'X-Requested-With': 'XMLHttpRequest'}\n",
    "# ).json()\n",
    "# return response['success']"
   ]
  },
  {
   "cell_type": "code",
   "execution_count": 27,
   "metadata": {},
   "outputs": [
    {
     "data": {
      "text/plain": [
       "{'token': 'b13bf8f7e593865de07d7e057f8b8e3c',\n",
       " 'am210': 1,\n",
       " 'galaxy': 1,\n",
       " 'system': 440,\n",
       " 'position': 8,\n",
       " 'type': 1,\n",
       " 'metal': 0,\n",
       " 'crystal': 0,\n",
       " 'deuterium': 0,\n",
       " 'prioMetal': 1,\n",
       " 'prioCrystal': 2,\n",
       " 'prioDeuterium': 3,\n",
       " 'mission': 6,\n",
       " 'speed': 10,\n",
       " 'retreatAfterDefenderRetreat': 0,\n",
       " 'union': 0,\n",
       " 'holdingtime': 0}"
      ]
     },
     "execution_count": 27,
     "metadata": {},
     "output_type": "execute_result"
    }
   ],
   "source": [
    "form_data"
   ]
  },
  {
   "cell_type": "code",
   "execution_count": 28,
   "metadata": {
    "scrolled": false
   },
   "outputs": [],
   "source": [
    "response = o.session.post(\n",
    "    url=o.index_php + 'page=ingame&component=fleetdispatch&action=sendFleet&ajax=1&asJson=1',\n",
    "    data=form_data,\n",
    "    headers={'X-Requested-With': 'XMLHttpRequest'}\n",
    ")"
   ]
  },
  {
   "cell_type": "code",
   "execution_count": 29,
   "metadata": {},
   "outputs": [
    {
     "data": {
      "text/plain": [
       "{'success': True,\n",
       " 'message': 'Your fleet has been successfully sent.',\n",
       " 'token': 'eecf50d9b80a35931be4e609e138251e',\n",
       " 'redirectUrl': 'https://s177-en.ogame.gameforge.com/game/index.php?page=ingame&component=fleetdispatch',\n",
       " 'components': [],\n",
       " 'newAjaxToken': 'eecf50d9b80a35931be4e609e138251e'}"
      ]
     },
     "execution_count": 29,
     "metadata": {},
     "output_type": "execute_result"
    }
   ],
   "source": [
    "response.json()"
   ]
  },
  {
   "cell_type": "code",
   "execution_count": 30,
   "metadata": {},
   "outputs": [],
   "source": [
    "# id = o.planet_ids()[0]"
   ]
  },
  {
   "cell_type": "code",
   "execution_count": 31,
   "metadata": {},
   "outputs": [],
   "source": [
    "# from ogame.constants import coordinates, mission, speed, fleet"
   ]
  },
  {
   "cell_type": "code",
   "execution_count": 32,
   "metadata": {},
   "outputs": [],
   "source": [
    "# fleet"
   ]
  },
  {
   "cell_type": "code",
   "execution_count": 33,
   "metadata": {},
   "outputs": [],
   "source": [
    "# # from ogame.constants import coordinates, mission, speed, fleet\n",
    "# o.send_fleet(mission=mission.expedition,\n",
    "#                   id=id,\n",
    "#                   where=coordinates(1, 440, 8),\n",
    "#                   ships=fleet(espionage_probe=1),\n",
    "#                   resources=[0, 0, 0],  # optional default no resources\n",
    "#                   speed=speed.max,      # optional default speed.max\n",
    "#                   holdingtime=2)        # optional default 0 will be needed by expeditions"
   ]
  },
  {
   "cell_type": "code",
   "execution_count": 36,
   "metadata": {},
   "outputs": [
    {
     "data": {
      "text/plain": [
       "[('defense401', '4'),\n",
       " ('building1', '5'),\n",
       " ('building22', '2'),\n",
       " ('building2', '5'),\n",
       " ('building23', '2'),\n",
       " ('building3', '5'),\n",
       " ('building24', '1'),\n",
       " ('building4', '7'),\n",
       " ('building14', '3'),\n",
       " ('building21', '1'),\n",
       " ('building31', '3'),\n",
       " ('research113', '1'),\n",
       " ('research115', '1')]"
      ]
     },
     "execution_count": 36,
     "metadata": {},
     "output_type": "execute_result"
    }
   ],
   "source": [
    "# o.spyreports()\n",
    "o.spyreports()[0].fright"
   ]
  },
  {
   "cell_type": "code",
   "execution_count": 41,
   "metadata": {},
   "outputs": [],
   "source": [
    "from bs4 import BeautifulSoup\n",
    "\n",
    "def BeautifulSoup4(response):\n",
    "    parsed = BeautifulSoup(response, features=\"html5lib\")\n",
    "\n",
    "    def find_partial(**kwargs):\n",
    "        for key, value in kwargs.items():\n",
    "            kwargs[key] = re.compile(value)\n",
    "        return parsed.find(**kwargs)\n",
    "\n",
    "    def find_all_partial(**kwargs):\n",
    "        for key, value in kwargs.items():\n",
    "            kwargs[key] = re.compile(value)\n",
    "        return parsed.find_all(**kwargs)\n",
    "\n",
    "    parsed.find_partial = find_partial\n",
    "    parsed.find_all_partial = find_all_partial\n",
    "    return parsed"
   ]
  },
  {
   "cell_type": "code",
   "execution_count": 40,
   "metadata": {},
   "outputs": [
    {
     "data": {
      "text/plain": [
       "[33624031]"
      ]
     },
     "execution_count": 40,
     "metadata": {},
     "output_type": "execute_result"
    }
   ],
   "source": [
    "o.planet_ids()"
   ]
  },
  {
   "cell_type": "code",
   "execution_count": 42,
   "metadata": {},
   "outputs": [],
   "source": [
    "response = o.session.get(\n",
    "    url=o.index_php,\n",
    "    params={'page': 'messages',\n",
    "            'tab': 20,\n",
    "            'ajax': 1}\n",
    ").text\n",
    "bs4 = BeautifulSoup4(response)\n",
    "report_links = [\n",
    "    link['href']\n",
    "    for link in bs4.find_all_partial(href='page=messages&messageId')\n",
    "]"
   ]
  },
  {
   "cell_type": "code",
   "execution_count": 43,
   "metadata": {},
   "outputs": [
    {
     "data": {
      "text/plain": [
       "['https://s177-en.ogame.gameforge.com/game/index.php?page=messages&messageId=989723&tabid=20&ajax=1',\n",
       " 'https://s177-en.ogame.gameforge.com/game/index.php?page=messages&messageId=989715&tabid=20&ajax=1',\n",
       " 'https://s177-en.ogame.gameforge.com/game/index.php?page=messages&messageId=989712&tabid=20&ajax=1',\n",
       " 'https://s177-en.ogame.gameforge.com/game/index.php?page=messages&messageId=989705&tabid=20&ajax=1',\n",
       " 'https://s177-en.ogame.gameforge.com/game/index.php?page=messages&messageId=989698&tabid=20&ajax=1',\n",
       " 'https://s177-en.ogame.gameforge.com/game/index.php?page=messages&messageId=989696&tabid=20&ajax=1',\n",
       " 'https://s177-en.ogame.gameforge.com/game/index.php?page=messages&messageId=989694&tabid=20&ajax=1',\n",
       " 'https://s177-en.ogame.gameforge.com/game/index.php?page=messages&messageId=989686&tabid=20&ajax=1',\n",
       " 'https://s177-en.ogame.gameforge.com/game/index.php?page=messages&messageId=989680&tabid=20&ajax=1',\n",
       " 'https://s177-en.ogame.gameforge.com/game/index.php?page=messages&messageId=989676&tabid=20&ajax=1']"
      ]
     },
     "execution_count": 43,
     "metadata": {},
     "output_type": "execute_result"
    }
   ],
   "source": [
    "report_links"
   ]
  },
  {
   "cell_type": "code",
   "execution_count": 44,
   "metadata": {},
   "outputs": [
    {
     "ename": "ConnectionError",
     "evalue": "HTTPSConnectionPool(host='s177-en.ogame.gameforge.com', port=443): Max retries exceeded with url: /game/index.php?page=messages&messageId=989712&tabid=20&ajax=1 (Caused by NewConnectionError('<urllib3.connection.VerifiedHTTPSConnection object at 0x0000023E300729C8>: Failed to establish a new connection: [WinError 10060] A connection attempt failed because the connected party did not properly respond after a period of time, or established connection failed because connected host has failed to respond'))",
     "output_type": "error",
     "traceback": [
      "\u001b[1;31m---------------------------------------------------------------------------\u001b[0m",
      "\u001b[1;31mTimeoutError\u001b[0m                              Traceback (most recent call last)",
      "\u001b[1;32mC:\\ProgramData\\Anaconda3\\lib\\site-packages\\urllib3\\connection.py\u001b[0m in \u001b[0;36m_new_conn\u001b[1;34m(self)\u001b[0m\n\u001b[0;32m    156\u001b[0m             conn = connection.create_connection(\n\u001b[1;32m--> 157\u001b[1;33m                 \u001b[1;33m(\u001b[0m\u001b[0mself\u001b[0m\u001b[1;33m.\u001b[0m\u001b[0m_dns_host\u001b[0m\u001b[1;33m,\u001b[0m \u001b[0mself\u001b[0m\u001b[1;33m.\u001b[0m\u001b[0mport\u001b[0m\u001b[1;33m)\u001b[0m\u001b[1;33m,\u001b[0m \u001b[0mself\u001b[0m\u001b[1;33m.\u001b[0m\u001b[0mtimeout\u001b[0m\u001b[1;33m,\u001b[0m \u001b[1;33m**\u001b[0m\u001b[0mextra_kw\u001b[0m\u001b[1;33m\u001b[0m\u001b[1;33m\u001b[0m\u001b[0m\n\u001b[0m\u001b[0;32m    158\u001b[0m             )\n",
      "\u001b[1;32mC:\\ProgramData\\Anaconda3\\lib\\site-packages\\urllib3\\util\\connection.py\u001b[0m in \u001b[0;36mcreate_connection\u001b[1;34m(address, timeout, source_address, socket_options)\u001b[0m\n\u001b[0;32m     83\u001b[0m     \u001b[1;32mif\u001b[0m \u001b[0merr\u001b[0m \u001b[1;32mis\u001b[0m \u001b[1;32mnot\u001b[0m \u001b[1;32mNone\u001b[0m\u001b[1;33m:\u001b[0m\u001b[1;33m\u001b[0m\u001b[1;33m\u001b[0m\u001b[0m\n\u001b[1;32m---> 84\u001b[1;33m         \u001b[1;32mraise\u001b[0m \u001b[0merr\u001b[0m\u001b[1;33m\u001b[0m\u001b[1;33m\u001b[0m\u001b[0m\n\u001b[0m\u001b[0;32m     85\u001b[0m \u001b[1;33m\u001b[0m\u001b[0m\n",
      "\u001b[1;32mC:\\ProgramData\\Anaconda3\\lib\\site-packages\\urllib3\\util\\connection.py\u001b[0m in \u001b[0;36mcreate_connection\u001b[1;34m(address, timeout, source_address, socket_options)\u001b[0m\n\u001b[0;32m     73\u001b[0m                 \u001b[0msock\u001b[0m\u001b[1;33m.\u001b[0m\u001b[0mbind\u001b[0m\u001b[1;33m(\u001b[0m\u001b[0msource_address\u001b[0m\u001b[1;33m)\u001b[0m\u001b[1;33m\u001b[0m\u001b[1;33m\u001b[0m\u001b[0m\n\u001b[1;32m---> 74\u001b[1;33m             \u001b[0msock\u001b[0m\u001b[1;33m.\u001b[0m\u001b[0mconnect\u001b[0m\u001b[1;33m(\u001b[0m\u001b[0msa\u001b[0m\u001b[1;33m)\u001b[0m\u001b[1;33m\u001b[0m\u001b[1;33m\u001b[0m\u001b[0m\n\u001b[0m\u001b[0;32m     75\u001b[0m             \u001b[1;32mreturn\u001b[0m \u001b[0msock\u001b[0m\u001b[1;33m\u001b[0m\u001b[1;33m\u001b[0m\u001b[0m\n",
      "\u001b[1;31mTimeoutError\u001b[0m: [WinError 10060] A connection attempt failed because the connected party did not properly respond after a period of time, or established connection failed because connected host has failed to respond",
      "\nDuring handling of the above exception, another exception occurred:\n",
      "\u001b[1;31mNewConnectionError\u001b[0m                        Traceback (most recent call last)",
      "\u001b[1;32mC:\\ProgramData\\Anaconda3\\lib\\site-packages\\urllib3\\connectionpool.py\u001b[0m in \u001b[0;36murlopen\u001b[1;34m(self, method, url, body, headers, retries, redirect, assert_same_host, timeout, pool_timeout, release_conn, chunked, body_pos, **response_kw)\u001b[0m\n\u001b[0;32m    671\u001b[0m                 \u001b[0mheaders\u001b[0m\u001b[1;33m=\u001b[0m\u001b[0mheaders\u001b[0m\u001b[1;33m,\u001b[0m\u001b[1;33m\u001b[0m\u001b[1;33m\u001b[0m\u001b[0m\n\u001b[1;32m--> 672\u001b[1;33m                 \u001b[0mchunked\u001b[0m\u001b[1;33m=\u001b[0m\u001b[0mchunked\u001b[0m\u001b[1;33m,\u001b[0m\u001b[1;33m\u001b[0m\u001b[1;33m\u001b[0m\u001b[0m\n\u001b[0m\u001b[0;32m    673\u001b[0m             )\n",
      "\u001b[1;32mC:\\ProgramData\\Anaconda3\\lib\\site-packages\\urllib3\\connectionpool.py\u001b[0m in \u001b[0;36m_make_request\u001b[1;34m(self, conn, method, url, timeout, chunked, **httplib_request_kw)\u001b[0m\n\u001b[0;32m    375\u001b[0m         \u001b[1;32mtry\u001b[0m\u001b[1;33m:\u001b[0m\u001b[1;33m\u001b[0m\u001b[1;33m\u001b[0m\u001b[0m\n\u001b[1;32m--> 376\u001b[1;33m             \u001b[0mself\u001b[0m\u001b[1;33m.\u001b[0m\u001b[0m_validate_conn\u001b[0m\u001b[1;33m(\u001b[0m\u001b[0mconn\u001b[0m\u001b[1;33m)\u001b[0m\u001b[1;33m\u001b[0m\u001b[1;33m\u001b[0m\u001b[0m\n\u001b[0m\u001b[0;32m    377\u001b[0m         \u001b[1;32mexcept\u001b[0m \u001b[1;33m(\u001b[0m\u001b[0mSocketTimeout\u001b[0m\u001b[1;33m,\u001b[0m \u001b[0mBaseSSLError\u001b[0m\u001b[1;33m)\u001b[0m \u001b[1;32mas\u001b[0m \u001b[0me\u001b[0m\u001b[1;33m:\u001b[0m\u001b[1;33m\u001b[0m\u001b[1;33m\u001b[0m\u001b[0m\n",
      "\u001b[1;32mC:\\ProgramData\\Anaconda3\\lib\\site-packages\\urllib3\\connectionpool.py\u001b[0m in \u001b[0;36m_validate_conn\u001b[1;34m(self, conn)\u001b[0m\n\u001b[0;32m    993\u001b[0m         \u001b[1;32mif\u001b[0m \u001b[1;32mnot\u001b[0m \u001b[0mgetattr\u001b[0m\u001b[1;33m(\u001b[0m\u001b[0mconn\u001b[0m\u001b[1;33m,\u001b[0m \u001b[1;34m\"sock\"\u001b[0m\u001b[1;33m,\u001b[0m \u001b[1;32mNone\u001b[0m\u001b[1;33m)\u001b[0m\u001b[1;33m:\u001b[0m  \u001b[1;31m# AppEngine might not have  `.sock`\u001b[0m\u001b[1;33m\u001b[0m\u001b[1;33m\u001b[0m\u001b[0m\n\u001b[1;32m--> 994\u001b[1;33m             \u001b[0mconn\u001b[0m\u001b[1;33m.\u001b[0m\u001b[0mconnect\u001b[0m\u001b[1;33m(\u001b[0m\u001b[1;33m)\u001b[0m\u001b[1;33m\u001b[0m\u001b[1;33m\u001b[0m\u001b[0m\n\u001b[0m\u001b[0;32m    995\u001b[0m \u001b[1;33m\u001b[0m\u001b[0m\n",
      "\u001b[1;32mC:\\ProgramData\\Anaconda3\\lib\\site-packages\\urllib3\\connection.py\u001b[0m in \u001b[0;36mconnect\u001b[1;34m(self)\u001b[0m\n\u001b[0;32m    299\u001b[0m         \u001b[1;31m# Add certificate verification\u001b[0m\u001b[1;33m\u001b[0m\u001b[1;33m\u001b[0m\u001b[1;33m\u001b[0m\u001b[0m\n\u001b[1;32m--> 300\u001b[1;33m         \u001b[0mconn\u001b[0m \u001b[1;33m=\u001b[0m \u001b[0mself\u001b[0m\u001b[1;33m.\u001b[0m\u001b[0m_new_conn\u001b[0m\u001b[1;33m(\u001b[0m\u001b[1;33m)\u001b[0m\u001b[1;33m\u001b[0m\u001b[1;33m\u001b[0m\u001b[0m\n\u001b[0m\u001b[0;32m    301\u001b[0m         \u001b[0mhostname\u001b[0m \u001b[1;33m=\u001b[0m \u001b[0mself\u001b[0m\u001b[1;33m.\u001b[0m\u001b[0mhost\u001b[0m\u001b[1;33m\u001b[0m\u001b[1;33m\u001b[0m\u001b[0m\n",
      "\u001b[1;32mC:\\ProgramData\\Anaconda3\\lib\\site-packages\\urllib3\\connection.py\u001b[0m in \u001b[0;36m_new_conn\u001b[1;34m(self)\u001b[0m\n\u001b[0;32m    168\u001b[0m             raise NewConnectionError(\n\u001b[1;32m--> 169\u001b[1;33m                 \u001b[0mself\u001b[0m\u001b[1;33m,\u001b[0m \u001b[1;34m\"Failed to establish a new connection: %s\"\u001b[0m \u001b[1;33m%\u001b[0m \u001b[0me\u001b[0m\u001b[1;33m\u001b[0m\u001b[1;33m\u001b[0m\u001b[0m\n\u001b[0m\u001b[0;32m    170\u001b[0m             )\n",
      "\u001b[1;31mNewConnectionError\u001b[0m: <urllib3.connection.VerifiedHTTPSConnection object at 0x0000023E300729C8>: Failed to establish a new connection: [WinError 10060] A connection attempt failed because the connected party did not properly respond after a period of time, or established connection failed because connected host has failed to respond",
      "\nDuring handling of the above exception, another exception occurred:\n",
      "\u001b[1;31mMaxRetryError\u001b[0m                             Traceback (most recent call last)",
      "\u001b[1;32mC:\\ProgramData\\Anaconda3\\lib\\site-packages\\requests\\adapters.py\u001b[0m in \u001b[0;36msend\u001b[1;34m(self, request, stream, timeout, verify, cert, proxies)\u001b[0m\n\u001b[0;32m    448\u001b[0m                     \u001b[0mretries\u001b[0m\u001b[1;33m=\u001b[0m\u001b[0mself\u001b[0m\u001b[1;33m.\u001b[0m\u001b[0mmax_retries\u001b[0m\u001b[1;33m,\u001b[0m\u001b[1;33m\u001b[0m\u001b[1;33m\u001b[0m\u001b[0m\n\u001b[1;32m--> 449\u001b[1;33m                     \u001b[0mtimeout\u001b[0m\u001b[1;33m=\u001b[0m\u001b[0mtimeout\u001b[0m\u001b[1;33m\u001b[0m\u001b[1;33m\u001b[0m\u001b[0m\n\u001b[0m\u001b[0;32m    450\u001b[0m                 )\n",
      "\u001b[1;32mC:\\ProgramData\\Anaconda3\\lib\\site-packages\\urllib3\\connectionpool.py\u001b[0m in \u001b[0;36murlopen\u001b[1;34m(self, method, url, body, headers, retries, redirect, assert_same_host, timeout, pool_timeout, release_conn, chunked, body_pos, **response_kw)\u001b[0m\n\u001b[0;32m    719\u001b[0m             retries = retries.increment(\n\u001b[1;32m--> 720\u001b[1;33m                 \u001b[0mmethod\u001b[0m\u001b[1;33m,\u001b[0m \u001b[0murl\u001b[0m\u001b[1;33m,\u001b[0m \u001b[0merror\u001b[0m\u001b[1;33m=\u001b[0m\u001b[0me\u001b[0m\u001b[1;33m,\u001b[0m \u001b[0m_pool\u001b[0m\u001b[1;33m=\u001b[0m\u001b[0mself\u001b[0m\u001b[1;33m,\u001b[0m \u001b[0m_stacktrace\u001b[0m\u001b[1;33m=\u001b[0m\u001b[0msys\u001b[0m\u001b[1;33m.\u001b[0m\u001b[0mexc_info\u001b[0m\u001b[1;33m(\u001b[0m\u001b[1;33m)\u001b[0m\u001b[1;33m[\u001b[0m\u001b[1;36m2\u001b[0m\u001b[1;33m]\u001b[0m\u001b[1;33m\u001b[0m\u001b[1;33m\u001b[0m\u001b[0m\n\u001b[0m\u001b[0;32m    721\u001b[0m             )\n",
      "\u001b[1;32mC:\\ProgramData\\Anaconda3\\lib\\site-packages\\urllib3\\util\\retry.py\u001b[0m in \u001b[0;36mincrement\u001b[1;34m(self, method, url, response, error, _pool, _stacktrace)\u001b[0m\n\u001b[0;32m    435\u001b[0m         \u001b[1;32mif\u001b[0m \u001b[0mnew_retry\u001b[0m\u001b[1;33m.\u001b[0m\u001b[0mis_exhausted\u001b[0m\u001b[1;33m(\u001b[0m\u001b[1;33m)\u001b[0m\u001b[1;33m:\u001b[0m\u001b[1;33m\u001b[0m\u001b[1;33m\u001b[0m\u001b[0m\n\u001b[1;32m--> 436\u001b[1;33m             \u001b[1;32mraise\u001b[0m \u001b[0mMaxRetryError\u001b[0m\u001b[1;33m(\u001b[0m\u001b[0m_pool\u001b[0m\u001b[1;33m,\u001b[0m \u001b[0murl\u001b[0m\u001b[1;33m,\u001b[0m \u001b[0merror\u001b[0m \u001b[1;32mor\u001b[0m \u001b[0mResponseError\u001b[0m\u001b[1;33m(\u001b[0m\u001b[0mcause\u001b[0m\u001b[1;33m)\u001b[0m\u001b[1;33m)\u001b[0m\u001b[1;33m\u001b[0m\u001b[1;33m\u001b[0m\u001b[0m\n\u001b[0m\u001b[0;32m    437\u001b[0m \u001b[1;33m\u001b[0m\u001b[0m\n",
      "\u001b[1;31mMaxRetryError\u001b[0m: HTTPSConnectionPool(host='s177-en.ogame.gameforge.com', port=443): Max retries exceeded with url: /game/index.php?page=messages&messageId=989712&tabid=20&ajax=1 (Caused by NewConnectionError('<urllib3.connection.VerifiedHTTPSConnection object at 0x0000023E300729C8>: Failed to establish a new connection: [WinError 10060] A connection attempt failed because the connected party did not properly respond after a period of time, or established connection failed because connected host has failed to respond'))",
      "\nDuring handling of the above exception, another exception occurred:\n",
      "\u001b[1;31mConnectionError\u001b[0m                           Traceback (most recent call last)",
      "\u001b[1;32m<ipython-input-44-b6b0b8cc8bc9>\u001b[0m in \u001b[0;36m<module>\u001b[1;34m\u001b[0m\n\u001b[0;32m      3\u001b[0m \u001b[0mreports\u001b[0m \u001b[1;33m=\u001b[0m \u001b[1;33m[\u001b[0m\u001b[1;33m]\u001b[0m\u001b[1;33m\u001b[0m\u001b[1;33m\u001b[0m\u001b[0m\n\u001b[0;32m      4\u001b[0m \u001b[1;32mfor\u001b[0m \u001b[0mlink\u001b[0m \u001b[1;32min\u001b[0m \u001b[0mreport_links\u001b[0m\u001b[1;33m:\u001b[0m\u001b[1;33m\u001b[0m\u001b[1;33m\u001b[0m\u001b[0m\n\u001b[1;32m----> 5\u001b[1;33m     \u001b[0mresponse\u001b[0m \u001b[1;33m=\u001b[0m \u001b[0mo\u001b[0m\u001b[1;33m.\u001b[0m\u001b[0msession\u001b[0m\u001b[1;33m.\u001b[0m\u001b[0mget\u001b[0m\u001b[1;33m(\u001b[0m\u001b[0mlink\u001b[0m\u001b[1;33m)\u001b[0m\u001b[1;33m.\u001b[0m\u001b[0mtext\u001b[0m\u001b[1;33m\u001b[0m\u001b[1;33m\u001b[0m\u001b[0m\n\u001b[0m\u001b[0;32m      6\u001b[0m     \u001b[0mbs4\u001b[0m \u001b[1;33m=\u001b[0m \u001b[0mBeautifulSoup4\u001b[0m\u001b[1;33m(\u001b[0m\u001b[0mresponse\u001b[0m\u001b[1;33m)\u001b[0m\u001b[1;33m\u001b[0m\u001b[1;33m\u001b[0m\u001b[0m\n\u001b[0;32m      7\u001b[0m \u001b[1;31m#     technologys = [tech['class'][0] for tech in bs4.find_all('img')]\u001b[0m\u001b[1;33m\u001b[0m\u001b[1;33m\u001b[0m\u001b[1;33m\u001b[0m\u001b[0m\n",
      "\u001b[1;32mC:\\ProgramData\\Anaconda3\\lib\\site-packages\\requests\\sessions.py\u001b[0m in \u001b[0;36mget\u001b[1;34m(self, url, **kwargs)\u001b[0m\n\u001b[0;32m    544\u001b[0m \u001b[1;33m\u001b[0m\u001b[0m\n\u001b[0;32m    545\u001b[0m         \u001b[0mkwargs\u001b[0m\u001b[1;33m.\u001b[0m\u001b[0msetdefault\u001b[0m\u001b[1;33m(\u001b[0m\u001b[1;34m'allow_redirects'\u001b[0m\u001b[1;33m,\u001b[0m \u001b[1;32mTrue\u001b[0m\u001b[1;33m)\u001b[0m\u001b[1;33m\u001b[0m\u001b[1;33m\u001b[0m\u001b[0m\n\u001b[1;32m--> 546\u001b[1;33m         \u001b[1;32mreturn\u001b[0m \u001b[0mself\u001b[0m\u001b[1;33m.\u001b[0m\u001b[0mrequest\u001b[0m\u001b[1;33m(\u001b[0m\u001b[1;34m'GET'\u001b[0m\u001b[1;33m,\u001b[0m \u001b[0murl\u001b[0m\u001b[1;33m,\u001b[0m \u001b[1;33m**\u001b[0m\u001b[0mkwargs\u001b[0m\u001b[1;33m)\u001b[0m\u001b[1;33m\u001b[0m\u001b[1;33m\u001b[0m\u001b[0m\n\u001b[0m\u001b[0;32m    547\u001b[0m \u001b[1;33m\u001b[0m\u001b[0m\n\u001b[0;32m    548\u001b[0m     \u001b[1;32mdef\u001b[0m \u001b[0moptions\u001b[0m\u001b[1;33m(\u001b[0m\u001b[0mself\u001b[0m\u001b[1;33m,\u001b[0m \u001b[0murl\u001b[0m\u001b[1;33m,\u001b[0m \u001b[1;33m**\u001b[0m\u001b[0mkwargs\u001b[0m\u001b[1;33m)\u001b[0m\u001b[1;33m:\u001b[0m\u001b[1;33m\u001b[0m\u001b[1;33m\u001b[0m\u001b[0m\n",
      "\u001b[1;32mC:\\ProgramData\\Anaconda3\\lib\\site-packages\\requests\\sessions.py\u001b[0m in \u001b[0;36mrequest\u001b[1;34m(self, method, url, params, data, headers, cookies, files, auth, timeout, allow_redirects, proxies, hooks, stream, verify, cert, json)\u001b[0m\n\u001b[0;32m    531\u001b[0m         }\n\u001b[0;32m    532\u001b[0m         \u001b[0msend_kwargs\u001b[0m\u001b[1;33m.\u001b[0m\u001b[0mupdate\u001b[0m\u001b[1;33m(\u001b[0m\u001b[0msettings\u001b[0m\u001b[1;33m)\u001b[0m\u001b[1;33m\u001b[0m\u001b[1;33m\u001b[0m\u001b[0m\n\u001b[1;32m--> 533\u001b[1;33m         \u001b[0mresp\u001b[0m \u001b[1;33m=\u001b[0m \u001b[0mself\u001b[0m\u001b[1;33m.\u001b[0m\u001b[0msend\u001b[0m\u001b[1;33m(\u001b[0m\u001b[0mprep\u001b[0m\u001b[1;33m,\u001b[0m \u001b[1;33m**\u001b[0m\u001b[0msend_kwargs\u001b[0m\u001b[1;33m)\u001b[0m\u001b[1;33m\u001b[0m\u001b[1;33m\u001b[0m\u001b[0m\n\u001b[0m\u001b[0;32m    534\u001b[0m \u001b[1;33m\u001b[0m\u001b[0m\n\u001b[0;32m    535\u001b[0m         \u001b[1;32mreturn\u001b[0m \u001b[0mresp\u001b[0m\u001b[1;33m\u001b[0m\u001b[1;33m\u001b[0m\u001b[0m\n",
      "\u001b[1;32mC:\\ProgramData\\Anaconda3\\lib\\site-packages\\requests\\sessions.py\u001b[0m in \u001b[0;36msend\u001b[1;34m(self, request, **kwargs)\u001b[0m\n\u001b[0;32m    644\u001b[0m \u001b[1;33m\u001b[0m\u001b[0m\n\u001b[0;32m    645\u001b[0m         \u001b[1;31m# Send the request\u001b[0m\u001b[1;33m\u001b[0m\u001b[1;33m\u001b[0m\u001b[1;33m\u001b[0m\u001b[0m\n\u001b[1;32m--> 646\u001b[1;33m         \u001b[0mr\u001b[0m \u001b[1;33m=\u001b[0m \u001b[0madapter\u001b[0m\u001b[1;33m.\u001b[0m\u001b[0msend\u001b[0m\u001b[1;33m(\u001b[0m\u001b[0mrequest\u001b[0m\u001b[1;33m,\u001b[0m \u001b[1;33m**\u001b[0m\u001b[0mkwargs\u001b[0m\u001b[1;33m)\u001b[0m\u001b[1;33m\u001b[0m\u001b[1;33m\u001b[0m\u001b[0m\n\u001b[0m\u001b[0;32m    647\u001b[0m \u001b[1;33m\u001b[0m\u001b[0m\n\u001b[0;32m    648\u001b[0m         \u001b[1;31m# Total elapsed time of the request (approximately)\u001b[0m\u001b[1;33m\u001b[0m\u001b[1;33m\u001b[0m\u001b[1;33m\u001b[0m\u001b[0m\n",
      "\u001b[1;32mC:\\ProgramData\\Anaconda3\\lib\\site-packages\\requests\\adapters.py\u001b[0m in \u001b[0;36msend\u001b[1;34m(self, request, stream, timeout, verify, cert, proxies)\u001b[0m\n\u001b[0;32m    514\u001b[0m                 \u001b[1;32mraise\u001b[0m \u001b[0mSSLError\u001b[0m\u001b[1;33m(\u001b[0m\u001b[0me\u001b[0m\u001b[1;33m,\u001b[0m \u001b[0mrequest\u001b[0m\u001b[1;33m=\u001b[0m\u001b[0mrequest\u001b[0m\u001b[1;33m)\u001b[0m\u001b[1;33m\u001b[0m\u001b[1;33m\u001b[0m\u001b[0m\n\u001b[0;32m    515\u001b[0m \u001b[1;33m\u001b[0m\u001b[0m\n\u001b[1;32m--> 516\u001b[1;33m             \u001b[1;32mraise\u001b[0m \u001b[0mConnectionError\u001b[0m\u001b[1;33m(\u001b[0m\u001b[0me\u001b[0m\u001b[1;33m,\u001b[0m \u001b[0mrequest\u001b[0m\u001b[1;33m=\u001b[0m\u001b[0mrequest\u001b[0m\u001b[1;33m)\u001b[0m\u001b[1;33m\u001b[0m\u001b[1;33m\u001b[0m\u001b[0m\n\u001b[0m\u001b[0;32m    517\u001b[0m \u001b[1;33m\u001b[0m\u001b[0m\n\u001b[0;32m    518\u001b[0m         \u001b[1;32mexcept\u001b[0m \u001b[0mClosedPoolError\u001b[0m \u001b[1;32mas\u001b[0m \u001b[0me\u001b[0m\u001b[1;33m:\u001b[0m\u001b[1;33m\u001b[0m\u001b[1;33m\u001b[0m\u001b[0m\n",
      "\u001b[1;31mConnectionError\u001b[0m: HTTPSConnectionPool(host='s177-en.ogame.gameforge.com', port=443): Max retries exceeded with url: /game/index.php?page=messages&messageId=989712&tabid=20&ajax=1 (Caused by NewConnectionError('<urllib3.connection.VerifiedHTTPSConnection object at 0x0000023E300729C8>: Failed to establish a new connection: [WinError 10060] A connection attempt failed because the connected party did not properly respond after a period of time, or established connection failed because connected host has failed to respond'))"
     ]
    }
   ],
   "source": [
    "data = []\n",
    "\n",
    "reports = []\n",
    "for link in report_links:\n",
    "    response = o.session.get(link).text\n",
    "    bs4 = BeautifulSoup4(response)\n",
    "#     technologys = [tech['class'][0] for tech in bs4.find_all('img')]\n",
    "#     amounts = [\n",
    "#         tech.parent.parent.find_all('span')[1].text\n",
    "#         for tech in bs4.find_all('img')\n",
    "#     ]\n",
    "    data.append({'link': link, 'text': bs4})"
   ]
  },
  {
   "cell_type": "code",
   "execution_count": 46,
   "metadata": {
    "scrolled": false
   },
   "outputs": [
    {
     "data": {
      "text/plain": [
       "2"
      ]
     },
     "execution_count": 46,
     "metadata": {},
     "output_type": "execute_result"
    }
   ],
   "source": [
    "len(data)"
   ]
  },
  {
   "cell_type": "code",
   "execution_count": 70,
   "metadata": {
    "scrolled": false
   },
   "outputs": [
    {
     "data": {
      "text/plain": [
       "['Rocket Launcher', '4']"
      ]
     },
     "execution_count": 70,
     "metadata": {},
     "output_type": "execute_result"
    }
   ],
   "source": [
    "# data[0]['text'].find_all('span', class_=\"res_value\")\n",
    "\n",
    "# data[0]['text'].find('span', class_=\"msg_title new blue_txt\").text\n",
    "\n",
    "[_.text for _ in data[0]['text'].find('ul', attrs={\"data-type\": \"defense\"}).find('li').find_all('span')]"
   ]
  },
  {
   "cell_type": "code",
   "execution_count": null,
   "metadata": {},
   "outputs": [],
   "source": []
  }
 ],
 "metadata": {
  "kernelspec": {
   "display_name": "Python 3",
   "language": "python",
   "name": "python3"
  },
  "language_info": {
   "codemirror_mode": {
    "name": "ipython",
    "version": 3
   },
   "file_extension": ".py",
   "mimetype": "text/x-python",
   "name": "python",
   "nbconvert_exporter": "python",
   "pygments_lexer": "ipython3",
   "version": "3.7.6"
  }
 },
 "nbformat": 4,
 "nbformat_minor": 4
}
