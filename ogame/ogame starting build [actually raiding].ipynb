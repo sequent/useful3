{
 "cells": [
  {
   "cell_type": "code",
   "execution_count": 1,
   "metadata": {},
   "outputs": [],
   "source": [
    "# !pip install ogame\n",
    "\n",
    "# https://github.com/alaingilbert/pyogame/wiki/Code-Snippets\n",
    "\n",
    "import os\n",
    "import sys\n",
    "module_path = os.path.abspath(os.path.join('../pyogame'))\n",
    "if module_path not in sys.path:\n",
    "    sys.path.append(module_path)\n",
    "\n",
    "from ogame import OGame, constants\n",
    "import time\n",
    "import re\n",
    "from bs4 import BeautifulSoup\n",
    "\n",
    "import json\n",
    "\n",
    "\n",
    "# to request esp reports\n",
    "def BeautifulSoup4(response):\n",
    "    parsed = BeautifulSoup(response, features=\"html5lib\")\n",
    "\n",
    "    def find_partial(**kwargs):\n",
    "        for key, value in kwargs.items():\n",
    "            kwargs[key] = re.compile(value)\n",
    "        return parsed.find(**kwargs)\n",
    "\n",
    "    def find_all_partial(**kwargs):\n",
    "        for key, value in kwargs.items():\n",
    "            kwargs[key] = re.compile(value)\n",
    "        return parsed.find_all(**kwargs)\n",
    "\n",
    "    parsed.find_partial = find_partial\n",
    "    parsed.find_all_partial = find_all_partial\n",
    "    return parsed\n",
    "\n",
    "\n",
    "def get_reports():\n",
    "    \n",
    "    response = o.session.get(\n",
    "        url=o.index_php,\n",
    "        params={'page': 'messages',\n",
    "                'tab': 20,\n",
    "                'ajax': 1}\n",
    "    ).text\n",
    "    bs4 = BeautifulSoup4(response)\n",
    "    report_links = [\n",
    "        link['href']\n",
    "        for link in bs4.find_all_partial(href='page=messages&messageId')\n",
    "    ]\n",
    "    \n",
    "    data = []\n",
    "    for link in report_links:\n",
    "        response = o.session.get(link).text\n",
    "        bs4 = BeautifulSoup4(response)\n",
    "        data.append({'link': link, 'text': bs4})\n",
    "        \n",
    "    return data\n",
    "\n",
    "\n",
    "def clean_reports(data):\n",
    "    \n",
    "    for report in data:\n",
    "        rep_res = [_.text for _ in report['text'].find_all('span', class_=\"res_value\")]\n",
    "        rep_coord = report['text'].find('span', class_=\"msg_title new blue_txt\").text\n",
    "        try:\n",
    "            rep_def = [_.text for _ in report['text'].find('ul', attrs={\"data-type\": \"defense\"}).find('li').find_all('span')]\n",
    "        except:\n",
    "            rep_def = None\n",
    "        report['results'] = {\n",
    "            'res': rep_res,\n",
    "            'rep_coord': rep_coord,\n",
    "            'rep_def': rep_def\n",
    "        }\n",
    "        \n",
    "    return [_['results'] for _ in data]\n",
    "\n",
    "\n",
    "### espionage nearby inactives ###\n",
    "\n",
    "# Iterate thru galaxies\n",
    "# Cut off after 10\n",
    "# Check the reports, append data (cleaned)\n",
    "# Continue with other 10, until done\n",
    "\n",
    "def send_esp(o, h, r):\n",
    "\n",
    "    data = []\n",
    "\n",
    "    s = h-r\n",
    "    e = h+r\n",
    "    if e > 499:\n",
    "        e = 499\n",
    "\n",
    "    counter = 0\n",
    "    for galaxy in range(s, e):\n",
    "        for planet in o.galaxy(constants.coordinates(1, galaxy)):\n",
    "\n",
    "            # stop, check reports\n",
    "            if counter >= 9:\n",
    "                temp_data = get_reports()\n",
    "                temp_data = clean_reports(temp_data)\n",
    "                data.extend(temp_data)\n",
    "                counter = 0\n",
    "                time.sleep(5)\n",
    "\n",
    "            # send the probes\n",
    "            if 'inactive' in planet.status and 'vacation' not in planet.status:\n",
    "                send = o.send_fleet(\n",
    "                    constants.mission.spy, \n",
    "                    o.planet_ids()[0], \n",
    "                    planet.position, \n",
    "                    [constants.ships.espionage_probe(1)]\n",
    "                )\n",
    "                counter+=1\n",
    "                print(galaxy, planet.status, planet.name, planet.rank, send)\n",
    "                \n",
    "    return data\n",
    "\n",
    "\n",
    "# find how many res you can get:\n",
    "def clean_esp(data):\n",
    "    coords_and_res = []\n",
    "    for _ in data:\n",
    "        if _['rep_def'] == None:\n",
    "            res_clean = [int(__.replace('.', '')) for __ in _['res'][:3]]\n",
    "            coords_and_res.append([sum(res_clean), [int(_) for _ in re.search(r'[0-9:]{1,}', _['rep_coord']).group(0).split(\":\")]])\n",
    "\n",
    "    # backup\n",
    "    json.dump(sorted(coords_and_res, reverse=True), open('to_raid.json', 'w'))\n",
    "    \n",
    "    return coords_and_res\n",
    "\n",
    "\n",
    "def allocate_ships(coord_and_res, lcs, scs):\n",
    "    \n",
    "    coords = coord_and_res[1]\n",
    "    \n",
    "    if lcs > 0:\n",
    "        if coord_and_res[0]/2 > 25000:\n",
    "            n = int(coord_and_res[0]/2/25000)\n",
    "            to_send = constants.ships.large_transporter(n)\n",
    "        else:\n",
    "            n = 1 \n",
    "            \n",
    "        to_send = constants.ships.large_transporter(n)\n",
    "        res_dep = n*25000\n",
    "    \n",
    "    elif lcs < 1 and scs > 0:\n",
    "        n = int(coord_and_res[0]/2/5000)\n",
    "        to_send = constants.ships.small_transporter(n)\n",
    "        res_dep = n*5000\n",
    "        \n",
    "    else:\n",
    "        return lcs, scs, 0\n",
    "\n",
    "    send = o.send_fleet(\n",
    "        constants.mission.attack,\n",
    "        o.planet_ids()[0],\n",
    "        (coords[0], coords[1], coords[2], 1),\n",
    "        [to_send]\n",
    "    )\n",
    "    \n",
    "    if send:\n",
    "        if to_send == constants.ships.large_transporter(n):\n",
    "            lcs -= n\n",
    "        if to_send == constants.ships.small_transporter(n):\n",
    "            scs -= n\n",
    "    else:\n",
    "        return\n",
    "    \n",
    "    print(coord_and_res, to_send, send)\n",
    "    print('remaining large:', lcs, 'remaining small:', scs)\n",
    "    \n",
    "    res_remaining = coord_and_res[0] - res_dep\n",
    "    \n",
    "    return lcs, scs, res_remaining\n",
    "\n",
    "### waveraiding ###\n",
    "def run_wave_raid(o, coords_and_res, i):\n",
    "    \n",
    "    # get ships\n",
    "    ships_ = o.ships(o.planet_ids()[0])\n",
    "\n",
    "    # deploy ships\n",
    "    lcs = ships_.large_transporter.amount\n",
    "    scs = ships_.small_transporter.amount\n",
    "\n",
    "    for _ in sorted(coords_and_res, reverse=True)[i:]:\n",
    "\n",
    "        lcs, scs, res_remain = allocate_ships(_, lcs, scs)\n",
    "        if res_remain/2 > 25000:\n",
    "            time.sleep(2)\n",
    "            lcs, scs, res_remain = allocate_ships([res_remain, _[1]], lcs, scs)"
   ]
  },
  {
   "cell_type": "code",
   "execution_count": 3,
   "metadata": {
    "scrolled": false
   },
   "outputs": [
    {
     "name": "stdout",
     "output_type": "stream",
     "text": [
      "[30000, [1, 445, 4]] (202, 3, 'shipyard') True\n",
      "remaining large: 0 remaining small: 43\n",
      "[30000, [1, 433, 6]] (202, 3, 'shipyard') True\n",
      "remaining large: 0 remaining small: 40\n",
      "[30000, [1, 430, 10]] (202, 3, 'shipyard') True\n",
      "remaining large: 0 remaining small: 37\n"
     ]
    },
    {
     "ename": "TypeError",
     "evalue": "cannot unpack non-iterable NoneType object",
     "output_type": "error",
     "traceback": [
      "\u001b[1;31m---------------------------------------------------------------------------\u001b[0m",
      "\u001b[1;31mTypeError\u001b[0m                                 Traceback (most recent call last)",
      "\u001b[1;32m<ipython-input-3-ee1a99d2ff24>\u001b[0m in \u001b[0;36m<module>\u001b[1;34m\u001b[0m\n\u001b[0;32m      6\u001b[0m \u001b[1;31m# data = send_esp(o, 447, 20)\u001b[0m\u001b[1;33m\u001b[0m\u001b[1;33m\u001b[0m\u001b[1;33m\u001b[0m\u001b[0m\n\u001b[0;32m      7\u001b[0m \u001b[1;31m# coords_and_res = clean_esp(data)\u001b[0m\u001b[1;33m\u001b[0m\u001b[1;33m\u001b[0m\u001b[1;33m\u001b[0m\u001b[0m\n\u001b[1;32m----> 8\u001b[1;33m \u001b[0mrun_wave_raid\u001b[0m\u001b[1;33m(\u001b[0m\u001b[0mo\u001b[0m\u001b[1;33m,\u001b[0m \u001b[0mcoords_and_res\u001b[0m\u001b[1;33m,\u001b[0m \u001b[1;36m9\u001b[0m\u001b[1;33m)\u001b[0m\u001b[1;33m\u001b[0m\u001b[1;33m\u001b[0m\u001b[0m\n\u001b[0m",
      "\u001b[1;32m<ipython-input-1-590c41ed017f>\u001b[0m in \u001b[0;36mrun_wave_raid\u001b[1;34m(o, coords_and_res, i)\u001b[0m\n\u001b[0;32m    189\u001b[0m     \u001b[1;32mfor\u001b[0m \u001b[0m_\u001b[0m \u001b[1;32min\u001b[0m \u001b[0msorted\u001b[0m\u001b[1;33m(\u001b[0m\u001b[0mcoords_and_res\u001b[0m\u001b[1;33m,\u001b[0m \u001b[0mreverse\u001b[0m\u001b[1;33m=\u001b[0m\u001b[1;32mTrue\u001b[0m\u001b[1;33m)\u001b[0m\u001b[1;33m[\u001b[0m\u001b[0mi\u001b[0m\u001b[1;33m:\u001b[0m\u001b[1;33m]\u001b[0m\u001b[1;33m:\u001b[0m\u001b[1;33m\u001b[0m\u001b[1;33m\u001b[0m\u001b[0m\n\u001b[0;32m    190\u001b[0m \u001b[1;33m\u001b[0m\u001b[0m\n\u001b[1;32m--> 191\u001b[1;33m         \u001b[0mlcs\u001b[0m\u001b[1;33m,\u001b[0m \u001b[0mscs\u001b[0m\u001b[1;33m,\u001b[0m \u001b[0mres_remain\u001b[0m \u001b[1;33m=\u001b[0m \u001b[0mallocate_ships\u001b[0m\u001b[1;33m(\u001b[0m\u001b[0m_\u001b[0m\u001b[1;33m,\u001b[0m \u001b[0mlcs\u001b[0m\u001b[1;33m,\u001b[0m \u001b[0mscs\u001b[0m\u001b[1;33m)\u001b[0m\u001b[1;33m\u001b[0m\u001b[1;33m\u001b[0m\u001b[0m\n\u001b[0m\u001b[0;32m    192\u001b[0m         \u001b[1;32mif\u001b[0m \u001b[0mres_remain\u001b[0m\u001b[1;33m/\u001b[0m\u001b[1;36m2\u001b[0m \u001b[1;33m>\u001b[0m \u001b[1;36m25000\u001b[0m\u001b[1;33m:\u001b[0m\u001b[1;33m\u001b[0m\u001b[1;33m\u001b[0m\u001b[0m\n\u001b[0;32m    193\u001b[0m             \u001b[0mtime\u001b[0m\u001b[1;33m.\u001b[0m\u001b[0msleep\u001b[0m\u001b[1;33m(\u001b[0m\u001b[1;36m2\u001b[0m\u001b[1;33m)\u001b[0m\u001b[1;33m\u001b[0m\u001b[1;33m\u001b[0m\u001b[0m\n",
      "\u001b[1;31mTypeError\u001b[0m: cannot unpack non-iterable NoneType object"
     ]
    }
   ],
   "source": [
    "o = OGame(\n",
    "    universe=\"Ymir\",\n",
    "    username=\"samchakerian@gmail.com\",\n",
    "    password=\"$R3e@W1q1q\"\n",
    ")\n",
    "data = send_esp(o, 447, 20)\n",
    "coords_and_res = clean_esp(data)\n",
    "run_wave_raid(o, coords_and_res, 0)"
   ]
  },
  {
   "cell_type": "code",
   "execution_count": 6,
   "metadata": {},
   "outputs": [
    {
     "ename": "IndexError",
     "evalue": "list index out of range",
     "output_type": "error",
     "traceback": [
      "\u001b[1;31m---------------------------------------------------------------------------\u001b[0m",
      "\u001b[1;31mIndexError\u001b[0m                                Traceback (most recent call last)",
      "\u001b[1;32m<ipython-input-6-14913d8bfd5a>\u001b[0m in \u001b[0;36m<module>\u001b[1;34m\u001b[0m\n\u001b[0;32m      1\u001b[0m \u001b[1;31m# get ships\u001b[0m\u001b[1;33m\u001b[0m\u001b[1;33m\u001b[0m\u001b[1;33m\u001b[0m\u001b[0m\n\u001b[1;32m----> 2\u001b[1;33m \u001b[0mships_\u001b[0m \u001b[1;33m=\u001b[0m \u001b[0mo\u001b[0m\u001b[1;33m.\u001b[0m\u001b[0mships\u001b[0m\u001b[1;33m(\u001b[0m\u001b[0mo\u001b[0m\u001b[1;33m.\u001b[0m\u001b[0mplanet_ids\u001b[0m\u001b[1;33m(\u001b[0m\u001b[1;33m)\u001b[0m\u001b[1;33m[\u001b[0m\u001b[1;36m0\u001b[0m\u001b[1;33m]\u001b[0m\u001b[1;33m)\u001b[0m\u001b[1;33m\u001b[0m\u001b[1;33m\u001b[0m\u001b[0m\n\u001b[0m\u001b[0;32m      3\u001b[0m \u001b[1;33m\u001b[0m\u001b[0m\n\u001b[0;32m      4\u001b[0m \u001b[1;31m# deploy ships\u001b[0m\u001b[1;33m\u001b[0m\u001b[1;33m\u001b[0m\u001b[1;33m\u001b[0m\u001b[0m\n\u001b[0;32m      5\u001b[0m \u001b[0mlcs\u001b[0m \u001b[1;33m=\u001b[0m \u001b[0mships_\u001b[0m\u001b[1;33m.\u001b[0m\u001b[0mlarge_transporter\u001b[0m\u001b[1;33m.\u001b[0m\u001b[0mamount\u001b[0m\u001b[1;33m\u001b[0m\u001b[1;33m\u001b[0m\u001b[0m\n",
      "\u001b[1;32m~\\Documents\\pyogame\\ogame\\__init__.py\u001b[0m in \u001b[0;36mships\u001b[1;34m(self, id)\u001b[0m\n\u001b[0;32m    523\u001b[0m                 \u001b[0mself\u001b[0m\u001b[1;33m.\u001b[0m\u001b[0min_construction\u001b[0m \u001b[1;33m=\u001b[0m \u001b[0mOGame\u001b[0m\u001b[1;33m.\u001b[0m\u001b[0minConstruction\u001b[0m\u001b[1;33m(\u001b[0m\u001b[0mtechnologyStatus\u001b[0m\u001b[1;33m[\u001b[0m\u001b[0mi\u001b[0m\u001b[1;33m]\u001b[0m\u001b[1;33m)\u001b[0m\u001b[1;33m\u001b[0m\u001b[1;33m\u001b[0m\u001b[0m\n\u001b[0;32m    524\u001b[0m \u001b[1;33m\u001b[0m\u001b[0m\n\u001b[1;32m--> 525\u001b[1;33m         \u001b[1;32mclass\u001b[0m \u001b[0mCrawler\u001b[0m\u001b[1;33m:\u001b[0m\u001b[1;33m\u001b[0m\u001b[1;33m\u001b[0m\u001b[0m\n\u001b[0m\u001b[0;32m    526\u001b[0m             \u001b[1;32mif\u001b[0m \u001b[0mid\u001b[0m \u001b[1;32mnot\u001b[0m \u001b[1;32min\u001b[0m \u001b[0mOGame\u001b[0m\u001b[1;33m.\u001b[0m\u001b[0mmoon_ids\u001b[0m\u001b[1;33m(\u001b[0m\u001b[0mself\u001b[0m\u001b[1;33m)\u001b[0m\u001b[1;33m:\u001b[0m\u001b[1;33m\u001b[0m\u001b[1;33m\u001b[0m\u001b[0m\n\u001b[0;32m    527\u001b[0m                 \u001b[0mamount\u001b[0m \u001b[1;33m=\u001b[0m \u001b[0mships_amount\u001b[0m\u001b[1;33m[\u001b[0m\u001b[1;36m16\u001b[0m\u001b[1;33m]\u001b[0m\u001b[1;33m\u001b[0m\u001b[1;33m\u001b[0m\u001b[0m\n",
      "\u001b[1;32m~\\Documents\\pyogame\\ogame\\__init__.py\u001b[0m in \u001b[0;36mCrawler\u001b[1;34m()\u001b[0m\n\u001b[0;32m    525\u001b[0m         \u001b[1;32mclass\u001b[0m \u001b[0mCrawler\u001b[0m\u001b[1;33m:\u001b[0m\u001b[1;33m\u001b[0m\u001b[1;33m\u001b[0m\u001b[0m\n\u001b[0;32m    526\u001b[0m             \u001b[1;32mif\u001b[0m \u001b[0mid\u001b[0m \u001b[1;32mnot\u001b[0m \u001b[1;32min\u001b[0m \u001b[0mOGame\u001b[0m\u001b[1;33m.\u001b[0m\u001b[0mmoon_ids\u001b[0m\u001b[1;33m(\u001b[0m\u001b[0mself\u001b[0m\u001b[1;33m)\u001b[0m\u001b[1;33m:\u001b[0m\u001b[1;33m\u001b[0m\u001b[1;33m\u001b[0m\u001b[0m\n\u001b[1;32m--> 527\u001b[1;33m                 \u001b[0mamount\u001b[0m \u001b[1;33m=\u001b[0m \u001b[0mships_amount\u001b[0m\u001b[1;33m[\u001b[0m\u001b[1;36m16\u001b[0m\u001b[1;33m]\u001b[0m\u001b[1;33m\u001b[0m\u001b[1;33m\u001b[0m\u001b[0m\n\u001b[0m\u001b[0;32m    528\u001b[0m                 \u001b[0mself\u001b[0m\u001b[1;33m.\u001b[0m\u001b[0mis_possible\u001b[0m \u001b[1;33m=\u001b[0m \u001b[0mOGame\u001b[0m\u001b[1;33m.\u001b[0m\u001b[0misPossible\u001b[0m\u001b[1;33m(\u001b[0m\u001b[0mtechnologyStatus\u001b[0m\u001b[1;33m[\u001b[0m\u001b[1;36m16\u001b[0m\u001b[1;33m]\u001b[0m\u001b[1;33m)\u001b[0m\u001b[1;33m\u001b[0m\u001b[1;33m\u001b[0m\u001b[0m\n\u001b[0;32m    529\u001b[0m                 self.in_construction = OGame.inConstruction(\n",
      "\u001b[1;31mIndexError\u001b[0m: list index out of range"
     ]
    }
   ],
   "source": [
    "# get ships\n",
    "ships_ = o.ships(o.planet_ids()[0])\n",
    "\n",
    "# deploy ships\n",
    "lcs = ships_.large_transporter.amount\n",
    "scs = ships_.small_transporter.amount\n",
    "\n",
    "lcs, scs"
   ]
  },
  {
   "cell_type": "code",
   "execution_count": 7,
   "metadata": {},
   "outputs": [
    {
     "data": {
      "text/plain": [
       "<ogame.OGame at 0x26e45431ec8>"
      ]
     },
     "execution_count": 7,
     "metadata": {},
     "output_type": "execute_result"
    }
   ],
   "source": [
    "o"
   ]
  },
  {
   "cell_type": "code",
   "execution_count": 12,
   "metadata": {},
   "outputs": [
    {
     "data": {
      "text/plain": [
       "11"
      ]
     },
     "execution_count": 12,
     "metadata": {},
     "output_type": "execute_result"
    }
   ],
   "source": [
    "len(o.fleet())"
   ]
  },
  {
   "cell_type": "code",
   "execution_count": 7,
   "metadata": {},
   "outputs": [
    {
     "ename": "JSONDecodeError",
     "evalue": "Expecting value: line 1 column 1 (char 0)",
     "output_type": "error",
     "traceback": [
      "\u001b[1;31m---------------------------------------------------------------------------\u001b[0m",
      "\u001b[1;31mJSONDecodeError\u001b[0m                           Traceback (most recent call last)",
      "\u001b[1;32m<ipython-input-7-114796283ba3>\u001b[0m in \u001b[0;36m<module>\u001b[1;34m\u001b[0m\n\u001b[1;32m----> 1\u001b[1;33m \u001b[1;32mfor\u001b[0m \u001b[0mfleet\u001b[0m \u001b[1;32min\u001b[0m \u001b[0mo\u001b[0m\u001b[1;33m.\u001b[0m\u001b[0mfleet\u001b[0m\u001b[1;33m(\u001b[0m\u001b[1;33m)\u001b[0m\u001b[1;33m:\u001b[0m\u001b[1;33m\u001b[0m\u001b[1;33m\u001b[0m\u001b[0m\n\u001b[0m\u001b[0;32m      2\u001b[0m     print(\n\u001b[0;32m      3\u001b[0m         \u001b[0mfleet\u001b[0m\u001b[1;33m.\u001b[0m\u001b[0mmission\u001b[0m\u001b[1;33m,\u001b[0m \u001b[0mfleet\u001b[0m\u001b[1;33m.\u001b[0m\u001b[0marrival\u001b[0m\u001b[1;33m,\u001b[0m \u001b[0mfleet\u001b[0m\u001b[1;33m.\u001b[0m\u001b[0mdestination\u001b[0m\u001b[1;33m\u001b[0m\u001b[1;33m\u001b[0m\u001b[0m\n\u001b[0;32m      4\u001b[0m     )\n",
      "\u001b[1;32m~\\Documents\\pyogame\\ogame\\__init__.py\u001b[0m in \u001b[0;36mfleet\u001b[1;34m(self)\u001b[0m\n\u001b[0;32m    739\u001b[0m     \u001b[1;32mdef\u001b[0m \u001b[0mfleet\u001b[0m\u001b[1;33m(\u001b[0m\u001b[0mself\u001b[0m\u001b[1;33m)\u001b[0m\u001b[1;33m:\u001b[0m\u001b[1;33m\u001b[0m\u001b[1;33m\u001b[0m\u001b[0m\n\u001b[0;32m    740\u001b[0m         \u001b[0mfleets\u001b[0m \u001b[1;33m=\u001b[0m \u001b[1;33m[\u001b[0m\u001b[1;33m]\u001b[0m\u001b[1;33m\u001b[0m\u001b[1;33m\u001b[0m\u001b[0m\n\u001b[1;32m--> 741\u001b[1;33m         \u001b[0mfleets\u001b[0m\u001b[1;33m.\u001b[0m\u001b[0mextend\u001b[0m\u001b[1;33m(\u001b[0m\u001b[0mself\u001b[0m\u001b[1;33m.\u001b[0m\u001b[0mhostile_fleet\u001b[0m\u001b[1;33m(\u001b[0m\u001b[1;33m)\u001b[0m\u001b[1;33m)\u001b[0m\u001b[1;33m\u001b[0m\u001b[1;33m\u001b[0m\u001b[0m\n\u001b[0m\u001b[0;32m    742\u001b[0m         \u001b[0mfleets\u001b[0m\u001b[1;33m.\u001b[0m\u001b[0mextend\u001b[0m\u001b[1;33m(\u001b[0m\u001b[0mself\u001b[0m\u001b[1;33m.\u001b[0m\u001b[0mfriendly_fleet\u001b[0m\u001b[1;33m(\u001b[0m\u001b[1;33m)\u001b[0m\u001b[1;33m)\u001b[0m\u001b[1;33m\u001b[0m\u001b[1;33m\u001b[0m\u001b[0m\n\u001b[0;32m    743\u001b[0m         \u001b[1;32mreturn\u001b[0m \u001b[0mfleets\u001b[0m\u001b[1;33m\u001b[0m\u001b[1;33m\u001b[0m\u001b[0m\n",
      "\u001b[1;32m~\\Documents\\pyogame\\ogame\\__init__.py\u001b[0m in \u001b[0;36mhostile_fleet\u001b[1;34m(self)\u001b[0m\n\u001b[0;32m    797\u001b[0m \u001b[1;33m\u001b[0m\u001b[0m\n\u001b[0;32m    798\u001b[0m     \u001b[1;32mdef\u001b[0m \u001b[0mhostile_fleet\u001b[0m\u001b[1;33m(\u001b[0m\u001b[0mself\u001b[0m\u001b[1;33m)\u001b[0m\u001b[1;33m:\u001b[0m\u001b[1;33m\u001b[0m\u001b[1;33m\u001b[0m\u001b[0m\n\u001b[1;32m--> 799\u001b[1;33m         \u001b[1;32mif\u001b[0m \u001b[1;32mnot\u001b[0m \u001b[0mself\u001b[0m\u001b[1;33m.\u001b[0m\u001b[0mattacked\u001b[0m\u001b[1;33m(\u001b[0m\u001b[1;33m)\u001b[0m\u001b[1;33m:\u001b[0m\u001b[1;33m\u001b[0m\u001b[1;33m\u001b[0m\u001b[0m\n\u001b[0m\u001b[0;32m    800\u001b[0m             \u001b[1;32mreturn\u001b[0m \u001b[1;33m[\u001b[0m\u001b[1;33m]\u001b[0m\u001b[1;33m\u001b[0m\u001b[1;33m\u001b[0m\u001b[0m\n\u001b[0;32m    801\u001b[0m         response = self.session.get(\n",
      "\u001b[1;32m~\\Documents\\pyogame\\ogame\\__init__.py\u001b[0m in \u001b[0;36mattacked\u001b[1;34m(self)\u001b[0m\n\u001b[0;32m    185\u001b[0m             \u001b[0murl\u001b[0m\u001b[1;33m=\u001b[0m\u001b[0mself\u001b[0m\u001b[1;33m.\u001b[0m\u001b[0mindex_php\u001b[0m \u001b[1;33m+\u001b[0m \u001b[1;34m'page=componentOnly'\u001b[0m\u001b[1;33m\u001b[0m\u001b[1;33m\u001b[0m\u001b[0m\n\u001b[0;32m    186\u001b[0m                 \u001b[1;34m'&component=eventList&action=fetchEventBox&ajax=1&asJson=1'\u001b[0m\u001b[1;33m,\u001b[0m\u001b[1;33m\u001b[0m\u001b[1;33m\u001b[0m\u001b[0m\n\u001b[1;32m--> 187\u001b[1;33m             \u001b[0mheaders\u001b[0m\u001b[1;33m=\u001b[0m\u001b[1;33m{\u001b[0m\u001b[1;34m'X-Requested-With'\u001b[0m\u001b[1;33m:\u001b[0m \u001b[1;34m'XMLHttpRequest'\u001b[0m\u001b[1;33m}\u001b[0m\u001b[1;33m\u001b[0m\u001b[1;33m\u001b[0m\u001b[0m\n\u001b[0m\u001b[0;32m    188\u001b[0m         ).json()\n\u001b[0;32m    189\u001b[0m         \u001b[1;32mif\u001b[0m \u001b[1;36m0\u001b[0m \u001b[1;33m<\u001b[0m \u001b[0mresponse\u001b[0m\u001b[1;33m[\u001b[0m\u001b[1;34m'hostile'\u001b[0m\u001b[1;33m]\u001b[0m\u001b[1;33m:\u001b[0m\u001b[1;33m\u001b[0m\u001b[1;33m\u001b[0m\u001b[0m\n",
      "\u001b[1;32mC:\\ProgramData\\Anaconda3\\lib\\site-packages\\requests\\models.py\u001b[0m in \u001b[0;36mjson\u001b[1;34m(self, **kwargs)\u001b[0m\n\u001b[0;32m    895\u001b[0m                     \u001b[1;31m# used.\u001b[0m\u001b[1;33m\u001b[0m\u001b[1;33m\u001b[0m\u001b[1;33m\u001b[0m\u001b[0m\n\u001b[0;32m    896\u001b[0m                     \u001b[1;32mpass\u001b[0m\u001b[1;33m\u001b[0m\u001b[1;33m\u001b[0m\u001b[0m\n\u001b[1;32m--> 897\u001b[1;33m         \u001b[1;32mreturn\u001b[0m \u001b[0mcomplexjson\u001b[0m\u001b[1;33m.\u001b[0m\u001b[0mloads\u001b[0m\u001b[1;33m(\u001b[0m\u001b[0mself\u001b[0m\u001b[1;33m.\u001b[0m\u001b[0mtext\u001b[0m\u001b[1;33m,\u001b[0m \u001b[1;33m**\u001b[0m\u001b[0mkwargs\u001b[0m\u001b[1;33m)\u001b[0m\u001b[1;33m\u001b[0m\u001b[1;33m\u001b[0m\u001b[0m\n\u001b[0m\u001b[0;32m    898\u001b[0m \u001b[1;33m\u001b[0m\u001b[0m\n\u001b[0;32m    899\u001b[0m     \u001b[1;33m@\u001b[0m\u001b[0mproperty\u001b[0m\u001b[1;33m\u001b[0m\u001b[1;33m\u001b[0m\u001b[0m\n",
      "\u001b[1;32mC:\\ProgramData\\Anaconda3\\lib\\json\\__init__.py\u001b[0m in \u001b[0;36mloads\u001b[1;34m(s, encoding, cls, object_hook, parse_float, parse_int, parse_constant, object_pairs_hook, **kw)\u001b[0m\n\u001b[0;32m    346\u001b[0m             \u001b[0mparse_int\u001b[0m \u001b[1;32mis\u001b[0m \u001b[1;32mNone\u001b[0m \u001b[1;32mand\u001b[0m \u001b[0mparse_float\u001b[0m \u001b[1;32mis\u001b[0m \u001b[1;32mNone\u001b[0m \u001b[1;32mand\u001b[0m\u001b[1;33m\u001b[0m\u001b[1;33m\u001b[0m\u001b[0m\n\u001b[0;32m    347\u001b[0m             parse_constant is None and object_pairs_hook is None and not kw):\n\u001b[1;32m--> 348\u001b[1;33m         \u001b[1;32mreturn\u001b[0m \u001b[0m_default_decoder\u001b[0m\u001b[1;33m.\u001b[0m\u001b[0mdecode\u001b[0m\u001b[1;33m(\u001b[0m\u001b[0ms\u001b[0m\u001b[1;33m)\u001b[0m\u001b[1;33m\u001b[0m\u001b[1;33m\u001b[0m\u001b[0m\n\u001b[0m\u001b[0;32m    349\u001b[0m     \u001b[1;32mif\u001b[0m \u001b[0mcls\u001b[0m \u001b[1;32mis\u001b[0m \u001b[1;32mNone\u001b[0m\u001b[1;33m:\u001b[0m\u001b[1;33m\u001b[0m\u001b[1;33m\u001b[0m\u001b[0m\n\u001b[0;32m    350\u001b[0m         \u001b[0mcls\u001b[0m \u001b[1;33m=\u001b[0m \u001b[0mJSONDecoder\u001b[0m\u001b[1;33m\u001b[0m\u001b[1;33m\u001b[0m\u001b[0m\n",
      "\u001b[1;32mC:\\ProgramData\\Anaconda3\\lib\\json\\decoder.py\u001b[0m in \u001b[0;36mdecode\u001b[1;34m(self, s, _w)\u001b[0m\n\u001b[0;32m    335\u001b[0m \u001b[1;33m\u001b[0m\u001b[0m\n\u001b[0;32m    336\u001b[0m         \"\"\"\n\u001b[1;32m--> 337\u001b[1;33m         \u001b[0mobj\u001b[0m\u001b[1;33m,\u001b[0m \u001b[0mend\u001b[0m \u001b[1;33m=\u001b[0m \u001b[0mself\u001b[0m\u001b[1;33m.\u001b[0m\u001b[0mraw_decode\u001b[0m\u001b[1;33m(\u001b[0m\u001b[0ms\u001b[0m\u001b[1;33m,\u001b[0m \u001b[0midx\u001b[0m\u001b[1;33m=\u001b[0m\u001b[0m_w\u001b[0m\u001b[1;33m(\u001b[0m\u001b[0ms\u001b[0m\u001b[1;33m,\u001b[0m \u001b[1;36m0\u001b[0m\u001b[1;33m)\u001b[0m\u001b[1;33m.\u001b[0m\u001b[0mend\u001b[0m\u001b[1;33m(\u001b[0m\u001b[1;33m)\u001b[0m\u001b[1;33m)\u001b[0m\u001b[1;33m\u001b[0m\u001b[1;33m\u001b[0m\u001b[0m\n\u001b[0m\u001b[0;32m    338\u001b[0m         \u001b[0mend\u001b[0m \u001b[1;33m=\u001b[0m \u001b[0m_w\u001b[0m\u001b[1;33m(\u001b[0m\u001b[0ms\u001b[0m\u001b[1;33m,\u001b[0m \u001b[0mend\u001b[0m\u001b[1;33m)\u001b[0m\u001b[1;33m.\u001b[0m\u001b[0mend\u001b[0m\u001b[1;33m(\u001b[0m\u001b[1;33m)\u001b[0m\u001b[1;33m\u001b[0m\u001b[1;33m\u001b[0m\u001b[0m\n\u001b[0;32m    339\u001b[0m         \u001b[1;32mif\u001b[0m \u001b[0mend\u001b[0m \u001b[1;33m!=\u001b[0m \u001b[0mlen\u001b[0m\u001b[1;33m(\u001b[0m\u001b[0ms\u001b[0m\u001b[1;33m)\u001b[0m\u001b[1;33m:\u001b[0m\u001b[1;33m\u001b[0m\u001b[1;33m\u001b[0m\u001b[0m\n",
      "\u001b[1;32mC:\\ProgramData\\Anaconda3\\lib\\json\\decoder.py\u001b[0m in \u001b[0;36mraw_decode\u001b[1;34m(self, s, idx)\u001b[0m\n\u001b[0;32m    353\u001b[0m             \u001b[0mobj\u001b[0m\u001b[1;33m,\u001b[0m \u001b[0mend\u001b[0m \u001b[1;33m=\u001b[0m \u001b[0mself\u001b[0m\u001b[1;33m.\u001b[0m\u001b[0mscan_once\u001b[0m\u001b[1;33m(\u001b[0m\u001b[0ms\u001b[0m\u001b[1;33m,\u001b[0m \u001b[0midx\u001b[0m\u001b[1;33m)\u001b[0m\u001b[1;33m\u001b[0m\u001b[1;33m\u001b[0m\u001b[0m\n\u001b[0;32m    354\u001b[0m         \u001b[1;32mexcept\u001b[0m \u001b[0mStopIteration\u001b[0m \u001b[1;32mas\u001b[0m \u001b[0merr\u001b[0m\u001b[1;33m:\u001b[0m\u001b[1;33m\u001b[0m\u001b[1;33m\u001b[0m\u001b[0m\n\u001b[1;32m--> 355\u001b[1;33m             \u001b[1;32mraise\u001b[0m \u001b[0mJSONDecodeError\u001b[0m\u001b[1;33m(\u001b[0m\u001b[1;34m\"Expecting value\"\u001b[0m\u001b[1;33m,\u001b[0m \u001b[0ms\u001b[0m\u001b[1;33m,\u001b[0m \u001b[0merr\u001b[0m\u001b[1;33m.\u001b[0m\u001b[0mvalue\u001b[0m\u001b[1;33m)\u001b[0m \u001b[1;32mfrom\u001b[0m \u001b[1;32mNone\u001b[0m\u001b[1;33m\u001b[0m\u001b[1;33m\u001b[0m\u001b[0m\n\u001b[0m\u001b[0;32m    356\u001b[0m         \u001b[1;32mreturn\u001b[0m \u001b[0mobj\u001b[0m\u001b[1;33m,\u001b[0m \u001b[0mend\u001b[0m\u001b[1;33m\u001b[0m\u001b[1;33m\u001b[0m\u001b[0m\n",
      "\u001b[1;31mJSONDecodeError\u001b[0m: Expecting value: line 1 column 1 (char 0)"
     ]
    }
   ],
   "source": [
    "for fleet in o.fleet():\n",
    "    print(\n",
    "        fleet.mission, fleet.arrival, fleet.destination\n",
    "    )"
   ]
  },
  {
   "cell_type": "code",
   "execution_count": 7,
   "metadata": {},
   "outputs": [],
   "source": [
    "# # reread\n",
    "# # coords_and_res = json.load(open('to_raid.json', 'r'))\n",
    "# sorted(coords_and_res, reverse=True)"
   ]
  },
  {
   "cell_type": "code",
   "execution_count": 8,
   "metadata": {},
   "outputs": [],
   "source": [
    "# ## send raids ###\n",
    "\n",
    "# # get ships\n",
    "# ships_ = o.ships(o.planet_ids()[0])\n",
    "\n",
    "# # deploy ships\n",
    "# lcs = ships_.large_transporter.amount\n",
    "# scs = ships_.small_transporter.amount\n",
    "\n",
    "# for _ in sorted(coords_and_res, reverse=True)[:]:\n",
    "\n",
    "#     coords = _[1]\n",
    "    \n",
    "#     if lcs > 0:\n",
    "#         if _[0]/2 > 25000:\n",
    "#             n = int(_[0]/2/25000)\n",
    "#         else:\n",
    "#             n = 1 \n",
    "#         to_send = constants.ships.large_transporter(n)\n",
    "#         lcs -= n\n",
    "    \n",
    "#     elif lcs < 1 and scs > 0:\n",
    "#         n = int(_[0]/2/5000)\n",
    "#         to_send = constants.ships.small_transporter(n)\n",
    "#         scs -= n\n",
    "        \n",
    "#     else:\n",
    "#         break\n",
    "\n",
    "#     send = o.send_fleet(\n",
    "#         constants.mission.attack,\n",
    "#         o.planet_ids()[0],\n",
    "#         (coords[0], coords[1], coords[2], 1),\n",
    "#         [to_send]\n",
    "#     )\n",
    "#     print(_, to_send, send)\n",
    "#     print('remaining large:', lcs, 'remaining small:', scs)"
   ]
  },
  {
   "cell_type": "code",
   "execution_count": 9,
   "metadata": {},
   "outputs": [
    {
     "data": {
      "text/plain": [
       "8"
      ]
     },
     "execution_count": 9,
     "metadata": {},
     "output_type": "execute_result"
    }
   ],
   "source": [
    "res = o.research()\n",
    "res.computer.level"
   ]
  },
  {
   "cell_type": "code",
   "execution_count": null,
   "metadata": {},
   "outputs": [],
   "source": [
    "o.build(constants.research.computer, id=o.planet_ids()[0])"
   ]
  },
  {
   "cell_type": "code",
   "execution_count": null,
   "metadata": {},
   "outputs": [],
   "source": [
    "o.relogin()"
   ]
  },
  {
   "cell_type": "code",
   "execution_count": null,
   "metadata": {},
   "outputs": [],
   "source": [
    "id = o.planet_ids()[0]\n",
    "supply = o.supply(id)\n",
    "res = o.resources(id)\n",
    "\n",
    "# check bldg construction\n",
    "print('construction:', {\n",
    "    'sp': supply.solar_plant.in_construction,\n",
    "    'mm': supply.metal_mine.in_construction,\n",
    "    'cm': supply.crystal_mine.in_construction,\n",
    "    'dm': supply.deuterium_mine.in_construction\n",
    "})\n",
    "\n",
    "# is possible\n",
    "print('possible:', {\n",
    "    'sp': supply.solar_plant.is_possible,\n",
    "    'mm': supply.metal_mine.is_possible,\n",
    "    'cm': supply.crystal_mine.is_possible,\n",
    "    'dm': supply.deuterium_mine.is_possible\n",
    "})\n",
    "\n",
    "# check resources\n",
    "print('resources:', {\n",
    "    'sp': res.energy,\n",
    "    'mm': res.metal,\n",
    "    'cm': res.crystal,\n",
    "    'dm': res.deuterium\n",
    "})\n",
    "\n",
    "# check levels\n",
    "print('levels:', {\n",
    "    'sp': supply.solar_plant.level,\n",
    "    'mm': supply.metal_mine.level,\n",
    "    'cm': supply.crystal_mine.level,\n",
    "    'dm': supply.deuterium_mine.level\n",
    "})"
   ]
  },
  {
   "cell_type": "code",
   "execution_count": null,
   "metadata": {},
   "outputs": [],
   "source": [
    "### Iterate thru outer worlds, build const ###\n",
    "\n"
   ]
  }
 ],
 "metadata": {
  "kernelspec": {
   "display_name": "Python 3",
   "language": "python",
   "name": "python3"
  },
  "language_info": {
   "codemirror_mode": {
    "name": "ipython",
    "version": 3
   },
   "file_extension": ".py",
   "mimetype": "text/x-python",
   "name": "python",
   "nbconvert_exporter": "python",
   "pygments_lexer": "ipython3",
   "version": "3.7.6"
  }
 },
 "nbformat": 4,
 "nbformat_minor": 4
}
