{
 "cells": [
  {
   "cell_type": "code",
   "execution_count": 1,
   "metadata": {},
   "outputs": [
    {
     "data": {
      "text/plain": [
       "TerminalInfo(community_account=False, community_connection=False, connected=True, dlls_allowed=False, trade_allowed=True, tradeapi_disabled=False, email_enabled=False, ftp_enabled=False, notifications_enabled=False, mqid=False, build=2981, maxbars=100000, codepage=0, ping_last=183726, community_balance=0.0, retransmission=0.0, company='FX Choice Limited', name='FXChoice MetaTrader 5', language='English', path='C:\\\\Program Files\\\\FXChoice MetaTrader 5', ...)"
      ]
     },
     "execution_count": 1,
     "metadata": {},
     "output_type": "execute_result"
    }
   ],
   "source": [
    "# !pip install MetaTrader5\n",
    "import MetaTrader5 as mt5\n",
    "import pandas as pd\n",
    "# from tqdm.notebook import tqdm\n",
    "\n",
    "if not mt5.initialize():\n",
    "    mt5.shutdown()\n",
    "mt5.terminal_info()"
   ]
  },
  {
   "cell_type": "code",
   "execution_count": 2,
   "metadata": {},
   "outputs": [],
   "source": [
    "risk = pd.read_csv('1y_risk.csv')\n",
    "# risk"
   ]
  },
  {
   "cell_type": "code",
   "execution_count": 3,
   "metadata": {},
   "outputs": [],
   "source": [
    "# get risk (size and SL dist)\n"
   ]
  },
  {
   "cell_type": "code",
   "execution_count": 4,
   "metadata": {},
   "outputs": [],
   "source": [
    "# get risk * denomination * contract size\n",
    "\n",
    "# denomination \n",
    "syms = set(list(risk['sym']))\n",
    "# syms"
   ]
  },
  {
   "cell_type": "code",
   "execution_count": 6,
   "metadata": {},
   "outputs": [],
   "source": [
    "ticks = {}\n",
    "for sym in syms:\n",
    "    \n",
    "    # print(sym)\n",
    "    t = mt5.symbol_info_tick(sym)\n",
    "    # print(t)\n",
    "    p = (t.bid + t.ask) / 2\n",
    "    ticks[sym] = p\n",
    "    \n",
    "#     if sym[3:] == 'USD':\n",
    "#         print(sym, 1)\n",
    "#     else:\n",
    "#         print(sym, '1 / ' + sym[3:] + 'USD')"
   ]
  },
  {
   "cell_type": "code",
   "execution_count": 11,
   "metadata": {},
   "outputs": [],
   "source": [
    "denom = {}\n",
    "for sym in syms:\n",
    "    if sym[3:] == 'USD':\n",
    "        # print(sym, 1)\n",
    "        denom[sym] = 1\n",
    "    else:\n",
    "        if sym[3:] + 'USD' in syms:\n",
    "            # print(sym, sym[3:] + 'USD')\n",
    "            denom[sym] = ticks[sym[3:] + 'USD']\n",
    "        elif 'Index' in sym:\n",
    "            denom[sym] = 1\n",
    "        else:\n",
    "            # print(sym, 'USD' + sym[3:], 1/ticks['USD' + sym[3:]])\n",
    "            denom[sym] = 1/ticks['USD' + sym[3:]]"
   ]
  },
  {
   "cell_type": "code",
   "execution_count": 13,
   "metadata": {},
   "outputs": [],
   "source": [
    "risk = risk.to_dict(orient='records')"
   ]
  },
  {
   "cell_type": "code",
   "execution_count": 14,
   "metadata": {},
   "outputs": [],
   "source": [
    "# risk * denom * contract\n",
    "\n",
    "scaled_mvmt = {}\n",
    "\n",
    "for sym in syms:\n",
    "    if sym in [_['sym'] for _ in risk]:\n",
    "        r = list(filter(lambda x: x['sym'] == sym, risk))[0]['avg+std']\n",
    "        if sym[3:] == 'JPY':\n",
    "            r = r/100\n",
    "        if sym[3:] != 'JPY' and sym != 'BTCUSD' and sym != 'XAUUSD':\n",
    "            r = r/10000\n",
    "        c = 100 if sym == 'XAUUSD' else 1 if sym == 'BTCUSD' else 100000\n",
    "        scaled_mvmt[sym] = r * denom[sym] * c\n",
    "\n",
    "# scaled_mvmt"
   ]
  },
  {
   "cell_type": "code",
   "execution_count": 15,
   "metadata": {},
   "outputs": [
    {
     "data": {
      "text/plain": [
       "{'USDCHF': 189.35450286309216,\n",
       " 'AUDCAD': 151.54339246497076,\n",
       " 'EURCAD': 217.26622203132976,\n",
       " 'GBPCAD': 315.24267202606217,\n",
       " 'AUDNZD': 117.71553600000003,\n",
       " 'AUDJPY': 183.4144410761993,\n",
       " 'USDJPY': 156.06868821344082,\n",
       " 'CHFJPY': 189.53125421655318,\n",
       " 'NZDJPY': 171.0908616610746,\n",
       " 'CADJPY': 159.12709478361774,\n",
       " 'AUDCHF': 175.25594308519868,\n",
       " 'US500Index': 177.9,\n",
       " 'CADCHF': 153.67430157903868,\n",
       " 'EURGBP': 257.09571000000005,\n",
       " 'GBPNZD': 327.229524,\n",
       " 'NZDCAD': 155.19015859380696,\n",
       " 'EURCHF': 149.1193822661808,\n",
       " 'EURAUD': 244.206625,\n",
       " 'GBPAUD': 311.231951,\n",
       " 'NZDCHF': 167.8813118167621,\n",
       " 'GBPCHF': 309.6260628145063,\n",
       " 'XAUUSD': 948.0,\n",
       " 'GBPJPY': 307.6397197060332,\n",
       " 'EURJPY': 202.2146461693458,\n",
       " 'USDCAD': 200.00486235483848,\n",
       " 'BTCUSD': 902.95,\n",
       " 'EURUSD': 226.49999999999997,\n",
       " 'GBPUSD': 341.3,\n",
       " 'NZDUSD': 193.29999999999998,\n",
       " 'USTECHIndex': 829.5,\n",
       " 'AUDUSD': 208.00000000000003,\n",
       " 'EURNZD': 252.99007200000005}"
      ]
     },
     "execution_count": 15,
     "metadata": {},
     "output_type": "execute_result"
    }
   ],
   "source": [
    "scaled_mvmt"
   ]
  },
  {
   "cell_type": "code",
   "execution_count": 18,
   "metadata": {},
   "outputs": [],
   "source": [
    "# account balance\n",
    "account = mt5.account_info()\n",
    "\n",
    "# account.balance\n",
    "\n",
    "btc = mt5.symbol_info_tick('BTCUSD')\n",
    "btc_mid = (btc.bid + btc.ask) / 2\n",
    "btc_mid\n",
    "\n",
    "usd = account.balance * btc_mid * 0.000001\n",
    "\n",
    "fr = 0.03\n",
    "\n",
    "dr = usd * fr"
   ]
  },
  {
   "cell_type": "code",
   "execution_count": 19,
   "metadata": {},
   "outputs": [
    {
     "data": {
      "text/plain": [
       "23.056261925399998"
      ]
     },
     "execution_count": 19,
     "metadata": {},
     "output_type": "execute_result"
    }
   ],
   "source": [
    "dr"
   ]
  },
  {
   "cell_type": "code",
   "execution_count": 20,
   "metadata": {},
   "outputs": [],
   "source": [
    "size = {}\n",
    "for sym in syms:\n",
    "    if sym in [_['sym'] for _ in risk]:\n",
    "        # print(sym, dr/scaled_mvmt[sym])\n",
    "        size[sym] = round(dr/scaled_mvmt[sym], 2)"
   ]
  },
  {
   "cell_type": "code",
   "execution_count": 21,
   "metadata": {},
   "outputs": [
    {
     "data": {
      "text/plain": [
       "{'USDCHF': 0.12,\n",
       " 'AUDCAD': 0.15,\n",
       " 'EURCAD': 0.11,\n",
       " 'GBPCAD': 0.07,\n",
       " 'AUDNZD': 0.2,\n",
       " 'AUDJPY': 0.13,\n",
       " 'USDJPY': 0.15,\n",
       " 'CHFJPY': 0.12,\n",
       " 'NZDJPY': 0.13,\n",
       " 'CADJPY': 0.14,\n",
       " 'AUDCHF': 0.13,\n",
       " 'US500Index': 0.13,\n",
       " 'CADCHF': 0.15,\n",
       " 'EURGBP': 0.09,\n",
       " 'GBPNZD': 0.07,\n",
       " 'NZDCAD': 0.15,\n",
       " 'EURCHF': 0.15,\n",
       " 'EURAUD': 0.09,\n",
       " 'GBPAUD': 0.07,\n",
       " 'NZDCHF': 0.14,\n",
       " 'GBPCHF': 0.07,\n",
       " 'XAUUSD': 0.02,\n",
       " 'GBPJPY': 0.07,\n",
       " 'EURJPY': 0.11,\n",
       " 'USDCAD': 0.12,\n",
       " 'BTCUSD': 0.03,\n",
       " 'EURUSD': 0.1,\n",
       " 'GBPUSD': 0.07,\n",
       " 'NZDUSD': 0.12,\n",
       " 'USTECHIndex': 0.03,\n",
       " 'AUDUSD': 0.11,\n",
       " 'EURNZD': 0.09}"
      ]
     },
     "execution_count": 21,
     "metadata": {},
     "output_type": "execute_result"
    }
   ],
   "source": [
    "size"
   ]
  },
  {
   "cell_type": "code",
   "execution_count": 42,
   "metadata": {},
   "outputs": [],
   "source": [
    "dist = {}\n",
    "for sym in syms:\n",
    "    c = 100 if sym == 'XAUUSD'\\\n",
    "        else 1 if sym == 'BTCUSD'\\\n",
    "        else 10 if '500' in sym\\\n",
    "        else 10 if 'TECH' in sym\\\n",
    "        else 1000 if sym[3:] == 'JPY'\\\n",
    "        else 100000\n",
    "    if sym in [_['sym'] for _ in risk]:\n",
    "        # print(sym, scaled_mvmt[sym] / c)\n",
    "        if sym[3:] == 'JPY':\n",
    "            dist[sym] = round(scaled_mvmt[sym] / c, 3)\n",
    "        else:\n",
    "            dist[sym] = round(scaled_mvmt[sym] / c, 5)"
   ]
  },
  {
   "cell_type": "code",
   "execution_count": 43,
   "metadata": {},
   "outputs": [
    {
     "data": {
      "text/plain": [
       "{'USDCHF': 0.00189,\n",
       " 'AUDCAD': 0.00152,\n",
       " 'EURCAD': 0.00217,\n",
       " 'GBPCAD': 0.00315,\n",
       " 'AUDNZD': 0.00118,\n",
       " 'AUDJPY': 0.183,\n",
       " 'USDJPY': 0.156,\n",
       " 'CHFJPY': 0.19,\n",
       " 'NZDJPY': 0.171,\n",
       " 'CADJPY': 0.159,\n",
       " 'AUDCHF': 0.00175,\n",
       " 'US500Index': 17.79,\n",
       " 'CADCHF': 0.00154,\n",
       " 'EURGBP': 0.00257,\n",
       " 'GBPNZD': 0.00327,\n",
       " 'NZDCAD': 0.00155,\n",
       " 'EURCHF': 0.00149,\n",
       " 'EURAUD': 0.00244,\n",
       " 'GBPAUD': 0.00311,\n",
       " 'NZDCHF': 0.00168,\n",
       " 'GBPCHF': 0.0031,\n",
       " 'XAUUSD': 9.48,\n",
       " 'GBPJPY': 0.308,\n",
       " 'EURJPY': 0.202,\n",
       " 'USDCAD': 0.002,\n",
       " 'BTCUSD': 902.95,\n",
       " 'EURUSD': 0.00226,\n",
       " 'GBPUSD': 0.00341,\n",
       " 'NZDUSD': 0.00193,\n",
       " 'USTECHIndex': 82.95,\n",
       " 'AUDUSD': 0.00208,\n",
       " 'EURNZD': 0.00253}"
      ]
     },
     "execution_count": 43,
     "metadata": {},
     "output_type": "execute_result"
    }
   ],
   "source": [
    "dist"
   ]
  },
  {
   "cell_type": "code",
   "execution_count": 44,
   "metadata": {},
   "outputs": [],
   "source": [
    "risk_new = {}\n",
    "for s in size.keys():\n",
    "    risk_new[s] = {'size': size[s]}\n",
    "for d in dist.keys():\n",
    "    risk_new[d]['dist'] = dist[d]"
   ]
  },
  {
   "cell_type": "code",
   "execution_count": 45,
   "metadata": {},
   "outputs": [],
   "source": [
    "# risk_new['EURCAD'] = {'size': 0.03, 'dist': .0015}"
   ]
  },
  {
   "cell_type": "code",
   "execution_count": 46,
   "metadata": {},
   "outputs": [],
   "source": [
    "def update_order(tradeorder):\n",
    "    \n",
    "    # get the new params\n",
    "    print(tradeorder.symbol)\n",
    "    \n",
    "    # check if params different\n",
    "    print(risk_new[tradeorder.symbol])\n",
    "    \n",
    "    # will fail for sells\n",
    "    current_dist = round(abs(tradeorder.price_open - tradeorder.sl), 4)\n",
    "    print('current dist:', current_dist)\n",
    "    # if different, update to new\n",
    "    \n",
    "    # if no changes, return\n",
    "    if round(risk_new[tradeorder.symbol]['dist'], 4) == current_dist and risk_new[tradeorder.symbol]['size'] == tradeorder.volume_current:\n",
    "        return None\n",
    "    \n",
    "    # if duplicates return none\n",
    "    \n",
    "    \n",
    "    # set new_vol to current in case no change\n",
    "    new_vol = tradeorder.volume_current\n",
    "    # set new_sl to current in case no change\n",
    "    new_sl = tradeorder.sl\n",
    "    \n",
    "    if risk_new[tradeorder.symbol]['dist'] != current_dist:\n",
    "        # print('  change dist')\n",
    "        if tradeorder.type == 2:\n",
    "            # print('    new buy sl')\n",
    "            new_sl = tradeorder.price_open - risk_new[tradeorder.symbol]['dist']\n",
    "            # print('    ', new_sl)\n",
    "            \n",
    "            o_type = mt5.ORDER_TYPE_BUY_LIMIT\n",
    "            \n",
    "        elif tradeorder.type == 3:\n",
    "            # print('    new sell sl')\n",
    "            new_sl = tradeorder.price_open + risk_new[tradeorder.symbol]['dist']\n",
    "            # print('    ', new_sl)\n",
    "            \n",
    "            o_type = mt5.ORDER_TYPE_SELL_LIMIT\n",
    "        \n",
    "    if risk_new[tradeorder.symbol]['size'] != tradeorder.volume_current:\n",
    "        # print('  change volume')\n",
    "        new_vol = risk_new[tradeorder.symbol]['size']\n",
    "        # print('    ', new_vol)\n",
    "    \n",
    "    # cancel order\n",
    "    r = {\n",
    "        \"action\": mt5.TRADE_ACTION_REMOVE,\n",
    "        \"order\": tradeorder.ticket\n",
    "    }\n",
    "    result = mt5.order_send(r) \n",
    "    print('cancel:', result)\n",
    "    \n",
    "    r = {\n",
    "        \"action\": mt5.TRADE_ACTION_PENDING,\n",
    "        \"symbol\": tradeorder.symbol,\n",
    "        \"volume\": new_vol,\n",
    "        \"type\": o_type,\n",
    "        \"price\": tradeorder.price_open,\n",
    "        \"sl\": new_sl,\n",
    "        # \"tp\": _[1] + (_[3]*3),\n",
    "        \"deviation\": 10,\n",
    "        \"magic\": 9,\n",
    "        \"comment\": \"sent by python\",\n",
    "        \"type_time\": mt5.ORDER_TIME_GTC,\n",
    "        \"type_filling\": mt5.ORDER_FILLING_RETURN,\n",
    "    }\n",
    "    result = mt5.order_send(r) \n",
    "    print('cancel:', result)\n",
    "    \n",
    "    return result"
   ]
  },
  {
   "cell_type": "code",
   "execution_count": 47,
   "metadata": {},
   "outputs": [
    {
     "data": {
      "text/plain": [
       "{'USDCHF': {'size': 0.12, 'dist': 0.00189},\n",
       " 'AUDCAD': {'size': 0.15, 'dist': 0.00152},\n",
       " 'EURCAD': {'size': 0.11, 'dist': 0.00217},\n",
       " 'GBPCAD': {'size': 0.07, 'dist': 0.00315},\n",
       " 'AUDNZD': {'size': 0.2, 'dist': 0.00118},\n",
       " 'AUDJPY': {'size': 0.13, 'dist': 0.183},\n",
       " 'USDJPY': {'size': 0.15, 'dist': 0.156},\n",
       " 'CHFJPY': {'size': 0.12, 'dist': 0.19},\n",
       " 'NZDJPY': {'size': 0.13, 'dist': 0.171},\n",
       " 'CADJPY': {'size': 0.14, 'dist': 0.159},\n",
       " 'AUDCHF': {'size': 0.13, 'dist': 0.00175},\n",
       " 'US500Index': {'size': 0.13, 'dist': 17.79},\n",
       " 'CADCHF': {'size': 0.15, 'dist': 0.00154},\n",
       " 'EURGBP': {'size': 0.09, 'dist': 0.00257},\n",
       " 'GBPNZD': {'size': 0.07, 'dist': 0.00327},\n",
       " 'NZDCAD': {'size': 0.15, 'dist': 0.00155},\n",
       " 'EURCHF': {'size': 0.15, 'dist': 0.00149},\n",
       " 'EURAUD': {'size': 0.09, 'dist': 0.00244},\n",
       " 'GBPAUD': {'size': 0.07, 'dist': 0.00311},\n",
       " 'NZDCHF': {'size': 0.14, 'dist': 0.00168},\n",
       " 'GBPCHF': {'size': 0.07, 'dist': 0.0031},\n",
       " 'XAUUSD': {'size': 0.02, 'dist': 9.48},\n",
       " 'GBPJPY': {'size': 0.07, 'dist': 0.308},\n",
       " 'EURJPY': {'size': 0.11, 'dist': 0.202},\n",
       " 'USDCAD': {'size': 0.12, 'dist': 0.002},\n",
       " 'BTCUSD': {'size': 0.03, 'dist': 902.95},\n",
       " 'EURUSD': {'size': 0.1, 'dist': 0.00226},\n",
       " 'GBPUSD': {'size': 0.07, 'dist': 0.00341},\n",
       " 'NZDUSD': {'size': 0.12, 'dist': 0.00193},\n",
       " 'USTECHIndex': {'size': 0.03, 'dist': 82.95},\n",
       " 'AUDUSD': {'size': 0.11, 'dist': 0.00208},\n",
       " 'EURNZD': {'size': 0.09, 'dist': 0.00253}}"
      ]
     },
     "execution_count": 47,
     "metadata": {},
     "output_type": "execute_result"
    }
   ],
   "source": [
    "risk_new"
   ]
  },
  {
   "cell_type": "code",
   "execution_count": 48,
   "metadata": {},
   "outputs": [],
   "source": [
    "# get current working orders\n",
    "o = mt5.orders_get()"
   ]
  },
  {
   "cell_type": "code",
   "execution_count": 49,
   "metadata": {
    "scrolled": false
   },
   "outputs": [
    {
     "name": "stdout",
     "output_type": "stream",
     "text": [
      "CHFJPY\n",
      "{'size': 0.12, 'dist': 0.19}\n",
      "current dist: 0.197\n",
      "cancel: OrderSendResult(retcode=10009, deal=0, order=5785603, volume=0.0, price=0.0, bid=0.0, ask=0.0, comment='Request executed', request_id=4, retcode_external=0, request=TradeRequest(action=8, magic=0, order=5785603, symbol='', volume=0.0, price=0.0, stoplimit=0.0, sl=0.0, tp=0.0, deviation=0, type=0, type_filling=0, type_time=0, expiration=0, comment='', position=0, position_by=0))\n",
      "cancel: OrderSendResult(retcode=10009, deal=0, order=5844624, volume=0.12, price=0.0, bid=0.0, ask=0.0, comment='Request executed', request_id=5, retcode_external=0, request=TradeRequest(action=5, magic=9, order=0, symbol='CHFJPY', volume=0.12, price=118.848, stoplimit=0.0, sl=118.658, tp=0.0, deviation=10, type=2, type_filling=2, type_time=0, expiration=0, comment='sent by python', position=0, position_by=0))\n",
      "USDJPY\n",
      "{'size': 0.15, 'dist': 0.156}\n",
      "current dist: 0.162\n",
      "cancel: OrderSendResult(retcode=10009, deal=0, order=5785611, volume=0.0, price=0.0, bid=0.0, ask=0.0, comment='Request executed', request_id=6, retcode_external=0, request=TradeRequest(action=8, magic=0, order=5785611, symbol='', volume=0.0, price=0.0, stoplimit=0.0, sl=0.0, tp=0.0, deviation=0, type=0, type_filling=0, type_time=0, expiration=0, comment='', position=0, position_by=0))\n",
      "cancel: OrderSendResult(retcode=10009, deal=0, order=5844625, volume=0.15, price=0.0, bid=0.0, ask=0.0, comment='Request executed', request_id=7, retcode_external=0, request=TradeRequest(action=5, magic=9, order=0, symbol='USDJPY', volume=0.15, price=108.456, stoplimit=0.0, sl=108.3, tp=0.0, deviation=10, type=2, type_filling=2, type_time=0, expiration=0, comment='sent by python', position=0, position_by=0))\n",
      "USDJPY\n",
      "{'size': 0.15, 'dist': 0.156}\n",
      "current dist: 0.162\n",
      "cancel: OrderSendResult(retcode=10009, deal=0, order=5785612, volume=0.0, price=0.0, bid=0.0, ask=0.0, comment='Request executed', request_id=8, retcode_external=0, request=TradeRequest(action=8, magic=0, order=5785612, symbol='', volume=0.0, price=0.0, stoplimit=0.0, sl=0.0, tp=0.0, deviation=0, type=0, type_filling=0, type_time=0, expiration=0, comment='', position=0, position_by=0))\n",
      "cancel: OrderSendResult(retcode=10009, deal=0, order=5844626, volume=0.15, price=0.0, bid=0.0, ask=0.0, comment='Request executed', request_id=9, retcode_external=0, request=TradeRequest(action=5, magic=9, order=0, symbol='USDJPY', volume=0.15, price=107.871, stoplimit=0.0, sl=107.71499999999999, tp=0.0, deviation=10, type=2, type_filling=2, type_time=0, expiration=0, comment='sent by python', position=0, position_by=0))\n",
      "XAUUSD\n",
      "{'size': 0.02, 'dist': 9.48}\n",
      "current dist: 9.49\n",
      "cancel: OrderSendResult(retcode=10009, deal=0, order=5785613, volume=0.0, price=0.0, bid=0.0, ask=0.0, comment='Request executed', request_id=10, retcode_external=0, request=TradeRequest(action=8, magic=0, order=5785613, symbol='', volume=0.0, price=0.0, stoplimit=0.0, sl=0.0, tp=0.0, deviation=0, type=0, type_filling=0, type_time=0, expiration=0, comment='', position=0, position_by=0))\n",
      "cancel: OrderSendResult(retcode=10009, deal=0, order=5844627, volume=0.02, price=0.0, bid=0.0, ask=0.0, comment='Request executed', request_id=11, retcode_external=0, request=TradeRequest(action=5, magic=9, order=0, symbol='XAUUSD', volume=0.02, price=1946.85, stoplimit=0.0, sl=1956.33, tp=0.0, deviation=10, type=3, type_filling=2, type_time=0, expiration=0, comment='sent by python', position=0, position_by=0))\n",
      "USDJPY\n",
      "{'size': 0.15, 'dist': 0.156}\n",
      "current dist: 0.162\n",
      "cancel: OrderSendResult(retcode=10009, deal=0, order=5785615, volume=0.0, price=0.0, bid=0.0, ask=0.0, comment='Request executed', request_id=12, retcode_external=0, request=TradeRequest(action=8, magic=0, order=5785615, symbol='', volume=0.0, price=0.0, stoplimit=0.0, sl=0.0, tp=0.0, deviation=0, type=0, type_filling=0, type_time=0, expiration=0, comment='', position=0, position_by=0))\n",
      "cancel: OrderSendResult(retcode=10009, deal=0, order=5844628, volume=0.15, price=0.0, bid=0.0, ask=0.0, comment='Request executed', request_id=13, retcode_external=0, request=TradeRequest(action=5, magic=9, order=0, symbol='USDJPY', volume=0.15, price=109.128, stoplimit=0.0, sl=108.972, tp=0.0, deviation=10, type=2, type_filling=2, type_time=0, expiration=0, comment='sent by python', position=0, position_by=0))\n",
      "GBPUSD\n",
      "{'size': 0.07, 'dist': 0.00341}\n",
      "current dist: 0.0035\n",
      "cancel: OrderSendResult(retcode=10009, deal=0, order=5785616, volume=0.0, price=0.0, bid=0.0, ask=0.0, comment='Request executed', request_id=14, retcode_external=0, request=TradeRequest(action=8, magic=0, order=5785616, symbol='', volume=0.0, price=0.0, stoplimit=0.0, sl=0.0, tp=0.0, deviation=0, type=0, type_filling=0, type_time=0, expiration=0, comment='', position=0, position_by=0))\n",
      "cancel: OrderSendResult(retcode=10009, deal=0, order=5844629, volume=0.07, price=0.0, bid=0.0, ask=0.0, comment='Request executed', request_id=15, retcode_external=0, request=TradeRequest(action=5, magic=9, order=0, symbol='GBPUSD', volume=0.07, price=1.4221, stoplimit=0.0, sl=1.4255099999999998, tp=0.0, deviation=10, type=3, type_filling=2, type_time=0, expiration=0, comment='sent by python', position=0, position_by=0))\n",
      "EURJPY\n",
      "{'size': 0.11, 'dist': 0.202}\n",
      "current dist: 0.22\n",
      "cancel: OrderSendResult(retcode=10009, deal=0, order=5785620, volume=0.0, price=0.0, bid=0.0, ask=0.0, comment='Request executed', request_id=16, retcode_external=0, request=TradeRequest(action=8, magic=0, order=5785620, symbol='', volume=0.0, price=0.0, stoplimit=0.0, sl=0.0, tp=0.0, deviation=0, type=0, type_filling=0, type_time=0, expiration=0, comment='', position=0, position_by=0))\n",
      "cancel: OrderSendResult(retcode=10009, deal=0, order=5844630, volume=0.11, price=0.0, bid=0.0, ask=0.0, comment='Request executed', request_id=17, retcode_external=0, request=TradeRequest(action=5, magic=9, order=0, symbol='EURJPY', volume=0.11, price=134.022, stoplimit=0.0, sl=134.224, tp=0.0, deviation=10, type=3, type_filling=2, type_time=0, expiration=0, comment='sent by python', position=0, position_by=0))\n",
      "EURAUD\n",
      "{'size': 0.09, 'dist': 0.00244}\n",
      "current dist: 0.0027\n",
      "cancel: OrderSendResult(retcode=10009, deal=0, order=5785635, volume=0.0, price=0.0, bid=0.0, ask=0.0, comment='Request executed', request_id=18, retcode_external=0, request=TradeRequest(action=8, magic=0, order=5785635, symbol='', volume=0.0, price=0.0, stoplimit=0.0, sl=0.0, tp=0.0, deviation=0, type=0, type_filling=0, type_time=0, expiration=0, comment='', position=0, position_by=0))\n",
      "cancel: OrderSendResult(retcode=10009, deal=0, order=5844631, volume=0.09, price=0.0, bid=0.0, ask=0.0, comment='Request executed', request_id=19, retcode_external=0, request=TradeRequest(action=5, magic=9, order=0, symbol='EURAUD', volume=0.09, price=1.56145, stoplimit=0.0, sl=1.55901, tp=0.0, deviation=10, type=2, type_filling=2, type_time=0, expiration=0, comment='sent by python', position=0, position_by=0))\n",
      "CADCHF\n",
      "{'size': 0.15, 'dist': 0.00154}\n",
      "current dist: 0.0016\n",
      "cancel: OrderSendResult(retcode=10009, deal=0, order=5785636, volume=0.0, price=0.0, bid=0.0, ask=0.0, comment='Request executed', request_id=20, retcode_external=0, request=TradeRequest(action=8, magic=0, order=5785636, symbol='', volume=0.0, price=0.0, stoplimit=0.0, sl=0.0, tp=0.0, deviation=0, type=0, type_filling=0, type_time=0, expiration=0, comment='', position=0, position_by=0))\n",
      "cancel: OrderSendResult(retcode=10009, deal=0, order=5844632, volume=0.15, price=0.0, bid=0.0, ask=0.0, comment='Request executed', request_id=21, retcode_external=0, request=TradeRequest(action=5, magic=9, order=0, symbol='CADCHF', volume=0.15, price=0.73336, stoplimit=0.0, sl=0.73182, tp=0.0, deviation=10, type=2, type_filling=2, type_time=0, expiration=0, comment='sent by python', position=0, position_by=0))\n",
      "EURUSD\n",
      "{'size': 0.1, 'dist': 0.00226}\n",
      "current dist: 0.0023\n",
      "cancel: OrderSendResult(retcode=10009, deal=0, order=5785637, volume=0.0, price=0.0, bid=0.0, ask=0.0, comment='Request executed', request_id=22, retcode_external=0, request=TradeRequest(action=8, magic=0, order=5785637, symbol='', volume=0.0, price=0.0, stoplimit=0.0, sl=0.0, tp=0.0, deviation=0, type=0, type_filling=0, type_time=0, expiration=0, comment='', position=0, position_by=0))\n",
      "cancel: OrderSendResult(retcode=10009, deal=0, order=5844633, volume=0.1, price=0.0, bid=0.0, ask=0.0, comment='Request executed', request_id=23, retcode_external=0, request=TradeRequest(action=5, magic=9, order=0, symbol='EURUSD', volume=0.1, price=1.2255, stoplimit=0.0, sl=1.22776, tp=0.0, deviation=10, type=3, type_filling=2, type_time=0, expiration=0, comment='sent by python', position=0, position_by=0))\n",
      "GBPAUD\n",
      "{'size': 0.07, 'dist': 0.00311}\n",
      "current dist: 0.0033\n"
     ]
    },
    {
     "name": "stdout",
     "output_type": "stream",
     "text": [
      "cancel: OrderSendResult(retcode=10009, deal=0, order=5785639, volume=0.0, price=0.0, bid=0.0, ask=0.0, comment='Request executed', request_id=24, retcode_external=0, request=TradeRequest(action=8, magic=0, order=5785639, symbol='', volume=0.0, price=0.0, stoplimit=0.0, sl=0.0, tp=0.0, deviation=0, type=0, type_filling=0, type_time=0, expiration=0, comment='', position=0, position_by=0))\n",
      "cancel: OrderSendResult(retcode=10009, deal=0, order=5844634, volume=0.07, price=0.0, bid=0.0, ask=0.0, comment='Request executed', request_id=25, retcode_external=0, request=TradeRequest(action=5, magic=9, order=0, symbol='GBPAUD', volume=0.07, price=1.80413, stoplimit=0.0, sl=1.80102, tp=0.0, deviation=10, type=2, type_filling=2, type_time=0, expiration=0, comment='sent by python', position=0, position_by=0))\n",
      "EURNZD\n",
      "{'size': 0.09, 'dist': 0.00253}\n",
      "current dist: 0.0026\n",
      "cancel: OrderSendResult(retcode=10009, deal=0, order=5785640, volume=0.0, price=0.0, bid=0.0, ask=0.0, comment='Request executed', request_id=26, retcode_external=0, request=TradeRequest(action=8, magic=0, order=5785640, symbol='', volume=0.0, price=0.0, stoplimit=0.0, sl=0.0, tp=0.0, deviation=0, type=0, type_filling=0, type_time=0, expiration=0, comment='', position=0, position_by=0))\n",
      "cancel: OrderSendResult(retcode=10009, deal=0, order=5844635, volume=0.09, price=0.0, bid=0.0, ask=0.0, comment='Request executed', request_id=27, retcode_external=0, request=TradeRequest(action=5, magic=9, order=0, symbol='EURNZD', volume=0.09, price=1.67116, stoplimit=0.0, sl=1.66863, tp=0.0, deviation=10, type=2, type_filling=2, type_time=0, expiration=0, comment='sent by python', position=0, position_by=0))\n",
      "EURAUD\n",
      "{'size': 0.09, 'dist': 0.00244}\n",
      "current dist: 0.0027\n",
      "cancel: OrderSendResult(retcode=10009, deal=0, order=5785641, volume=0.0, price=0.0, bid=0.0, ask=0.0, comment='Request executed', request_id=28, retcode_external=0, request=TradeRequest(action=8, magic=0, order=5785641, symbol='', volume=0.0, price=0.0, stoplimit=0.0, sl=0.0, tp=0.0, deviation=0, type=0, type_filling=0, type_time=0, expiration=0, comment='', position=0, position_by=0))\n",
      "cancel: OrderSendResult(retcode=10009, deal=0, order=5844636, volume=0.09, price=0.0, bid=0.0, ask=0.0, comment='Request executed', request_id=29, retcode_external=0, request=TradeRequest(action=5, magic=9, order=0, symbol='EURAUD', volume=0.09, price=1.5641699999999998, stoplimit=0.0, sl=1.5617299999999998, tp=0.0, deviation=10, type=2, type_filling=2, type_time=0, expiration=0, comment='sent by python', position=0, position_by=0))\n",
      "USDCHF\n",
      "{'size': 0.12, 'dist': 0.00189}\n",
      "current dist: 0.0019\n",
      "cancel: OrderSendResult(retcode=10009, deal=0, order=5785642, volume=0.0, price=0.0, bid=0.0, ask=0.0, comment='Request executed', request_id=30, retcode_external=0, request=TradeRequest(action=8, magic=0, order=5785642, symbol='', volume=0.0, price=0.0, stoplimit=0.0, sl=0.0, tp=0.0, deviation=0, type=0, type_filling=0, type_time=0, expiration=0, comment='', position=0, position_by=0))\n",
      "cancel: OrderSendResult(retcode=10009, deal=0, order=5844637, volume=0.12, price=0.0, bid=0.0, ask=0.0, comment='Request executed', request_id=31, retcode_external=0, request=TradeRequest(action=5, magic=9, order=0, symbol='USDCHF', volume=0.12, price=0.89361, stoplimit=0.0, sl=0.8917200000000001, tp=0.0, deviation=10, type=2, type_filling=2, type_time=0, expiration=0, comment='sent by python', position=0, position_by=0))\n",
      "EURJPY\n",
      "{'size': 0.11, 'dist': 0.202}\n",
      "current dist: 0.203\n",
      "cancel: OrderSendResult(retcode=10009, deal=0, order=5786771, volume=0.0, price=0.0, bid=0.0, ask=0.0, comment='Request executed', request_id=32, retcode_external=0, request=TradeRequest(action=8, magic=0, order=5786771, symbol='', volume=0.0, price=0.0, stoplimit=0.0, sl=0.0, tp=0.0, deviation=0, type=0, type_filling=0, type_time=0, expiration=0, comment='', position=0, position_by=0))\n",
      "cancel: OrderSendResult(retcode=10009, deal=0, order=5844638, volume=0.11, price=0.0, bid=0.0, ask=0.0, comment='Request executed', request_id=33, retcode_external=0, request=TradeRequest(action=5, magic=9, order=0, symbol='EURJPY', volume=0.11, price=129.7, stoplimit=0.0, sl=129.498, tp=0.0, deviation=10, type=2, type_filling=2, type_time=0, expiration=0, comment='sent by python', position=0, position_by=0))\n",
      "EURJPY\n",
      "{'size': 0.11, 'dist': 0.202}\n",
      "current dist: 0.203\n",
      "cancel: OrderSendResult(retcode=10009, deal=0, order=5786772, volume=0.0, price=0.0, bid=0.0, ask=0.0, comment='Request executed', request_id=34, retcode_external=0, request=TradeRequest(action=8, magic=0, order=5786772, symbol='', volume=0.0, price=0.0, stoplimit=0.0, sl=0.0, tp=0.0, deviation=0, type=0, type_filling=0, type_time=0, expiration=0, comment='', position=0, position_by=0))\n",
      "cancel: OrderSendResult(retcode=10009, deal=0, order=5844639, volume=0.11, price=0.0, bid=0.0, ask=0.0, comment='Request executed', request_id=35, retcode_external=0, request=TradeRequest(action=5, magic=9, order=0, symbol='EURJPY', volume=0.11, price=133.573, stoplimit=0.0, sl=133.775, tp=0.0, deviation=10, type=3, type_filling=2, type_time=0, expiration=0, comment='sent by python', position=0, position_by=0))\n",
      "EURUSD\n",
      "{'size': 0.1, 'dist': 0.00226}\n",
      "current dist: 0.0018\n",
      "cancel: OrderSendResult(retcode=10009, deal=0, order=5786773, volume=0.0, price=0.0, bid=0.0, ask=0.0, comment='Request executed', request_id=36, retcode_external=0, request=TradeRequest(action=8, magic=0, order=5786773, symbol='', volume=0.0, price=0.0, stoplimit=0.0, sl=0.0, tp=0.0, deviation=0, type=0, type_filling=0, type_time=0, expiration=0, comment='', position=0, position_by=0))\n",
      "cancel: OrderSendResult(retcode=10009, deal=0, order=5844640, volume=0.1, price=0.0, bid=0.0, ask=0.0, comment='Request executed', request_id=37, retcode_external=0, request=TradeRequest(action=5, magic=9, order=0, symbol='EURUSD', volume=0.1, price=1.17051, stoplimit=0.0, sl=1.16825, tp=0.0, deviation=10, type=2, type_filling=2, type_time=0, expiration=0, comment='sent by python', position=0, position_by=0))\n",
      "GBPUSD\n",
      "{'size': 0.07, 'dist': 0.00341}\n",
      "current dist: 0.0024\n",
      "cancel: OrderSendResult(retcode=10009, deal=0, order=5786775, volume=0.0, price=0.0, bid=0.0, ask=0.0, comment='Request executed', request_id=38, retcode_external=0, request=TradeRequest(action=8, magic=0, order=5786775, symbol='', volume=0.0, price=0.0, stoplimit=0.0, sl=0.0, tp=0.0, deviation=0, type=0, type_filling=0, type_time=0, expiration=0, comment='', position=0, position_by=0))\n",
      "cancel: OrderSendResult(retcode=10009, deal=0, order=5844641, volume=0.07, price=0.0, bid=0.0, ask=0.0, comment='Request executed', request_id=39, retcode_external=0, request=TradeRequest(action=5, magic=9, order=0, symbol='GBPUSD', volume=0.07, price=1.4131, stoplimit=0.0, sl=1.41651, tp=0.0, deviation=10, type=3, type_filling=2, type_time=0, expiration=0, comment='sent by python', position=0, position_by=0))\n",
      "GBPUSD\n",
      "{'size': 0.07, 'dist': 0.00341}\n",
      "current dist: 0.0024\n",
      "cancel: OrderSendResult(retcode=10009, deal=0, order=5786776, volume=0.0, price=0.0, bid=0.0, ask=0.0, comment='Request executed', request_id=40, retcode_external=0, request=TradeRequest(action=8, magic=0, order=5786776, symbol='', volume=0.0, price=0.0, stoplimit=0.0, sl=0.0, tp=0.0, deviation=0, type=0, type_filling=0, type_time=0, expiration=0, comment='', position=0, position_by=0))\n",
      "cancel: OrderSendResult(retcode=10009, deal=0, order=5844642, volume=0.07, price=0.0, bid=0.0, ask=0.0, comment='Request executed', request_id=41, retcode_external=0, request=TradeRequest(action=5, magic=9, order=0, symbol='GBPUSD', volume=0.07, price=1.36883, stoplimit=0.0, sl=1.36542, tp=0.0, deviation=10, type=2, type_filling=2, type_time=0, expiration=0, comment='sent by python', position=0, position_by=0))\n",
      "USDCAD\n",
      "{'size': 0.12, 'dist': 0.002}\n",
      "current dist: 0.0021\n",
      "cancel: OrderSendResult(retcode=10009, deal=0, order=5786777, volume=0.0, price=0.0, bid=0.0, ask=0.0, comment='Request executed', request_id=42, retcode_external=0, request=TradeRequest(action=8, magic=0, order=5786777, symbol='', volume=0.0, price=0.0, stoplimit=0.0, sl=0.0, tp=0.0, deviation=0, type=0, type_filling=0, type_time=0, expiration=0, comment='', position=0, position_by=0))\n",
      "cancel: OrderSendResult(retcode=10009, deal=0, order=5844643, volume=0.12, price=0.0, bid=0.0, ask=0.0, comment='Request executed', request_id=43, retcode_external=0, request=TradeRequest(action=5, magic=9, order=0, symbol='USDCAD', volume=0.12, price=1.2505899999999999, stoplimit=0.0, sl=1.2525899999999999, tp=0.0, deviation=10, type=3, type_filling=2, type_time=0, expiration=0, comment='sent by python', position=0, position_by=0))\n",
      "USDCHF\n",
      "{'size': 0.12, 'dist': 0.00189}\n",
      "current dist: 0.0012\n",
      "cancel: OrderSendResult(retcode=10009, deal=0, order=5786778, volume=0.0, price=0.0, bid=0.0, ask=0.0, comment='Request executed', request_id=44, retcode_external=0, request=TradeRequest(action=8, magic=0, order=5786778, symbol='', volume=0.0, price=0.0, stoplimit=0.0, sl=0.0, tp=0.0, deviation=0, type=0, type_filling=0, type_time=0, expiration=0, comment='', position=0, position_by=0))\n"
     ]
    },
    {
     "name": "stdout",
     "output_type": "stream",
     "text": [
      "cancel: OrderSendResult(retcode=10009, deal=0, order=5844644, volume=0.12, price=0.0, bid=0.0, ask=0.0, comment='Request executed', request_id=45, retcode_external=0, request=TradeRequest(action=5, magic=9, order=0, symbol='USDCHF', volume=0.12, price=0.94358, stoplimit=0.0, sl=0.9454699999999999, tp=0.0, deviation=10, type=3, type_filling=2, type_time=0, expiration=0, comment='sent by python', position=0, position_by=0))\n",
      "USDCHF\n",
      "{'size': 0.12, 'dist': 0.00189}\n",
      "current dist: 0.0013\n",
      "cancel: OrderSendResult(retcode=10009, deal=0, order=5786779, volume=0.0, price=0.0, bid=0.0, ask=0.0, comment='Request executed', request_id=46, retcode_external=0, request=TradeRequest(action=8, magic=0, order=5786779, symbol='', volume=0.0, price=0.0, stoplimit=0.0, sl=0.0, tp=0.0, deviation=0, type=0, type_filling=0, type_time=0, expiration=0, comment='', position=0, position_by=0))\n",
      "cancel: OrderSendResult(retcode=10009, deal=0, order=5844645, volume=0.12, price=0.0, bid=0.0, ask=0.0, comment='Request executed', request_id=47, retcode_external=0, request=TradeRequest(action=5, magic=9, order=0, symbol='USDCHF', volume=0.12, price=0.84784, stoplimit=0.0, sl=0.8459500000000001, tp=0.0, deviation=10, type=2, type_filling=2, type_time=0, expiration=0, comment='sent by python', position=0, position_by=0))\n",
      "NZDUSD\n",
      "{'size': 0.12, 'dist': 0.00193}\n",
      "current dist: 0.0015\n",
      "cancel: OrderSendResult(retcode=10009, deal=0, order=5786781, volume=0.0, price=0.0, bid=0.0, ask=0.0, comment='Request executed', request_id=48, retcode_external=0, request=TradeRequest(action=8, magic=0, order=5786781, symbol='', volume=0.0, price=0.0, stoplimit=0.0, sl=0.0, tp=0.0, deviation=0, type=0, type_filling=0, type_time=0, expiration=0, comment='', position=0, position_by=0))\n",
      "cancel: OrderSendResult(retcode=10009, deal=0, order=5844646, volume=0.12, price=0.0, bid=0.0, ask=0.0, comment='Request executed', request_id=49, retcode_external=0, request=TradeRequest(action=5, magic=9, order=0, symbol='NZDUSD', volume=0.12, price=0.72412, stoplimit=0.0, sl=0.72605, tp=0.0, deviation=10, type=3, type_filling=2, type_time=0, expiration=0, comment='sent by python', position=0, position_by=0))\n",
      "CHFJPY\n",
      "{'size': 0.12, 'dist': 0.19}\n",
      "current dist: 0.217\n",
      "cancel: OrderSendResult(retcode=10009, deal=0, order=5815636, volume=0.0, price=0.0, bid=0.0, ask=0.0, comment='Request executed', request_id=50, retcode_external=0, request=TradeRequest(action=8, magic=0, order=5815636, symbol='', volume=0.0, price=0.0, stoplimit=0.0, sl=0.0, tp=0.0, deviation=0, type=0, type_filling=0, type_time=0, expiration=0, comment='', position=0, position_by=0))\n",
      "cancel: OrderSendResult(retcode=10009, deal=0, order=5844647, volume=0.12, price=0.0, bid=0.0, ask=0.0, comment='Request executed', request_id=51, retcode_external=0, request=TradeRequest(action=5, magic=9, order=0, symbol='CHFJPY', volume=0.12, price=122.283, stoplimit=0.0, sl=122.473, tp=0.0, deviation=10, type=3, type_filling=2, type_time=0, expiration=0, comment='sent by python', position=0, position_by=0))\n",
      "EURNZD\n",
      "{'size': 0.09, 'dist': 0.00253}\n",
      "current dist: 0.0038\n",
      "cancel: OrderSendResult(retcode=10009, deal=0, order=5815638, volume=0.0, price=0.0, bid=0.0, ask=0.0, comment='Request executed', request_id=52, retcode_external=0, request=TradeRequest(action=8, magic=0, order=5815638, symbol='', volume=0.0, price=0.0, stoplimit=0.0, sl=0.0, tp=0.0, deviation=0, type=0, type_filling=0, type_time=0, expiration=0, comment='', position=0, position_by=0))\n",
      "cancel: OrderSendResult(retcode=10009, deal=0, order=5844648, volume=0.09, price=0.0, bid=0.0, ask=0.0, comment='Request executed', request_id=53, retcode_external=0, request=TradeRequest(action=5, magic=9, order=0, symbol='EURNZD', volume=0.09, price=1.7061600000000001, stoplimit=0.0, sl=1.70869, tp=0.0, deviation=10, type=3, type_filling=2, type_time=0, expiration=0, comment='sent by python', position=0, position_by=0))\n",
      "EURUSD\n",
      "{'size': 0.1, 'dist': 0.00226}\n",
      "current dist: 0.0023\n",
      "cancel: OrderSendResult(retcode=10009, deal=0, order=5815639, volume=0.0, price=0.0, bid=0.0, ask=0.0, comment='Request executed', request_id=54, retcode_external=0, request=TradeRequest(action=8, magic=0, order=5815639, symbol='', volume=0.0, price=0.0, stoplimit=0.0, sl=0.0, tp=0.0, deviation=0, type=0, type_filling=0, type_time=0, expiration=0, comment='', position=0, position_by=0))\n",
      "cancel: OrderSendResult(retcode=10009, deal=0, order=5844649, volume=0.1, price=0.0, bid=0.0, ask=0.0, comment='Request executed', request_id=55, retcode_external=0, request=TradeRequest(action=5, magic=9, order=0, symbol='EURUSD', volume=0.1, price=1.21285, stoplimit=0.0, sl=1.21511, tp=0.0, deviation=10, type=3, type_filling=2, type_time=0, expiration=0, comment='sent by python', position=0, position_by=0))\n",
      "GBPUSD\n",
      "{'size': 0.07, 'dist': 0.00341}\n",
      "current dist: 0.0035\n",
      "cancel: OrderSendResult(retcode=10009, deal=0, order=5815641, volume=0.0, price=0.0, bid=0.0, ask=0.0, comment='Request executed', request_id=56, retcode_external=0, request=TradeRequest(action=8, magic=0, order=5815641, symbol='', volume=0.0, price=0.0, stoplimit=0.0, sl=0.0, tp=0.0, deviation=0, type=0, type_filling=0, type_time=0, expiration=0, comment='', position=0, position_by=0))\n",
      "cancel: OrderSendResult(retcode=10009, deal=0, order=5844650, volume=0.07, price=0.0, bid=0.0, ask=0.0, comment='Request executed', request_id=57, retcode_external=0, request=TradeRequest(action=5, magic=9, order=0, symbol='GBPUSD', volume=0.07, price=1.39799, stoplimit=0.0, sl=1.4014, tp=0.0, deviation=10, type=3, type_filling=2, type_time=0, expiration=0, comment='sent by python', position=0, position_by=0))\n",
      "USDCAD\n",
      "{'size': 0.12, 'dist': 0.002}\n",
      "current dist: 0.0026\n",
      "cancel: OrderSendResult(retcode=10009, deal=0, order=5815642, volume=0.0, price=0.0, bid=0.0, ask=0.0, comment='Request executed', request_id=58, retcode_external=0, request=TradeRequest(action=8, magic=0, order=5815642, symbol='', volume=0.0, price=0.0, stoplimit=0.0, sl=0.0, tp=0.0, deviation=0, type=0, type_filling=0, type_time=0, expiration=0, comment='', position=0, position_by=0))\n",
      "cancel: OrderSendResult(retcode=10009, deal=0, order=5844651, volume=0.12, price=0.0, bid=0.0, ask=0.0, comment='Request executed', request_id=59, retcode_external=0, request=TradeRequest(action=5, magic=9, order=0, symbol='USDCAD', volume=0.12, price=1.2162, stoplimit=0.0, sl=1.2142, tp=0.0, deviation=10, type=2, type_filling=2, type_time=0, expiration=0, comment='sent by python', position=0, position_by=0))\n",
      "USDCHF\n",
      "{'size': 0.12, 'dist': 0.00189}\n",
      "current dist: 0.0018\n",
      "cancel: OrderSendResult(retcode=10009, deal=0, order=5815643, volume=0.0, price=0.0, bid=0.0, ask=0.0, comment='Request executed', request_id=60, retcode_external=0, request=TradeRequest(action=8, magic=0, order=5815643, symbol='', volume=0.0, price=0.0, stoplimit=0.0, sl=0.0, tp=0.0, deviation=0, type=0, type_filling=0, type_time=0, expiration=0, comment='', position=0, position_by=0))\n",
      "cancel: OrderSendResult(retcode=10009, deal=0, order=5844652, volume=0.12, price=0.0, bid=0.0, ask=0.0, comment='Request executed', request_id=61, retcode_external=0, request=TradeRequest(action=5, magic=9, order=0, symbol='USDCHF', volume=0.12, price=0.908, stoplimit=0.0, sl=0.9061100000000001, tp=0.0, deviation=10, type=2, type_filling=2, type_time=0, expiration=0, comment='sent by python', position=0, position_by=0))\n",
      "USDJPY\n",
      "{'size': 0.15, 'dist': 0.156}\n",
      "current dist: 0.178\n",
      "cancel: OrderSendResult(retcode=10009, deal=0, order=5815644, volume=0.0, price=0.0, bid=0.0, ask=0.0, comment='Request executed', request_id=62, retcode_external=0, request=TradeRequest(action=8, magic=0, order=5815644, symbol='', volume=0.0, price=0.0, stoplimit=0.0, sl=0.0, tp=0.0, deviation=0, type=0, type_filling=0, type_time=0, expiration=0, comment='', position=0, position_by=0))\n",
      "cancel: OrderSendResult(retcode=10009, deal=0, order=5844653, volume=0.15, price=0.0, bid=0.0, ask=0.0, comment='Request executed', request_id=63, retcode_external=0, request=TradeRequest(action=5, magic=9, order=0, symbol='USDJPY', volume=0.15, price=110.246, stoplimit=0.0, sl=110.08999999999999, tp=0.0, deviation=10, type=2, type_filling=2, type_time=0, expiration=0, comment='sent by python', position=0, position_by=0))\n",
      "NZDUSD\n",
      "{'size': 0.12, 'dist': 0.00193}\n",
      "current dist: 0.002\n"
     ]
    },
    {
     "name": "stdout",
     "output_type": "stream",
     "text": [
      "cancel: OrderSendResult(retcode=10009, deal=0, order=5815645, volume=0.0, price=0.0, bid=0.0, ask=0.0, comment='Request executed', request_id=64, retcode_external=0, request=TradeRequest(action=8, magic=0, order=5815645, symbol='', volume=0.0, price=0.0, stoplimit=0.0, sl=0.0, tp=0.0, deviation=0, type=0, type_filling=0, type_time=0, expiration=0, comment='', position=0, position_by=0))\n",
      "cancel: OrderSendResult(retcode=10009, deal=0, order=5844654, volume=0.12, price=0.0, bid=0.0, ask=0.0, comment='Request executed', request_id=65, retcode_external=0, request=TradeRequest(action=5, magic=9, order=0, symbol='NZDUSD', volume=0.12, price=0.69249, stoplimit=0.0, sl=0.6905600000000001, tp=0.0, deviation=10, type=2, type_filling=2, type_time=0, expiration=0, comment='sent by python', position=0, position_by=0))\n",
      "XAUUSD\n",
      "{'size': 0.02, 'dist': 9.48}\n",
      "current dist: 9.49\n",
      "cancel: OrderSendResult(retcode=10009, deal=0, order=5815646, volume=0.0, price=0.0, bid=0.0, ask=0.0, comment='Request executed', request_id=66, retcode_external=0, request=TradeRequest(action=8, magic=0, order=5815646, symbol='', volume=0.0, price=0.0, stoplimit=0.0, sl=0.0, tp=0.0, deviation=0, type=0, type_filling=0, type_time=0, expiration=0, comment='', position=0, position_by=0))\n",
      "cancel: OrderSendResult(retcode=10009, deal=0, order=5844655, volume=0.02, price=0.0, bid=0.0, ask=0.0, comment='Request executed', request_id=67, retcode_external=0, request=TradeRequest(action=5, magic=9, order=0, symbol='XAUUSD', volume=0.02, price=1745.95, stoplimit=0.0, sl=1736.47, tp=0.0, deviation=10, type=2, type_filling=2, type_time=0, expiration=0, comment='sent by python', position=0, position_by=0))\n",
      "EURAUD\n",
      "{'size': 0.09, 'dist': 0.00244}\n",
      "current dist: 0.0032\n",
      "cancel: OrderSendResult(retcode=10009, deal=0, order=5844603, volume=0.0, price=0.0, bid=0.0, ask=0.0, comment='Request executed', request_id=68, retcode_external=0, request=TradeRequest(action=8, magic=0, order=5844603, symbol='', volume=0.0, price=0.0, stoplimit=0.0, sl=0.0, tp=0.0, deviation=0, type=0, type_filling=0, type_time=0, expiration=0, comment='', position=0, position_by=0))\n",
      "cancel: OrderSendResult(retcode=10009, deal=0, order=5844656, volume=0.09, price=0.0, bid=0.0, ask=0.0, comment='Request executed', request_id=69, retcode_external=0, request=TradeRequest(action=5, magic=9, order=0, symbol='EURAUD', volume=0.09, price=1.58534, stoplimit=0.0, sl=1.58778, tp=0.0, deviation=10, type=3, type_filling=2, type_time=0, expiration=0, comment='sent by python', position=0, position_by=0))\n",
      "EURGBP\n",
      "{'size': 0.09, 'dist': 0.00257}\n",
      "current dist: 0.0019\n",
      "cancel: OrderSendResult(retcode=10009, deal=0, order=5844604, volume=0.0, price=0.0, bid=0.0, ask=0.0, comment='Request executed', request_id=70, retcode_external=0, request=TradeRequest(action=8, magic=0, order=5844604, symbol='', volume=0.0, price=0.0, stoplimit=0.0, sl=0.0, tp=0.0, deviation=0, type=0, type_filling=0, type_time=0, expiration=0, comment='', position=0, position_by=0))\n",
      "cancel: OrderSendResult(retcode=10009, deal=0, order=5844657, volume=0.09, price=0.0, bid=0.0, ask=0.0, comment='Request executed', request_id=71, retcode_external=0, request=TradeRequest(action=5, magic=9, order=0, symbol='EURGBP', volume=0.09, price=0.85439, stoplimit=0.0, sl=0.85182, tp=0.0, deviation=10, type=2, type_filling=2, type_time=0, expiration=0, comment='sent by python', position=0, position_by=0))\n",
      "EURNZD\n",
      "{'size': 0.09, 'dist': 0.00253}\n",
      "current dist: 0.0036\n",
      "cancel: OrderSendResult(retcode=10009, deal=0, order=5844605, volume=0.0, price=0.0, bid=0.0, ask=0.0, comment='Request executed', request_id=72, retcode_external=0, request=TradeRequest(action=8, magic=0, order=5844605, symbol='', volume=0.0, price=0.0, stoplimit=0.0, sl=0.0, tp=0.0, deviation=0, type=0, type_filling=0, type_time=0, expiration=0, comment='', position=0, position_by=0))\n",
      "cancel: OrderSendResult(retcode=10009, deal=0, order=5844658, volume=0.09, price=0.0, bid=0.0, ask=0.0, comment='Request executed', request_id=73, retcode_external=0, request=TradeRequest(action=5, magic=9, order=0, symbol='EURNZD', volume=0.09, price=1.69906, stoplimit=0.0, sl=1.70159, tp=0.0, deviation=10, type=3, type_filling=2, type_time=0, expiration=0, comment='sent by python', position=0, position_by=0))\n"
     ]
    }
   ],
   "source": [
    "for _ in o:\n",
    "    update_order(_)"
   ]
  },
  {
   "cell_type": "code",
   "execution_count": null,
   "metadata": {},
   "outputs": [],
   "source": []
  }
 ],
 "metadata": {
  "kernelspec": {
   "display_name": "Python 3",
   "language": "python",
   "name": "python3"
  },
  "language_info": {
   "codemirror_mode": {
    "name": "ipython",
    "version": 3
   },
   "file_extension": ".py",
   "mimetype": "text/x-python",
   "name": "python",
   "nbconvert_exporter": "python",
   "pygments_lexer": "ipython3",
   "version": "3.7.6"
  }
 },
 "nbformat": 4,
 "nbformat_minor": 4
}
