{
 "cells": [
  {
   "cell_type": "code",
   "execution_count": 1,
   "metadata": {},
   "outputs": [],
   "source": [
    "import requests, json\n",
    "from tqdm import tqdm\n",
    "from datetime import datetime\n",
    "import pandas as pd\n",
    "import urllib\n",
    "import time\n",
    "\n",
    "api = '2A955004026F4AEAAFA21FBCCA4A65FB'"
   ]
  },
  {
   "cell_type": "code",
   "execution_count": 2,
   "metadata": {},
   "outputs": [
    {
     "data": {
      "text/plain": [
       "962"
      ]
     },
     "execution_count": 2,
     "metadata": {},
     "output_type": "execute_result"
    }
   ],
   "source": [
    "with open(\"asins.txt\", \"r\") as f:\n",
    "    asins = f.read().split('\\n')\n",
    "asins = [x for x in asins if x != \"\"]\n",
    "len(asins)"
   ]
  },
  {
   "cell_type": "code",
   "execution_count": 3,
   "metadata": {},
   "outputs": [],
   "source": [
    "# # paste asins here\n",
    "# asins = [x for x in \"\"\"\n",
    "\n",
    "# B07FMQ8TV4\n",
    "# B015REH9L6\n",
    "# B0083COYZO\n",
    "# B005GRBH4K\n",
    "# B000TDMUH4\n",
    "\n",
    "# \"\"\".split('\\n') if x != '' and len(x) > 4]\n",
    "# print(len(asins))\n",
    "# print(len(set(asins)))"
   ]
  },
  {
   "cell_type": "code",
   "execution_count": 5,
   "metadata": {},
   "outputs": [],
   "source": [
    "# make collection\n",
    "def make_coll():\n",
    "    body = {\n",
    "      \"name\": datetime.strftime(datetime.now(), '%Y-%m-%d %H:%M'),\n",
    "      \"enabled\": True,\n",
    "      \"schedule_type\": \"manual\"\n",
    "    }\n",
    "    api_result = requests.post(\n",
    "        'https://api.rainforestapi.com/collections?api_key={}'.format(api), \n",
    "        json=body\n",
    "    )\n",
    "    api_response = api_result.json()\n",
    "    col = api_response['collection']['id']\n",
    "    return col\n",
    "\n",
    "# make offers payload\n",
    "def make_payload(type_, type_key, list_):\n",
    "    requests_ = []\n",
    "    for asin in list_:\n",
    "        request = {\n",
    "            'type': type_,\n",
    "            'amazon_domain': 'amazon.com',\n",
    "            type_key: asin,\n",
    "            'custom_id': '123'\n",
    "        }\n",
    "        requests_.append(request)\n",
    "    body = {\n",
    "        'requests': requests_\n",
    "    }\n",
    "    return body\n",
    "\n",
    "# add to collection\n",
    "def add_to_coll(col, body):\n",
    "    params = {\n",
    "      'api_key': api\n",
    "    }\n",
    "    result = requests.put(\n",
    "        'https://api.rainforestapi.com/collections/{}?api_key={}'.format(col, api), \n",
    "        json=body\n",
    "    )\n",
    "    r = result.json()\n",
    "    return r\n",
    "\n",
    "# start col\n",
    "def start_coll(col):\n",
    "    params = {\n",
    "      'api_key': api\n",
    "    }\n",
    "    result = requests.get('https://api.rainforestapi.com/collections/{}/start'.format(col), params)\n",
    "    r = result.json()\n",
    "    return r\n",
    "\n",
    "# check col\n",
    "def check_coll(col):\n",
    "    params = {\n",
    "      'api_key': api\n",
    "    }\n",
    "    result = requests.get(\n",
    "        'https://api.rainforestapi.com/collections/{}'.format(col), \n",
    "        params\n",
    "    )\n",
    "    response = result.json()\n",
    "    return response\n",
    "\n",
    "# get download link\n",
    "def get_dl(col):\n",
    "    params = {\n",
    "      'api_key': api\n",
    "    }\n",
    "    api_result = requests.get(\n",
    "        'https://api.rainforestapi.com/collections/{}/results/1'.format(col), \n",
    "        params\n",
    "    )\n",
    "    r = api_result.json()\n",
    "    url = r['result']['download_links']['pages'][0]\n",
    "    response = urllib.request.urlopen(url)\n",
    "    data = json.loads(response.read())\n",
    "    return data\n",
    "\n",
    "def check_until_done(col):\n",
    "    while True:\n",
    "        r = check_coll(col)\n",
    "        print(r['collection']['status'])\n",
    "        if r['collection']['status'] != 'idle':\n",
    "            time.sleep(10)\n",
    "        else:\n",
    "            break"
   ]
  },
  {
   "cell_type": "code",
   "execution_count": 69,
   "metadata": {},
   "outputs": [],
   "source": [
    "def run_get_offers(asins):\n",
    "    col = make_coll()\n",
    "    body = make_payload('offers', 'asin', list(set(asins)))\n",
    "    add_to_coll(col, body)\n",
    "    start_coll(col)\n",
    "    check_until_done(col)\n",
    "    return col"
   ]
  },
  {
   "cell_type": "code",
   "execution_count": 6,
   "metadata": {},
   "outputs": [],
   "source": [
    "# col = make_coll()"
   ]
  },
  {
   "cell_type": "code",
   "execution_count": 7,
   "metadata": {},
   "outputs": [],
   "source": [
    "# body = make_payload('offers', 'asin', list(set(asins)))"
   ]
  },
  {
   "cell_type": "code",
   "execution_count": 70,
   "metadata": {},
   "outputs": [],
   "source": [
    "# add_to_coll(col, body)"
   ]
  },
  {
   "cell_type": "code",
   "execution_count": 71,
   "metadata": {},
   "outputs": [],
   "source": [
    "# start_coll(col)"
   ]
  },
  {
   "cell_type": "code",
   "execution_count": 10,
   "metadata": {},
   "outputs": [],
   "source": [
    "# check_coll(col)"
   ]
  },
  {
   "cell_type": "code",
   "execution_count": 68,
   "metadata": {},
   "outputs": [],
   "source": [
    "# check_until_done(col)"
   ]
  },
  {
   "cell_type": "code",
   "execution_count": null,
   "metadata": {},
   "outputs": [],
   "source": [
    "col = run_get_offers(asins)"
   ]
  },
  {
   "cell_type": "code",
   "execution_count": 13,
   "metadata": {},
   "outputs": [],
   "source": [
    "data = get_dl(col)"
   ]
  },
  {
   "cell_type": "code",
   "execution_count": 14,
   "metadata": {},
   "outputs": [],
   "source": [
    "def build_offers_req(data):\n",
    "    offers = []\n",
    "    for x in data:\n",
    "        asin = x['request']['asin']\n",
    "        if 'offers' in x['result']:\n",
    "            for y in x['result']['offers']:\n",
    "                offer_name = y['seller']['name']\n",
    "                offer_id = y['seller']['id'] if 'id' in y['seller'] else None\n",
    "                offers.append({\n",
    "                    'asin': asin,\n",
    "                    'offer_name': offer_name,\n",
    "                    'offer_id': offer_id\n",
    "                })\n",
    "        else:\n",
    "            offers.append({\n",
    "                    'asin': asin,\n",
    "                    'offer_name': None,\n",
    "                    'offer_id': None\n",
    "                })\n",
    "    return offers"
   ]
  },
  {
   "cell_type": "code",
   "execution_count": 15,
   "metadata": {},
   "outputs": [],
   "source": [
    "offers = build_offers_req(data)"
   ]
  },
  {
   "cell_type": "code",
   "execution_count": 17,
   "metadata": {},
   "outputs": [],
   "source": [
    "# offers = [{\n",
    "#     'asin': x['request']['asin'],\n",
    "#     'offers': [{\n",
    "#         'name': y['seller']['name'],\n",
    "#         'id': y['seller']['id'] if 'id' in y['seller'] else None\n",
    "#     } if len(x['result']['offers']) else None for y in x['result']['offers']]\n",
    "# } for x in data]\n",
    "\n",
    "# [\n",
    "#     {\n",
    "#         'asin': x['request']['asin'],\n",
    "#         'name': y['seller']['name'],\n",
    "#         'id': y['seller']['id']\n",
    "#     } if len(x['result']['offers']) else None for y in x['result']['offers'] for x in data\n",
    "# ]\n",
    "\n",
    "# [{\n",
    "#         'asin': x['request']['asin'],\n",
    "#         'name': y['seller']['name'],\n",
    "#         'id': y['seller']['id']\n",
    "#     } if len(y) else None for y in x['result']['offers'] for x in data]"
   ]
  },
  {
   "cell_type": "code",
   "execution_count": 18,
   "metadata": {},
   "outputs": [],
   "source": [
    "# [x for x in pd.DataFrame(offers)['offer_id'].unique() if x != None]"
   ]
  },
  {
   "cell_type": "code",
   "execution_count": 19,
   "metadata": {},
   "outputs": [],
   "source": [
    "# body = make_payload('seller_profile', 'seller_id', [x for x in pd.DataFrame(offers)['offer_id'].unique() if x != None])"
   ]
  },
  {
   "cell_type": "code",
   "execution_count": 27,
   "metadata": {},
   "outputs": [],
   "source": [
    "# len(body['requests'])"
   ]
  },
  {
   "cell_type": "code",
   "execution_count": 51,
   "metadata": {},
   "outputs": [],
   "source": [
    "def get_all_sellers(offers):\n",
    "    body = make_payload(\n",
    "        'seller_profile', \n",
    "        'seller_id', \n",
    "        [x for x in pd.DataFrame(offers)['offer_id'].unique() if x != None]\n",
    "    )\n",
    "    print(len(body['requests']))\n",
    "    col = make_coll()\n",
    "    add_to_coll(col, body)\n",
    "    start_coll(col)\n",
    "    check_until_done(col)\n",
    "    return col"
   ]
  },
  {
   "cell_type": "code",
   "execution_count": 29,
   "metadata": {},
   "outputs": [],
   "source": [
    "# col = make_coll()"
   ]
  },
  {
   "cell_type": "code",
   "execution_count": 30,
   "metadata": {},
   "outputs": [],
   "source": [
    "# add_to_coll(col, body)"
   ]
  },
  {
   "cell_type": "code",
   "execution_count": 31,
   "metadata": {},
   "outputs": [],
   "source": [
    "# start_coll(col)"
   ]
  },
  {
   "cell_type": "code",
   "execution_count": 32,
   "metadata": {},
   "outputs": [],
   "source": [
    "# check_until_done(col)"
   ]
  },
  {
   "cell_type": "code",
   "execution_count": 33,
   "metadata": {},
   "outputs": [],
   "source": [
    "# check_coll(col)"
   ]
  },
  {
   "cell_type": "code",
   "execution_count": 35,
   "metadata": {
    "scrolled": true
   },
   "outputs": [
    {
     "name": "stdout",
     "output_type": "stream",
     "text": [
      "100\n",
      "queued\n",
      "running\n",
      "running\n",
      "idle\n"
     ]
    }
   ],
   "source": [
    "col = get_all_sellers(offers)"
   ]
  },
  {
   "cell_type": "code",
   "execution_count": 67,
   "metadata": {},
   "outputs": [],
   "source": [
    "# params = {\n",
    "#   'api_key': api\n",
    "# }\n",
    "\n",
    "# api_result = requests.get('https://api.rainforestapi.com/collections', params)\n",
    "# api_response = api_result.json()\n",
    "\n",
    "# print (\"Total Collections: \", api_response['total_count'])\n",
    "# for number, collection in enumerate(api_response['collections'], start=1):\n",
    "#     print (\"%s. %s\" % (number, collection['name']))\n",
    "\n",
    "# col = api_response['collections'][-1]['id']"
   ]
  },
  {
   "cell_type": "code",
   "execution_count": 59,
   "metadata": {},
   "outputs": [],
   "source": [
    "data = get_dl(col)"
   ]
  },
  {
   "cell_type": "code",
   "execution_count": 60,
   "metadata": {},
   "outputs": [],
   "source": [
    "def clean_data(data):\n",
    "    result = []\n",
    "    for x in data:\n",
    "        result.append({\n",
    "            'id': x['request']['seller_id'],\n",
    "            'url': x['result']['request_metadata']['amazon_url'],\n",
    "            'detail_name': x['result']['seller_details']['name'],\n",
    "            'detail_address': x['result']['seller_details']['detailed_information'],\n",
    "        })\n",
    "    result = pd.DataFrame(result)\n",
    "    result['address'] = result.apply(\n",
    "        lambda x: x['detail_address'].replace('Business Name: ', '').replace('Business Address: ', ''),\n",
    "        axis=1\n",
    "    )\n",
    "    result.drop(columns=['detail_address'], inplace=True)\n",
    "    return result"
   ]
  },
  {
   "cell_type": "code",
   "execution_count": 61,
   "metadata": {},
   "outputs": [],
   "source": [
    "# result = pd.DataFrame(result)"
   ]
  },
  {
   "cell_type": "code",
   "execution_count": 62,
   "metadata": {},
   "outputs": [],
   "source": [
    "# result['address'] = result.apply(lambda x: x['detail_address'].replace('Business Name: ', '').replace('Business Address: ', ''), axis=1)"
   ]
  },
  {
   "cell_type": "code",
   "execution_count": 63,
   "metadata": {},
   "outputs": [],
   "source": [
    "# result.drop(columns=['detail_address'], inplace=True)"
   ]
  },
  {
   "cell_type": "code",
   "execution_count": 64,
   "metadata": {},
   "outputs": [],
   "source": [
    "result = clean_data(data)"
   ]
  },
  {
   "cell_type": "code",
   "execution_count": 65,
   "metadata": {},
   "outputs": [
    {
     "data": {
      "text/html": [
       "<div>\n",
       "<style scoped>\n",
       "    .dataframe tbody tr th:only-of-type {\n",
       "        vertical-align: middle;\n",
       "    }\n",
       "\n",
       "    .dataframe tbody tr th {\n",
       "        vertical-align: top;\n",
       "    }\n",
       "\n",
       "    .dataframe thead th {\n",
       "        text-align: right;\n",
       "    }\n",
       "</style>\n",
       "<table border=\"1\" class=\"dataframe\">\n",
       "  <thead>\n",
       "    <tr style=\"text-align: right;\">\n",
       "      <th></th>\n",
       "      <th>id</th>\n",
       "      <th>url</th>\n",
       "      <th>detail_name</th>\n",
       "      <th>address</th>\n",
       "    </tr>\n",
       "  </thead>\n",
       "  <tbody>\n",
       "    <tr>\n",
       "      <th>0</th>\n",
       "      <td>AW729ASF30E9K</td>\n",
       "      <td>https://www.amazon.com/sp?seller=AW729ASF30E9K</td>\n",
       "      <td>me+</td>\n",
       "      <td>DIEGO L GIOL 412 N. Main Street Buffalo Wyomin...</td>\n",
       "    </tr>\n",
       "    <tr>\n",
       "      <th>1</th>\n",
       "      <td>AQUCGX4T1LI6Z</td>\n",
       "      <td>https://www.amazon.com/sp?seller=AQUCGX4T1LI6Z</td>\n",
       "      <td>VASU ENTERPRISE.</td>\n",
       "      <td>Viveksheel Chhibber 9-10, Street number 13A, C...</td>\n",
       "    </tr>\n",
       "    <tr>\n",
       "      <th>2</th>\n",
       "      <td>A1OVKRUZFQVFU</td>\n",
       "      <td>https://www.amazon.com/sp?seller=A1OVKRUZFQVFU</td>\n",
       "      <td>Natural Nutrient</td>\n",
       "      <td>SandJohn 970 W Valley Pkwy #417 Escondido CA 9...</td>\n",
       "    </tr>\n",
       "    <tr>\n",
       "      <th>3</th>\n",
       "      <td>A2JUJI5HUCMXMN</td>\n",
       "      <td>https://www.amazon.com/sp?seller=A2JUJI5HUCMXMN</td>\n",
       "      <td>IhoStore</td>\n",
       "      <td>UNIGRANDCOMMERCE LLC 7901 4th. St. N. Ste.300 ...</td>\n",
       "    </tr>\n",
       "    <tr>\n",
       "      <th>4</th>\n",
       "      <td>A19NVE4G6SOT2C</td>\n",
       "      <td>https://www.amazon.com/sp?seller=A19NVE4G6SOT2C</td>\n",
       "      <td>Kaspien</td>\n",
       "      <td>etailz, Inc. 2818 N. Sullivan Suite 130 Spokan...</td>\n",
       "    </tr>\n",
       "    <tr>\n",
       "      <th>...</th>\n",
       "      <td>...</td>\n",
       "      <td>...</td>\n",
       "      <td>...</td>\n",
       "      <td>...</td>\n",
       "    </tr>\n",
       "    <tr>\n",
       "      <th>95</th>\n",
       "      <td>A1SREZ8ZP696ZP</td>\n",
       "      <td>https://www.amazon.com/sp?seller=A1SREZ8ZP696ZP</td>\n",
       "      <td>Holly Hill Health Foods</td>\n",
       "      <td>Holly Hill Health Foods ATTN CAROLYN 1200 WELS...</td>\n",
       "    </tr>\n",
       "    <tr>\n",
       "      <th>96</th>\n",
       "      <td>A1ZQJXZ5RKYJEL</td>\n",
       "      <td>https://www.amazon.com/sp?seller=A1ZQJXZ5RKYJEL</td>\n",
       "      <td>Nature Expert</td>\n",
       "      <td>Sepunsa 16478 BEACH BLVD # 286 WESTMINSTER CA ...</td>\n",
       "    </tr>\n",
       "    <tr>\n",
       "      <th>97</th>\n",
       "      <td>A2DF3HGBR01ATY</td>\n",
       "      <td>https://www.amazon.com/sp?seller=A2DF3HGBR01ATY</td>\n",
       "      <td>Garner Supply</td>\n",
       "      <td>Salem Group Corp 105 Maxess Rd ste 124 Melvill...</td>\n",
       "    </tr>\n",
       "    <tr>\n",
       "      <th>98</th>\n",
       "      <td>A1QZO01ZLATCA5</td>\n",
       "      <td>https://www.amazon.com/sp?seller=A1QZO01ZLATCA5</td>\n",
       "      <td>Whitestone D</td>\n",
       "      <td>WHITESTONE DEVELOPMENT LLC P.O. Box 32 Clarksb...</td>\n",
       "    </tr>\n",
       "    <tr>\n",
       "      <th>99</th>\n",
       "      <td>A3VKSUKD2LQP58</td>\n",
       "      <td>https://www.amazon.com/sp?seller=A3VKSUKD2LQP58</td>\n",
       "      <td>Simonmall</td>\n",
       "      <td>IHOR HUT st. Darvina, 37 Rivne Rivnenska oblas...</td>\n",
       "    </tr>\n",
       "  </tbody>\n",
       "</table>\n",
       "<p>100 rows × 4 columns</p>\n",
       "</div>"
      ],
      "text/plain": [
       "                id                                              url  \\\n",
       "0    AW729ASF30E9K   https://www.amazon.com/sp?seller=AW729ASF30E9K   \n",
       "1    AQUCGX4T1LI6Z   https://www.amazon.com/sp?seller=AQUCGX4T1LI6Z   \n",
       "2    A1OVKRUZFQVFU   https://www.amazon.com/sp?seller=A1OVKRUZFQVFU   \n",
       "3   A2JUJI5HUCMXMN  https://www.amazon.com/sp?seller=A2JUJI5HUCMXMN   \n",
       "4   A19NVE4G6SOT2C  https://www.amazon.com/sp?seller=A19NVE4G6SOT2C   \n",
       "..             ...                                              ...   \n",
       "95  A1SREZ8ZP696ZP  https://www.amazon.com/sp?seller=A1SREZ8ZP696ZP   \n",
       "96  A1ZQJXZ5RKYJEL  https://www.amazon.com/sp?seller=A1ZQJXZ5RKYJEL   \n",
       "97  A2DF3HGBR01ATY  https://www.amazon.com/sp?seller=A2DF3HGBR01ATY   \n",
       "98  A1QZO01ZLATCA5  https://www.amazon.com/sp?seller=A1QZO01ZLATCA5   \n",
       "99  A3VKSUKD2LQP58  https://www.amazon.com/sp?seller=A3VKSUKD2LQP58   \n",
       "\n",
       "                detail_name                                            address  \n",
       "0                       me+  DIEGO L GIOL 412 N. Main Street Buffalo Wyomin...  \n",
       "1          VASU ENTERPRISE.  Viveksheel Chhibber 9-10, Street number 13A, C...  \n",
       "2          Natural Nutrient  SandJohn 970 W Valley Pkwy #417 Escondido CA 9...  \n",
       "3                  IhoStore  UNIGRANDCOMMERCE LLC 7901 4th. St. N. Ste.300 ...  \n",
       "4                   Kaspien  etailz, Inc. 2818 N. Sullivan Suite 130 Spokan...  \n",
       "..                      ...                                                ...  \n",
       "95  Holly Hill Health Foods  Holly Hill Health Foods ATTN CAROLYN 1200 WELS...  \n",
       "96            Nature Expert  Sepunsa 16478 BEACH BLVD # 286 WESTMINSTER CA ...  \n",
       "97            Garner Supply  Salem Group Corp 105 Maxess Rd ste 124 Melvill...  \n",
       "98             Whitestone D  WHITESTONE DEVELOPMENT LLC P.O. Box 32 Clarksb...  \n",
       "99                Simonmall  IHOR HUT st. Darvina, 37 Rivne Rivnenska oblas...  \n",
       "\n",
       "[100 rows x 4 columns]"
      ]
     },
     "execution_count": 65,
     "metadata": {},
     "output_type": "execute_result"
    }
   ],
   "source": [
    "result"
   ]
  },
  {
   "cell_type": "code",
   "execution_count": 66,
   "metadata": {},
   "outputs": [],
   "source": [
    "result.to_csv(datetime.strftime(datetime.now(), \"%Y%m%d\") + 'rfsellersaddress.csv', index=False)"
   ]
  },
  {
   "cell_type": "code",
   "execution_count": null,
   "metadata": {},
   "outputs": [],
   "source": []
  }
 ],
 "metadata": {
  "kernelspec": {
   "display_name": "Python 3",
   "language": "python",
   "name": "python3"
  },
  "language_info": {
   "codemirror_mode": {
    "name": "ipython",
    "version": 3
   },
   "file_extension": ".py",
   "mimetype": "text/x-python",
   "name": "python",
   "nbconvert_exporter": "python",
   "pygments_lexer": "ipython3",
   "version": "3.8.5"
  }
 },
 "nbformat": 4,
 "nbformat_minor": 4
}
