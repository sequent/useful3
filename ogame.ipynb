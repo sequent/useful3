{
 "cells": [
  {
   "cell_type": "code",
   "execution_count": 2,
   "metadata": {},
   "outputs": [],
   "source": [
    "# !pip install ogame"
   ]
  },
  {
   "cell_type": "code",
   "execution_count": 16,
   "metadata": {},
   "outputs": [],
   "source": [
    "# https://github.com/alaingilbert/pyogame/wiki/Code-Snippets"
   ]
  },
  {
   "cell_type": "code",
   "execution_count": 7,
   "metadata": {},
   "outputs": [],
   "source": [
    "from ogame import OGame, constants"
   ]
  },
  {
   "cell_type": "code",
   "execution_count": 31,
   "metadata": {},
   "outputs": [],
   "source": [
    "o = OGame(\n",
    "    universe=\"Ymir\",\n",
    "    username=\"samchakerian@gmail.com\",\n",
    "    password=\"$R3e@W1q1q\"\n",
    ")"
   ]
  },
  {
   "cell_type": "code",
   "execution_count": 25,
   "metadata": {},
   "outputs": [],
   "source": [
    "for id in o.planet_ids():\n",
    "    supply = o.supply(id)\n",
    "    res = o.resources(id)\n",
    "    if res.energy < 0:\n",
    "        o.build(constants.buildings.solar_plant, id)\n",
    "    if res.energy < 0 and not supply.solar_plant.is_possible:\n",
    "        o.build(constants.buildings.solar_satellite(100), id)\n",
    "    if supply.metal_mine.is_possible:\n",
    "        o.build(constants.buildings.metal_mine, id)\n",
    "    if supply.crystal_mine.is_possible:\n",
    "        o.build(constants.buildings.crystal_mine, id)\n",
    "    if supply.crystal_mine.is_possible:\n",
    "        o.build(constants.buildings.deuterium_mine, id)"
   ]
  },
  {
   "cell_type": "code",
   "execution_count": null,
   "metadata": {},
   "outputs": [],
   "source": []
  }
 ],
 "metadata": {
  "kernelspec": {
   "display_name": "Python 3",
   "language": "python",
   "name": "python3"
  },
  "language_info": {
   "codemirror_mode": {
    "name": "ipython",
    "version": 3
   },
   "file_extension": ".py",
   "mimetype": "text/x-python",
   "name": "python",
   "nbconvert_exporter": "python",
   "pygments_lexer": "ipython3",
   "version": "3.8.5"
  }
 },
 "nbformat": 4,
 "nbformat_minor": 4
}
