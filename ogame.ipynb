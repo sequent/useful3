{
 "cells": [
  {
   "cell_type": "code",
   "execution_count": null,
   "metadata": {},
   "outputs": [],
   "source": [
    "# !pip install ogame"
   ]
  },
  {
   "cell_type": "code",
   "execution_count": null,
   "metadata": {},
   "outputs": [],
   "source": [
    "# https://github.com/alaingilbert/pyogame/wiki/Code-Snippets"
   ]
  },
  {
   "cell_type": "code",
   "execution_count": 1,
   "metadata": {},
   "outputs": [],
   "source": [
    "from ogame import OGame, constants"
   ]
  },
  {
   "cell_type": "code",
   "execution_count": 31,
   "metadata": {},
   "outputs": [],
   "source": [
    "o = OGame(\n",
    "    universe=\"Ymir\",\n",
    "    username=\"samchakerian@gmail.com\",\n",
    "    password=\"$R3e@W1q1q\"\n",
    ")"
   ]
  },
  {
   "cell_type": "code",
   "execution_count": 32,
   "metadata": {},
   "outputs": [],
   "source": [
    "# for id in o.planet_ids():\n",
    "#     supply = o.supply(id)\n",
    "#     res = o.resources(id)\n",
    "#     if res.energy < 0:\n",
    "#         o.build(constants.buildings.solar_plant, id)\n",
    "#     if res.energy < 0 and not supply.solar_plant.is_possible:\n",
    "#         o.build(constants.buildings.solar_satellite(100), id)\n",
    "#     if supply.metal_mine.is_possible:\n",
    "#         o.build(constants.buildings.metal_mine, id)\n",
    "#     if supply.crystal_mine.is_possible:\n",
    "#         o.build(constants.buildings.crystal_mine, id)\n",
    "#     if supply.crystal_mine.is_possible:\n",
    "#         o.build(constants.buildings.deuterium_mine, id)"
   ]
  },
  {
   "cell_type": "code",
   "execution_count": 33,
   "metadata": {},
   "outputs": [
    {
     "data": {
      "text/plain": [
       "33624031"
      ]
     },
     "execution_count": 33,
     "metadata": {},
     "output_type": "execute_result"
    }
   ],
   "source": [
    "id = o.planet_ids()[0]\n",
    "id"
   ]
  },
  {
   "cell_type": "code",
   "execution_count": 34,
   "metadata": {},
   "outputs": [],
   "source": [
    "supply = o.supply(id)\n",
    "res = o.resources(id)"
   ]
  },
  {
   "cell_type": "code",
   "execution_count": 35,
   "metadata": {},
   "outputs": [
    {
     "data": {
      "text/plain": [
       "{'sp': False, 'mm': False, 'cm': False, 'dm': False}"
      ]
     },
     "execution_count": 35,
     "metadata": {},
     "output_type": "execute_result"
    }
   ],
   "source": [
    "# check bldg construction\n",
    "{\n",
    "    'sp': supply.solar_plant.in_construction,\n",
    "    'mm': supply.metal_mine.in_construction,\n",
    "    'cm': supply.crystal_mine.in_construction,\n",
    "    'dm': supply.deuterium_mine.in_construction\n",
    "}"
   ]
  },
  {
   "cell_type": "code",
   "execution_count": 36,
   "metadata": {},
   "outputs": [
    {
     "data": {
      "text/plain": [
       "{'sp': True, 'mm': True, 'cm': True, 'dm': True}"
      ]
     },
     "execution_count": 36,
     "metadata": {},
     "output_type": "execute_result"
    }
   ],
   "source": [
    "# is possible\n",
    "{\n",
    "    'sp': supply.solar_plant.is_possible,\n",
    "    'mm': supply.metal_mine.is_possible,\n",
    "    'cm': supply.crystal_mine.is_possible,\n",
    "    'dm': supply.deuterium_mine.is_possible\n",
    "}"
   ]
  },
  {
   "cell_type": "code",
   "execution_count": 29,
   "metadata": {},
   "outputs": [
    {
     "data": {
      "text/plain": [
       "{'sp': 149, 'mm': 7964, 'cm': 9265, 'dm': 0}"
      ]
     },
     "execution_count": 29,
     "metadata": {},
     "output_type": "execute_result"
    }
   ],
   "source": [
    "# check resources\n",
    "{\n",
    "    'sp': res.energy,\n",
    "    'mm': res.metal,\n",
    "    'cm': res.crystal,\n",
    "    'dm': res.deuterium\n",
    "}"
   ]
  },
  {
   "cell_type": "code",
   "execution_count": 30,
   "metadata": {},
   "outputs": [
    {
     "data": {
      "text/plain": [
       "{'sp': 7, 'mm': 2, 'cm': 3, 'dm': 0}"
      ]
     },
     "execution_count": 30,
     "metadata": {},
     "output_type": "execute_result"
    }
   ],
   "source": [
    "# check levels\n",
    "{\n",
    "    'sp': supply.solar_plant.level,\n",
    "    'mm': supply.metal_mine.level,\n",
    "    'cm': supply.crystal_mine.level,\n",
    "    'dm': supply.deuterium_mine.level\n",
    "}"
   ]
  },
  {
   "cell_type": "code",
   "execution_count": 25,
   "metadata": {},
   "outputs": [],
   "source": [
    "o.build(constants.buildings.solar_plant, id)"
   ]
  },
  {
   "cell_type": "code",
   "execution_count": 17,
   "metadata": {},
   "outputs": [
    {
     "data": {
      "text/plain": [
       "True"
      ]
     },
     "execution_count": 17,
     "metadata": {},
     "output_type": "execute_result"
    }
   ],
   "source": [
    "o.is_logged_in()"
   ]
  },
  {
   "cell_type": "code",
   "execution_count": 18,
   "metadata": {},
   "outputs": [
    {
     "data": {
      "text/plain": [
       "True"
      ]
     },
     "execution_count": 18,
     "metadata": {},
     "output_type": "execute_result"
    }
   ],
   "source": [
    "o.relogin()"
   ]
  },
  {
   "cell_type": "code",
   "execution_count": 19,
   "metadata": {},
   "outputs": [],
   "source": [
    "# # keep_going decorator\n",
    "# @empire.keep_going\n",
    "# def run():\n",
    "#     while True:\n",
    "#         print(empire.attacked())\n",
    "#         time.sleep(1)"
   ]
  },
  {
   "cell_type": "code",
   "execution_count": 40,
   "metadata": {},
   "outputs": [
    {
     "data": {
      "text/plain": [
       "False"
      ]
     },
     "execution_count": 40,
     "metadata": {},
     "output_type": "execute_result"
    }
   ],
   "source": [
    "o.logout()"
   ]
  },
  {
   "cell_type": "code",
   "execution_count": null,
   "metadata": {},
   "outputs": [],
   "source": []
  }
 ],
 "metadata": {
  "kernelspec": {
   "display_name": "Python 3",
   "language": "python",
   "name": "python3"
  },
  "language_info": {
   "codemirror_mode": {
    "name": "ipython",
    "version": 3
   },
   "file_extension": ".py",
   "mimetype": "text/x-python",
   "name": "python",
   "nbconvert_exporter": "python",
   "pygments_lexer": "ipython3",
   "version": "3.7.6"
  }
 },
 "nbformat": 4,
 "nbformat_minor": 4
}
